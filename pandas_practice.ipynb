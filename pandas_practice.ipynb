{
  "nbformat": 4,
  "nbformat_minor": 0,
  "metadata": {
    "colab": {
      "provenance": [],
      "collapsed_sections": [
        "ciVgY4qQB-wI",
        "WNemqjz_CXV8",
        "vZO2nhJhGNWR",
        "LGpMVL45HzM3",
        "C7vWFB2yIic1",
        "E8GAwnmuNTNR",
        "IOiL8h9rV4ZN",
        "F6S4XeYaXoop",
        "RUVBIwxOYtHI",
        "i0zO7aedcubv",
        "EHgTF4FncUn-",
        "hyE87s5Tf6ln",
        "GNYHvFg9hmuq",
        "uzpJvEFgiUNH",
        "9QLdLmzEpDGr",
        "uUKAC9HEsaKW",
        "u0NpIxEqtrau"
      ],
      "authorship_tag": "ABX9TyP3y0pXJjTxnAA5SJLOyB7m",
      "include_colab_link": true
    },
    "kernelspec": {
      "name": "python3",
      "display_name": "Python 3"
    },
    "language_info": {
      "name": "python"
    }
  },
  "cells": [
    {
      "cell_type": "markdown",
      "metadata": {
        "id": "view-in-github",
        "colab_type": "text"
      },
      "source": [
        "<a href=\"https://colab.research.google.com/github/carloshernangarrido/pandas_practice/blob/main/pandas_practice.ipynb\" target=\"_parent\"><img src=\"https://colab.research.google.com/assets/colab-badge.svg\" alt=\"Open In Colab\"/></a>"
      ]
    },
    {
      "cell_type": "code",
      "source": [
        "# Based on https://www.machinelearningplus.com/python/101-pandas-exercises-python/\n",
        "import pandas as pd\n",
        "import numpy as np"
      ],
      "metadata": {
        "id": "fftieaHgCJkS"
      },
      "execution_count": 1,
      "outputs": []
    },
    {
      "cell_type": "markdown",
      "source": [
        "# 2. How to create a series from a list, numpy array and dict?\n",
        "\n",
        "Create a pandas series from each of the items below: a list, numpy and a dictionary"
      ],
      "metadata": {
        "id": "ciVgY4qQB-wI"
      }
    },
    {
      "cell_type": "code",
      "source": [
        "mylist = list('abcedfghijklmnopqrstuvwxyz')\n",
        "myarr = np.arange(26)\n",
        "mydict = dict(zip(mylist, myarr))"
      ],
      "metadata": {
        "id": "d9PQ_1HyCGij"
      },
      "execution_count": 2,
      "outputs": []
    },
    {
      "cell_type": "code",
      "source": [
        "s_mylist = pd.Series(data=mylist)\n",
        "s_myarr = pd.Series(data=myarr)\n",
        "s_mydict = pd.Series(data=mydict)\n",
        "\n",
        "s_mydict.head()"
      ],
      "metadata": {
        "colab": {
          "base_uri": "https://localhost:8080/"
        },
        "id": "6aRoGcjfHRlL",
        "outputId": "49008acd-a746-43a6-c2be-5188e9a1d2b4"
      },
      "execution_count": 3,
      "outputs": [
        {
          "output_type": "execute_result",
          "data": {
            "text/plain": [
              "a    0\n",
              "b    1\n",
              "c    2\n",
              "e    3\n",
              "d    4\n",
              "dtype: int64"
            ]
          },
          "metadata": {},
          "execution_count": 3
        }
      ]
    },
    {
      "cell_type": "markdown",
      "source": [
        "# 3. How to convert the index of a series into a column of a dataframe?\n",
        "Difficulty Level: L1\n",
        "\n",
        "Convert the series ser into a dataframe with its index as another column on the dataframe.\n"
      ],
      "metadata": {
        "id": "WNemqjz_CXV8"
      }
    },
    {
      "cell_type": "code",
      "source": [
        "mylist = list('abcedfghijklmnopqrstuvwxyz')\n",
        "myarr = np.arange(26)\n",
        "mydict = dict(zip(mylist, myarr))\n",
        "ser = pd.Series(mydict)\n",
        "\n",
        "df = pd.DataFrame(data=ser)\n",
        "df['index'] = df.index\n",
        "df.index = myarr\n",
        "df.head()\n",
        "\n"
      ],
      "metadata": {
        "colab": {
          "base_uri": "https://localhost:8080/",
          "height": 0
        },
        "id": "9k8xkBLSDqdL",
        "outputId": "a962f956-8e3d-43b4-9434-27495ffc20d3"
      },
      "execution_count": 4,
      "outputs": [
        {
          "output_type": "execute_result",
          "data": {
            "text/plain": [
              "   0 index\n",
              "0  0     a\n",
              "1  1     b\n",
              "2  2     c\n",
              "3  3     e\n",
              "4  4     d"
            ],
            "text/html": [
              "\n",
              "  <div id=\"df-7c9e20f8-1f9c-45c1-b8f9-820b890bbb74\">\n",
              "    <div class=\"colab-df-container\">\n",
              "      <div>\n",
              "<style scoped>\n",
              "    .dataframe tbody tr th:only-of-type {\n",
              "        vertical-align: middle;\n",
              "    }\n",
              "\n",
              "    .dataframe tbody tr th {\n",
              "        vertical-align: top;\n",
              "    }\n",
              "\n",
              "    .dataframe thead th {\n",
              "        text-align: right;\n",
              "    }\n",
              "</style>\n",
              "<table border=\"1\" class=\"dataframe\">\n",
              "  <thead>\n",
              "    <tr style=\"text-align: right;\">\n",
              "      <th></th>\n",
              "      <th>0</th>\n",
              "      <th>index</th>\n",
              "    </tr>\n",
              "  </thead>\n",
              "  <tbody>\n",
              "    <tr>\n",
              "      <th>0</th>\n",
              "      <td>0</td>\n",
              "      <td>a</td>\n",
              "    </tr>\n",
              "    <tr>\n",
              "      <th>1</th>\n",
              "      <td>1</td>\n",
              "      <td>b</td>\n",
              "    </tr>\n",
              "    <tr>\n",
              "      <th>2</th>\n",
              "      <td>2</td>\n",
              "      <td>c</td>\n",
              "    </tr>\n",
              "    <tr>\n",
              "      <th>3</th>\n",
              "      <td>3</td>\n",
              "      <td>e</td>\n",
              "    </tr>\n",
              "    <tr>\n",
              "      <th>4</th>\n",
              "      <td>4</td>\n",
              "      <td>d</td>\n",
              "    </tr>\n",
              "  </tbody>\n",
              "</table>\n",
              "</div>\n",
              "      <button class=\"colab-df-convert\" onclick=\"convertToInteractive('df-7c9e20f8-1f9c-45c1-b8f9-820b890bbb74')\"\n",
              "              title=\"Convert this dataframe to an interactive table.\"\n",
              "              style=\"display:none;\">\n",
              "        \n",
              "  <svg xmlns=\"http://www.w3.org/2000/svg\" height=\"24px\"viewBox=\"0 0 24 24\"\n",
              "       width=\"24px\">\n",
              "    <path d=\"M0 0h24v24H0V0z\" fill=\"none\"/>\n",
              "    <path d=\"M18.56 5.44l.94 2.06.94-2.06 2.06-.94-2.06-.94-.94-2.06-.94 2.06-2.06.94zm-11 1L8.5 8.5l.94-2.06 2.06-.94-2.06-.94L8.5 2.5l-.94 2.06-2.06.94zm10 10l.94 2.06.94-2.06 2.06-.94-2.06-.94-.94-2.06-.94 2.06-2.06.94z\"/><path d=\"M17.41 7.96l-1.37-1.37c-.4-.4-.92-.59-1.43-.59-.52 0-1.04.2-1.43.59L10.3 9.45l-7.72 7.72c-.78.78-.78 2.05 0 2.83L4 21.41c.39.39.9.59 1.41.59.51 0 1.02-.2 1.41-.59l7.78-7.78 2.81-2.81c.8-.78.8-2.07 0-2.86zM5.41 20L4 18.59l7.72-7.72 1.47 1.35L5.41 20z\"/>\n",
              "  </svg>\n",
              "      </button>\n",
              "      \n",
              "  <style>\n",
              "    .colab-df-container {\n",
              "      display:flex;\n",
              "      flex-wrap:wrap;\n",
              "      gap: 12px;\n",
              "    }\n",
              "\n",
              "    .colab-df-convert {\n",
              "      background-color: #E8F0FE;\n",
              "      border: none;\n",
              "      border-radius: 50%;\n",
              "      cursor: pointer;\n",
              "      display: none;\n",
              "      fill: #1967D2;\n",
              "      height: 32px;\n",
              "      padding: 0 0 0 0;\n",
              "      width: 32px;\n",
              "    }\n",
              "\n",
              "    .colab-df-convert:hover {\n",
              "      background-color: #E2EBFA;\n",
              "      box-shadow: 0px 1px 2px rgba(60, 64, 67, 0.3), 0px 1px 3px 1px rgba(60, 64, 67, 0.15);\n",
              "      fill: #174EA6;\n",
              "    }\n",
              "\n",
              "    [theme=dark] .colab-df-convert {\n",
              "      background-color: #3B4455;\n",
              "      fill: #D2E3FC;\n",
              "    }\n",
              "\n",
              "    [theme=dark] .colab-df-convert:hover {\n",
              "      background-color: #434B5C;\n",
              "      box-shadow: 0px 1px 3px 1px rgba(0, 0, 0, 0.15);\n",
              "      filter: drop-shadow(0px 1px 2px rgba(0, 0, 0, 0.3));\n",
              "      fill: #FFFFFF;\n",
              "    }\n",
              "  </style>\n",
              "\n",
              "      <script>\n",
              "        const buttonEl =\n",
              "          document.querySelector('#df-7c9e20f8-1f9c-45c1-b8f9-820b890bbb74 button.colab-df-convert');\n",
              "        buttonEl.style.display =\n",
              "          google.colab.kernel.accessAllowed ? 'block' : 'none';\n",
              "\n",
              "        async function convertToInteractive(key) {\n",
              "          const element = document.querySelector('#df-7c9e20f8-1f9c-45c1-b8f9-820b890bbb74');\n",
              "          const dataTable =\n",
              "            await google.colab.kernel.invokeFunction('convertToInteractive',\n",
              "                                                     [key], {});\n",
              "          if (!dataTable) return;\n",
              "\n",
              "          const docLinkHtml = 'Like what you see? Visit the ' +\n",
              "            '<a target=\"_blank\" href=https://colab.research.google.com/notebooks/data_table.ipynb>data table notebook</a>'\n",
              "            + ' to learn more about interactive tables.';\n",
              "          element.innerHTML = '';\n",
              "          dataTable['output_type'] = 'display_data';\n",
              "          await google.colab.output.renderOutput(dataTable, element);\n",
              "          const docLink = document.createElement('div');\n",
              "          docLink.innerHTML = docLinkHtml;\n",
              "          element.appendChild(docLink);\n",
              "        }\n",
              "      </script>\n",
              "    </div>\n",
              "  </div>\n",
              "  "
            ]
          },
          "metadata": {},
          "execution_count": 4
        }
      ]
    },
    {
      "cell_type": "code",
      "source": [
        "df = ser.to_frame().reset_index()\n",
        "df.head()\n",
        "\n"
      ],
      "metadata": {
        "colab": {
          "base_uri": "https://localhost:8080/",
          "height": 0
        },
        "id": "s_H6kcVwE45j",
        "outputId": "1040efa2-eeb7-44d7-f43b-ea536dd380e1"
      },
      "execution_count": 5,
      "outputs": [
        {
          "output_type": "execute_result",
          "data": {
            "text/plain": [
              "  index  0\n",
              "0     a  0\n",
              "1     b  1\n",
              "2     c  2\n",
              "3     e  3\n",
              "4     d  4"
            ],
            "text/html": [
              "\n",
              "  <div id=\"df-4e90332d-b2d7-4a3c-afcc-24a1c1c79528\">\n",
              "    <div class=\"colab-df-container\">\n",
              "      <div>\n",
              "<style scoped>\n",
              "    .dataframe tbody tr th:only-of-type {\n",
              "        vertical-align: middle;\n",
              "    }\n",
              "\n",
              "    .dataframe tbody tr th {\n",
              "        vertical-align: top;\n",
              "    }\n",
              "\n",
              "    .dataframe thead th {\n",
              "        text-align: right;\n",
              "    }\n",
              "</style>\n",
              "<table border=\"1\" class=\"dataframe\">\n",
              "  <thead>\n",
              "    <tr style=\"text-align: right;\">\n",
              "      <th></th>\n",
              "      <th>index</th>\n",
              "      <th>0</th>\n",
              "    </tr>\n",
              "  </thead>\n",
              "  <tbody>\n",
              "    <tr>\n",
              "      <th>0</th>\n",
              "      <td>a</td>\n",
              "      <td>0</td>\n",
              "    </tr>\n",
              "    <tr>\n",
              "      <th>1</th>\n",
              "      <td>b</td>\n",
              "      <td>1</td>\n",
              "    </tr>\n",
              "    <tr>\n",
              "      <th>2</th>\n",
              "      <td>c</td>\n",
              "      <td>2</td>\n",
              "    </tr>\n",
              "    <tr>\n",
              "      <th>3</th>\n",
              "      <td>e</td>\n",
              "      <td>3</td>\n",
              "    </tr>\n",
              "    <tr>\n",
              "      <th>4</th>\n",
              "      <td>d</td>\n",
              "      <td>4</td>\n",
              "    </tr>\n",
              "  </tbody>\n",
              "</table>\n",
              "</div>\n",
              "      <button class=\"colab-df-convert\" onclick=\"convertToInteractive('df-4e90332d-b2d7-4a3c-afcc-24a1c1c79528')\"\n",
              "              title=\"Convert this dataframe to an interactive table.\"\n",
              "              style=\"display:none;\">\n",
              "        \n",
              "  <svg xmlns=\"http://www.w3.org/2000/svg\" height=\"24px\"viewBox=\"0 0 24 24\"\n",
              "       width=\"24px\">\n",
              "    <path d=\"M0 0h24v24H0V0z\" fill=\"none\"/>\n",
              "    <path d=\"M18.56 5.44l.94 2.06.94-2.06 2.06-.94-2.06-.94-.94-2.06-.94 2.06-2.06.94zm-11 1L8.5 8.5l.94-2.06 2.06-.94-2.06-.94L8.5 2.5l-.94 2.06-2.06.94zm10 10l.94 2.06.94-2.06 2.06-.94-2.06-.94-.94-2.06-.94 2.06-2.06.94z\"/><path d=\"M17.41 7.96l-1.37-1.37c-.4-.4-.92-.59-1.43-.59-.52 0-1.04.2-1.43.59L10.3 9.45l-7.72 7.72c-.78.78-.78 2.05 0 2.83L4 21.41c.39.39.9.59 1.41.59.51 0 1.02-.2 1.41-.59l7.78-7.78 2.81-2.81c.8-.78.8-2.07 0-2.86zM5.41 20L4 18.59l7.72-7.72 1.47 1.35L5.41 20z\"/>\n",
              "  </svg>\n",
              "      </button>\n",
              "      \n",
              "  <style>\n",
              "    .colab-df-container {\n",
              "      display:flex;\n",
              "      flex-wrap:wrap;\n",
              "      gap: 12px;\n",
              "    }\n",
              "\n",
              "    .colab-df-convert {\n",
              "      background-color: #E8F0FE;\n",
              "      border: none;\n",
              "      border-radius: 50%;\n",
              "      cursor: pointer;\n",
              "      display: none;\n",
              "      fill: #1967D2;\n",
              "      height: 32px;\n",
              "      padding: 0 0 0 0;\n",
              "      width: 32px;\n",
              "    }\n",
              "\n",
              "    .colab-df-convert:hover {\n",
              "      background-color: #E2EBFA;\n",
              "      box-shadow: 0px 1px 2px rgba(60, 64, 67, 0.3), 0px 1px 3px 1px rgba(60, 64, 67, 0.15);\n",
              "      fill: #174EA6;\n",
              "    }\n",
              "\n",
              "    [theme=dark] .colab-df-convert {\n",
              "      background-color: #3B4455;\n",
              "      fill: #D2E3FC;\n",
              "    }\n",
              "\n",
              "    [theme=dark] .colab-df-convert:hover {\n",
              "      background-color: #434B5C;\n",
              "      box-shadow: 0px 1px 3px 1px rgba(0, 0, 0, 0.15);\n",
              "      filter: drop-shadow(0px 1px 2px rgba(0, 0, 0, 0.3));\n",
              "      fill: #FFFFFF;\n",
              "    }\n",
              "  </style>\n",
              "\n",
              "      <script>\n",
              "        const buttonEl =\n",
              "          document.querySelector('#df-4e90332d-b2d7-4a3c-afcc-24a1c1c79528 button.colab-df-convert');\n",
              "        buttonEl.style.display =\n",
              "          google.colab.kernel.accessAllowed ? 'block' : 'none';\n",
              "\n",
              "        async function convertToInteractive(key) {\n",
              "          const element = document.querySelector('#df-4e90332d-b2d7-4a3c-afcc-24a1c1c79528');\n",
              "          const dataTable =\n",
              "            await google.colab.kernel.invokeFunction('convertToInteractive',\n",
              "                                                     [key], {});\n",
              "          if (!dataTable) return;\n",
              "\n",
              "          const docLinkHtml = 'Like what you see? Visit the ' +\n",
              "            '<a target=\"_blank\" href=https://colab.research.google.com/notebooks/data_table.ipynb>data table notebook</a>'\n",
              "            + ' to learn more about interactive tables.';\n",
              "          element.innerHTML = '';\n",
              "          dataTable['output_type'] = 'display_data';\n",
              "          await google.colab.output.renderOutput(dataTable, element);\n",
              "          const docLink = document.createElement('div');\n",
              "          docLink.innerHTML = docLinkHtml;\n",
              "          element.appendChild(docLink);\n",
              "        }\n",
              "      </script>\n",
              "    </div>\n",
              "  </div>\n",
              "  "
            ]
          },
          "metadata": {},
          "execution_count": 5
        }
      ]
    },
    {
      "cell_type": "markdown",
      "source": [
        "# 4. How to combine many series to form a dataframe?\n",
        "Difficulty Level: L1\n",
        "\n",
        "Combine ser1 and ser2 to form a dataframe."
      ],
      "metadata": {
        "id": "vZO2nhJhGNWR"
      }
    },
    {
      "cell_type": "code",
      "source": [
        "ser1 = pd.Series(list('abcedfghijklmnopqrstuvwxyz'))\n",
        "ser2 = pd.Series(np.arange(26))"
      ],
      "metadata": {
        "id": "nZDWRt0uGSDm"
      },
      "execution_count": 6,
      "outputs": []
    },
    {
      "cell_type": "code",
      "source": [
        "df = pd.DataFrame(data={'ser1': ser1, 'ser2': ser2})\n",
        "df.head()"
      ],
      "metadata": {
        "colab": {
          "base_uri": "https://localhost:8080/",
          "height": 0
        },
        "id": "ubhUFj7lGfGj",
        "outputId": "a715812c-b2b9-40cc-de26-db57de5cd0a6"
      },
      "execution_count": 7,
      "outputs": [
        {
          "output_type": "execute_result",
          "data": {
            "text/plain": [
              "  ser1  ser2\n",
              "0    a     0\n",
              "1    b     1\n",
              "2    c     2\n",
              "3    e     3\n",
              "4    d     4"
            ],
            "text/html": [
              "\n",
              "  <div id=\"df-d64dedc2-e969-4175-878b-7272ffbf64a9\">\n",
              "    <div class=\"colab-df-container\">\n",
              "      <div>\n",
              "<style scoped>\n",
              "    .dataframe tbody tr th:only-of-type {\n",
              "        vertical-align: middle;\n",
              "    }\n",
              "\n",
              "    .dataframe tbody tr th {\n",
              "        vertical-align: top;\n",
              "    }\n",
              "\n",
              "    .dataframe thead th {\n",
              "        text-align: right;\n",
              "    }\n",
              "</style>\n",
              "<table border=\"1\" class=\"dataframe\">\n",
              "  <thead>\n",
              "    <tr style=\"text-align: right;\">\n",
              "      <th></th>\n",
              "      <th>ser1</th>\n",
              "      <th>ser2</th>\n",
              "    </tr>\n",
              "  </thead>\n",
              "  <tbody>\n",
              "    <tr>\n",
              "      <th>0</th>\n",
              "      <td>a</td>\n",
              "      <td>0</td>\n",
              "    </tr>\n",
              "    <tr>\n",
              "      <th>1</th>\n",
              "      <td>b</td>\n",
              "      <td>1</td>\n",
              "    </tr>\n",
              "    <tr>\n",
              "      <th>2</th>\n",
              "      <td>c</td>\n",
              "      <td>2</td>\n",
              "    </tr>\n",
              "    <tr>\n",
              "      <th>3</th>\n",
              "      <td>e</td>\n",
              "      <td>3</td>\n",
              "    </tr>\n",
              "    <tr>\n",
              "      <th>4</th>\n",
              "      <td>d</td>\n",
              "      <td>4</td>\n",
              "    </tr>\n",
              "  </tbody>\n",
              "</table>\n",
              "</div>\n",
              "      <button class=\"colab-df-convert\" onclick=\"convertToInteractive('df-d64dedc2-e969-4175-878b-7272ffbf64a9')\"\n",
              "              title=\"Convert this dataframe to an interactive table.\"\n",
              "              style=\"display:none;\">\n",
              "        \n",
              "  <svg xmlns=\"http://www.w3.org/2000/svg\" height=\"24px\"viewBox=\"0 0 24 24\"\n",
              "       width=\"24px\">\n",
              "    <path d=\"M0 0h24v24H0V0z\" fill=\"none\"/>\n",
              "    <path d=\"M18.56 5.44l.94 2.06.94-2.06 2.06-.94-2.06-.94-.94-2.06-.94 2.06-2.06.94zm-11 1L8.5 8.5l.94-2.06 2.06-.94-2.06-.94L8.5 2.5l-.94 2.06-2.06.94zm10 10l.94 2.06.94-2.06 2.06-.94-2.06-.94-.94-2.06-.94 2.06-2.06.94z\"/><path d=\"M17.41 7.96l-1.37-1.37c-.4-.4-.92-.59-1.43-.59-.52 0-1.04.2-1.43.59L10.3 9.45l-7.72 7.72c-.78.78-.78 2.05 0 2.83L4 21.41c.39.39.9.59 1.41.59.51 0 1.02-.2 1.41-.59l7.78-7.78 2.81-2.81c.8-.78.8-2.07 0-2.86zM5.41 20L4 18.59l7.72-7.72 1.47 1.35L5.41 20z\"/>\n",
              "  </svg>\n",
              "      </button>\n",
              "      \n",
              "  <style>\n",
              "    .colab-df-container {\n",
              "      display:flex;\n",
              "      flex-wrap:wrap;\n",
              "      gap: 12px;\n",
              "    }\n",
              "\n",
              "    .colab-df-convert {\n",
              "      background-color: #E8F0FE;\n",
              "      border: none;\n",
              "      border-radius: 50%;\n",
              "      cursor: pointer;\n",
              "      display: none;\n",
              "      fill: #1967D2;\n",
              "      height: 32px;\n",
              "      padding: 0 0 0 0;\n",
              "      width: 32px;\n",
              "    }\n",
              "\n",
              "    .colab-df-convert:hover {\n",
              "      background-color: #E2EBFA;\n",
              "      box-shadow: 0px 1px 2px rgba(60, 64, 67, 0.3), 0px 1px 3px 1px rgba(60, 64, 67, 0.15);\n",
              "      fill: #174EA6;\n",
              "    }\n",
              "\n",
              "    [theme=dark] .colab-df-convert {\n",
              "      background-color: #3B4455;\n",
              "      fill: #D2E3FC;\n",
              "    }\n",
              "\n",
              "    [theme=dark] .colab-df-convert:hover {\n",
              "      background-color: #434B5C;\n",
              "      box-shadow: 0px 1px 3px 1px rgba(0, 0, 0, 0.15);\n",
              "      filter: drop-shadow(0px 1px 2px rgba(0, 0, 0, 0.3));\n",
              "      fill: #FFFFFF;\n",
              "    }\n",
              "  </style>\n",
              "\n",
              "      <script>\n",
              "        const buttonEl =\n",
              "          document.querySelector('#df-d64dedc2-e969-4175-878b-7272ffbf64a9 button.colab-df-convert');\n",
              "        buttonEl.style.display =\n",
              "          google.colab.kernel.accessAllowed ? 'block' : 'none';\n",
              "\n",
              "        async function convertToInteractive(key) {\n",
              "          const element = document.querySelector('#df-d64dedc2-e969-4175-878b-7272ffbf64a9');\n",
              "          const dataTable =\n",
              "            await google.colab.kernel.invokeFunction('convertToInteractive',\n",
              "                                                     [key], {});\n",
              "          if (!dataTable) return;\n",
              "\n",
              "          const docLinkHtml = 'Like what you see? Visit the ' +\n",
              "            '<a target=\"_blank\" href=https://colab.research.google.com/notebooks/data_table.ipynb>data table notebook</a>'\n",
              "            + ' to learn more about interactive tables.';\n",
              "          element.innerHTML = '';\n",
              "          dataTable['output_type'] = 'display_data';\n",
              "          await google.colab.output.renderOutput(dataTable, element);\n",
              "          const docLink = document.createElement('div');\n",
              "          docLink.innerHTML = docLinkHtml;\n",
              "          element.appendChild(docLink);\n",
              "        }\n",
              "      </script>\n",
              "    </div>\n",
              "  </div>\n",
              "  "
            ]
          },
          "metadata": {},
          "execution_count": 7
        }
      ]
    },
    {
      "cell_type": "code",
      "source": [
        "df = pd.concat([ser1, ser2], axis=1)\n",
        "df.columns = ['ser1', 'ser2']\n",
        "df.head()"
      ],
      "metadata": {
        "colab": {
          "base_uri": "https://localhost:8080/",
          "height": 0
        },
        "id": "JHmCRXwfHKGM",
        "outputId": "85fcae6c-474e-48f7-f6bc-fdcab11d20da"
      },
      "execution_count": 8,
      "outputs": [
        {
          "output_type": "execute_result",
          "data": {
            "text/plain": [
              "  ser1  ser2\n",
              "0    a     0\n",
              "1    b     1\n",
              "2    c     2\n",
              "3    e     3\n",
              "4    d     4"
            ],
            "text/html": [
              "\n",
              "  <div id=\"df-acf1f679-cc63-4734-87e8-1fac22c09c0f\">\n",
              "    <div class=\"colab-df-container\">\n",
              "      <div>\n",
              "<style scoped>\n",
              "    .dataframe tbody tr th:only-of-type {\n",
              "        vertical-align: middle;\n",
              "    }\n",
              "\n",
              "    .dataframe tbody tr th {\n",
              "        vertical-align: top;\n",
              "    }\n",
              "\n",
              "    .dataframe thead th {\n",
              "        text-align: right;\n",
              "    }\n",
              "</style>\n",
              "<table border=\"1\" class=\"dataframe\">\n",
              "  <thead>\n",
              "    <tr style=\"text-align: right;\">\n",
              "      <th></th>\n",
              "      <th>ser1</th>\n",
              "      <th>ser2</th>\n",
              "    </tr>\n",
              "  </thead>\n",
              "  <tbody>\n",
              "    <tr>\n",
              "      <th>0</th>\n",
              "      <td>a</td>\n",
              "      <td>0</td>\n",
              "    </tr>\n",
              "    <tr>\n",
              "      <th>1</th>\n",
              "      <td>b</td>\n",
              "      <td>1</td>\n",
              "    </tr>\n",
              "    <tr>\n",
              "      <th>2</th>\n",
              "      <td>c</td>\n",
              "      <td>2</td>\n",
              "    </tr>\n",
              "    <tr>\n",
              "      <th>3</th>\n",
              "      <td>e</td>\n",
              "      <td>3</td>\n",
              "    </tr>\n",
              "    <tr>\n",
              "      <th>4</th>\n",
              "      <td>d</td>\n",
              "      <td>4</td>\n",
              "    </tr>\n",
              "  </tbody>\n",
              "</table>\n",
              "</div>\n",
              "      <button class=\"colab-df-convert\" onclick=\"convertToInteractive('df-acf1f679-cc63-4734-87e8-1fac22c09c0f')\"\n",
              "              title=\"Convert this dataframe to an interactive table.\"\n",
              "              style=\"display:none;\">\n",
              "        \n",
              "  <svg xmlns=\"http://www.w3.org/2000/svg\" height=\"24px\"viewBox=\"0 0 24 24\"\n",
              "       width=\"24px\">\n",
              "    <path d=\"M0 0h24v24H0V0z\" fill=\"none\"/>\n",
              "    <path d=\"M18.56 5.44l.94 2.06.94-2.06 2.06-.94-2.06-.94-.94-2.06-.94 2.06-2.06.94zm-11 1L8.5 8.5l.94-2.06 2.06-.94-2.06-.94L8.5 2.5l-.94 2.06-2.06.94zm10 10l.94 2.06.94-2.06 2.06-.94-2.06-.94-.94-2.06-.94 2.06-2.06.94z\"/><path d=\"M17.41 7.96l-1.37-1.37c-.4-.4-.92-.59-1.43-.59-.52 0-1.04.2-1.43.59L10.3 9.45l-7.72 7.72c-.78.78-.78 2.05 0 2.83L4 21.41c.39.39.9.59 1.41.59.51 0 1.02-.2 1.41-.59l7.78-7.78 2.81-2.81c.8-.78.8-2.07 0-2.86zM5.41 20L4 18.59l7.72-7.72 1.47 1.35L5.41 20z\"/>\n",
              "  </svg>\n",
              "      </button>\n",
              "      \n",
              "  <style>\n",
              "    .colab-df-container {\n",
              "      display:flex;\n",
              "      flex-wrap:wrap;\n",
              "      gap: 12px;\n",
              "    }\n",
              "\n",
              "    .colab-df-convert {\n",
              "      background-color: #E8F0FE;\n",
              "      border: none;\n",
              "      border-radius: 50%;\n",
              "      cursor: pointer;\n",
              "      display: none;\n",
              "      fill: #1967D2;\n",
              "      height: 32px;\n",
              "      padding: 0 0 0 0;\n",
              "      width: 32px;\n",
              "    }\n",
              "\n",
              "    .colab-df-convert:hover {\n",
              "      background-color: #E2EBFA;\n",
              "      box-shadow: 0px 1px 2px rgba(60, 64, 67, 0.3), 0px 1px 3px 1px rgba(60, 64, 67, 0.15);\n",
              "      fill: #174EA6;\n",
              "    }\n",
              "\n",
              "    [theme=dark] .colab-df-convert {\n",
              "      background-color: #3B4455;\n",
              "      fill: #D2E3FC;\n",
              "    }\n",
              "\n",
              "    [theme=dark] .colab-df-convert:hover {\n",
              "      background-color: #434B5C;\n",
              "      box-shadow: 0px 1px 3px 1px rgba(0, 0, 0, 0.15);\n",
              "      filter: drop-shadow(0px 1px 2px rgba(0, 0, 0, 0.3));\n",
              "      fill: #FFFFFF;\n",
              "    }\n",
              "  </style>\n",
              "\n",
              "      <script>\n",
              "        const buttonEl =\n",
              "          document.querySelector('#df-acf1f679-cc63-4734-87e8-1fac22c09c0f button.colab-df-convert');\n",
              "        buttonEl.style.display =\n",
              "          google.colab.kernel.accessAllowed ? 'block' : 'none';\n",
              "\n",
              "        async function convertToInteractive(key) {\n",
              "          const element = document.querySelector('#df-acf1f679-cc63-4734-87e8-1fac22c09c0f');\n",
              "          const dataTable =\n",
              "            await google.colab.kernel.invokeFunction('convertToInteractive',\n",
              "                                                     [key], {});\n",
              "          if (!dataTable) return;\n",
              "\n",
              "          const docLinkHtml = 'Like what you see? Visit the ' +\n",
              "            '<a target=\"_blank\" href=https://colab.research.google.com/notebooks/data_table.ipynb>data table notebook</a>'\n",
              "            + ' to learn more about interactive tables.';\n",
              "          element.innerHTML = '';\n",
              "          dataTable['output_type'] = 'display_data';\n",
              "          await google.colab.output.renderOutput(dataTable, element);\n",
              "          const docLink = document.createElement('div');\n",
              "          docLink.innerHTML = docLinkHtml;\n",
              "          element.appendChild(docLink);\n",
              "        }\n",
              "      </script>\n",
              "    </div>\n",
              "  </div>\n",
              "  "
            ]
          },
          "metadata": {},
          "execution_count": 8
        }
      ]
    },
    {
      "cell_type": "markdown",
      "source": [
        "# 5. How to assign name to the series’ index?\n",
        "Difficulty Level: L1\n",
        "Give a name to the series ser calling it ‘alphabets’."
      ],
      "metadata": {
        "id": "LGpMVL45HzM3"
      }
    },
    {
      "cell_type": "code",
      "source": [
        "ser = pd.Series(list('abcedfghijklmnopqrstuvwxyz'))\n"
      ],
      "metadata": {
        "id": "zWo_LXDQH9uc"
      },
      "execution_count": 9,
      "outputs": []
    },
    {
      "cell_type": "code",
      "source": [
        "print(ser.head())\n",
        "ser.name = 'alphabets'\n",
        "print(ser.head())"
      ],
      "metadata": {
        "colab": {
          "base_uri": "https://localhost:8080/"
        },
        "id": "tlsRpHZqH_0j",
        "outputId": "12ba3aa4-b7f7-4ab9-ad63-95ec888b9165"
      },
      "execution_count": 10,
      "outputs": [
        {
          "output_type": "stream",
          "name": "stdout",
          "text": [
            "0    a\n",
            "1    b\n",
            "2    c\n",
            "3    e\n",
            "4    d\n",
            "dtype: object\n",
            "0    a\n",
            "1    b\n",
            "2    c\n",
            "3    e\n",
            "4    d\n",
            "Name: alphabets, dtype: object\n"
          ]
        }
      ]
    },
    {
      "cell_type": "markdown",
      "source": [
        "# 6. How to get the items of series A not present in series B?\n",
        "Difficulty Level: L2\n",
        "\n",
        "From ser1 remove items present in ser2"
      ],
      "metadata": {
        "id": "C7vWFB2yIic1"
      }
    },
    {
      "cell_type": "code",
      "source": [
        "ser1 = pd.Series([1, 2, 3, 4, 5])\n",
        "ser2 = pd.Series([4, 5, 6, 7, 8])"
      ],
      "metadata": {
        "id": "XqVTJA31IjYa"
      },
      "execution_count": 11,
      "outputs": []
    },
    {
      "cell_type": "code",
      "source": [
        "indices1 = list(ser1.index)\n",
        "ser2_list = list(ser2)\n",
        "print(indices1)\n",
        "indices1_remove = [i for i in indices1 if ser1[i] in ser2_list]\n",
        "print(indices1_remove)\n",
        "ser1_ = ser1.drop(indices1_remove)\n",
        "print(ser1)\n",
        "print(ser1_)"
      ],
      "metadata": {
        "colab": {
          "base_uri": "https://localhost:8080/"
        },
        "id": "hbihx6ANImQ0",
        "outputId": "fd33bc49-5b6c-4856-ade8-c83cb54cab43"
      },
      "execution_count": 12,
      "outputs": [
        {
          "output_type": "stream",
          "name": "stdout",
          "text": [
            "[0, 1, 2, 3, 4]\n",
            "[3, 4]\n",
            "0    1\n",
            "1    2\n",
            "2    3\n",
            "3    4\n",
            "4    5\n",
            "dtype: int64\n",
            "0    1\n",
            "1    2\n",
            "2    3\n",
            "dtype: int64\n"
          ]
        }
      ]
    },
    {
      "cell_type": "code",
      "source": [
        "ser1_in_ser2 = ser1.isin(ser2)\n",
        "print(ser1_in_ser2)\n",
        "print(~ser1_in_ser2)\n",
        "ser1_ = ser1[~ser1_in_ser2]\n",
        "print(ser1_)\n",
        "ser1_ = ser1.drop(np.where(ser1_in_ser2)[0])\n",
        "print(ser1_)"
      ],
      "metadata": {
        "colab": {
          "base_uri": "https://localhost:8080/"
        },
        "id": "geP5AZJZLpM7",
        "outputId": "8f74142c-b8f0-48bb-b39a-eefe38494bde"
      },
      "execution_count": 13,
      "outputs": [
        {
          "output_type": "stream",
          "name": "stdout",
          "text": [
            "0    False\n",
            "1    False\n",
            "2    False\n",
            "3     True\n",
            "4     True\n",
            "dtype: bool\n",
            "0     True\n",
            "1     True\n",
            "2     True\n",
            "3    False\n",
            "4    False\n",
            "dtype: bool\n",
            "0    1\n",
            "1    2\n",
            "2    3\n",
            "dtype: int64\n",
            "0    1\n",
            "1    2\n",
            "2    3\n",
            "dtype: int64\n"
          ]
        }
      ]
    },
    {
      "cell_type": "markdown",
      "source": [
        "# 7. How to get the items not common to both series A and series B?\n",
        "Difficulty Level: L2\n",
        "Get all items of ser1 and ser2 not common to both.\n"
      ],
      "metadata": {
        "id": "E8GAwnmuNTNR"
      }
    },
    {
      "cell_type": "code",
      "source": [
        "ser1 = pd.Series([1, 2, 3, 4, 5])\n",
        "ser2 = pd.Series([4, 5, 6, 7, 8])"
      ],
      "metadata": {
        "id": "f2lYHtrLNcYY"
      },
      "execution_count": 14,
      "outputs": []
    },
    {
      "cell_type": "code",
      "source": [
        "ser1_notin_ser2 = ser1[~ser1.isin(ser2)]\n",
        "ser2_notin_ser1 = ser2[~ser2.isin(ser1)]\n",
        "print(ser1_notin_ser2, ser2_notin_ser1, sep='\\n')\n",
        "ser_notcommon_ = pd.concat([ser1_notin_ser2, ser2_notin_ser1])\n",
        "print(ser_notcommon_)\n",
        "ser_notcommon = ser_notcommon_.reset_index().drop('index', axis=1)\n",
        "print(ser_notcommon)"
      ],
      "metadata": {
        "id": "arEJDN37NekV",
        "colab": {
          "base_uri": "https://localhost:8080/"
        },
        "outputId": "40406092-1532-4a35-993c-cb013c95f4f4"
      },
      "execution_count": 15,
      "outputs": [
        {
          "output_type": "stream",
          "name": "stdout",
          "text": [
            "0    1\n",
            "1    2\n",
            "2    3\n",
            "dtype: int64\n",
            "2    6\n",
            "3    7\n",
            "4    8\n",
            "dtype: int64\n",
            "0    1\n",
            "1    2\n",
            "2    3\n",
            "2    6\n",
            "3    7\n",
            "4    8\n",
            "dtype: int64\n",
            "   0\n",
            "0  1\n",
            "1  2\n",
            "2  3\n",
            "3  6\n",
            "4  7\n",
            "5  8\n"
          ]
        }
      ]
    },
    {
      "cell_type": "code",
      "source": [
        "ser_u = pd.Series(np.union1d(ser1, ser2))  # union\n",
        "ser_i = pd.Series(np.intersect1d(ser1, ser2))  # intersect\n",
        "ser_notcommon = ser_u[~ser_u.isin(ser_i)]\n",
        "print(ser_notcommon)"
      ],
      "metadata": {
        "colab": {
          "base_uri": "https://localhost:8080/"
        },
        "id": "r1Ag8WXlPM7v",
        "outputId": "b04fc79e-3f7e-46a3-f5b0-be4a10ee08f6"
      },
      "execution_count": 16,
      "outputs": [
        {
          "output_type": "stream",
          "name": "stdout",
          "text": [
            "0    1\n",
            "1    2\n",
            "2    3\n",
            "5    6\n",
            "6    7\n",
            "7    8\n",
            "dtype: int64\n"
          ]
        }
      ]
    },
    {
      "cell_type": "markdown",
      "source": [
        "# 8. How to get the minimum, 25th percentile, median, 75th, and max of a numeric series?\n",
        "Difficuty Level: L2\n",
        "\n",
        "Compute the minimum, 25th percentile, median, 75th, and maximum of ser.\n"
      ],
      "metadata": {
        "id": "IOiL8h9rV4ZN"
      }
    },
    {
      "cell_type": "code",
      "source": [
        "ser = pd.Series(np.random.normal(10, 5, 25))"
      ],
      "metadata": {
        "id": "cvHrnNVwV-ua"
      },
      "execution_count": 17,
      "outputs": []
    },
    {
      "cell_type": "code",
      "source": [
        "# print(ser.describe())\n",
        "stats = ['min', '25%', '50%', '75%', 'max']\n",
        "for stat in stats:\n",
        "  print(stat, ': ', ser.describe()[stat], '\\n')"
      ],
      "metadata": {
        "colab": {
          "base_uri": "https://localhost:8080/"
        },
        "id": "dgIv0PQfWAXC",
        "outputId": "1b9de7b8-6fef-4f5c-e754-c1fff6862c24"
      },
      "execution_count": 18,
      "outputs": [
        {
          "output_type": "stream",
          "name": "stdout",
          "text": [
            "min :  2.6642093949434456 \n",
            "\n",
            "25% :  6.000615550458412 \n",
            "\n",
            "50% :  9.160218909602827 \n",
            "\n",
            "75% :  12.154313385056376 \n",
            "\n",
            "max :  17.48477778731835 \n",
            "\n"
          ]
        }
      ]
    },
    {
      "cell_type": "code",
      "source": [
        "np.percentile(ser, q=[0, 25, 50, 75, 100])"
      ],
      "metadata": {
        "colab": {
          "base_uri": "https://localhost:8080/"
        },
        "id": "HJrXeST-XnC7",
        "outputId": "fed2daae-cc2a-47c9-80ce-26cdeebcb9d9"
      },
      "execution_count": 19,
      "outputs": [
        {
          "output_type": "execute_result",
          "data": {
            "text/plain": [
              "array([ 2.66420939,  6.00061555,  9.16021891, 12.15431339, 17.48477779])"
            ]
          },
          "metadata": {},
          "execution_count": 19
        }
      ]
    },
    {
      "cell_type": "markdown",
      "source": [
        "# 9. How to get frequency counts of unique items of a series?\n",
        "Difficulty Level: L1\n",
        "\n",
        "Calculte the frequency counts of each unique value ser."
      ],
      "metadata": {
        "id": "F6S4XeYaXoop"
      }
    },
    {
      "cell_type": "code",
      "source": [
        "ser = pd.Series(np.take(list('abcdefgh'), np.random.randint(8, size=30)))\n",
        "ser.value_counts()"
      ],
      "metadata": {
        "colab": {
          "base_uri": "https://localhost:8080/"
        },
        "id": "Egc0UBYBXutj",
        "outputId": "ae3e8dd7-9975-40d0-af18-4924a449b51b"
      },
      "execution_count": 20,
      "outputs": [
        {
          "output_type": "execute_result",
          "data": {
            "text/plain": [
              "a    6\n",
              "h    6\n",
              "d    6\n",
              "e    5\n",
              "g    3\n",
              "b    2\n",
              "f    1\n",
              "c    1\n",
              "dtype: int64"
            ]
          },
          "metadata": {},
          "execution_count": 20
        }
      ]
    },
    {
      "cell_type": "markdown",
      "source": [
        "# 10. How to keep only top 2 most frequent values as it is and replace everything else as ‘Other’?\n",
        "Difficulty Level: L2\n",
        "\n",
        "From ser, keep the top 2 most frequent items as it is and replace everything else as ‘Other’.\n"
      ],
      "metadata": {
        "id": "RUVBIwxOYtHI"
      }
    },
    {
      "cell_type": "code",
      "source": [
        "np.random.RandomState(100)\n",
        "ser = pd.Series(np.random.randint(1, 5, [12]))\n",
        "ser"
      ],
      "metadata": {
        "colab": {
          "base_uri": "https://localhost:8080/"
        },
        "id": "3AsPSXOgYvG6",
        "outputId": "f552be85-a85b-4027-bcd7-a99864e0c56f"
      },
      "execution_count": 21,
      "outputs": [
        {
          "output_type": "execute_result",
          "data": {
            "text/plain": [
              "0     2\n",
              "1     3\n",
              "2     4\n",
              "3     1\n",
              "4     2\n",
              "5     1\n",
              "6     3\n",
              "7     2\n",
              "8     1\n",
              "9     2\n",
              "10    4\n",
              "11    4\n",
              "dtype: int64"
            ]
          },
          "metadata": {},
          "execution_count": 21
        }
      ]
    },
    {
      "cell_type": "code",
      "source": [
        "counts = ser.value_counts(sort=True, ascending=False)\n",
        "top2 = counts.index[0:2]\n",
        "print(top2)\n",
        "ser_ = ser.where((ser == top2[0]) | (ser == top2[1]), other='Other')\n",
        "ser_"
      ],
      "metadata": {
        "colab": {
          "base_uri": "https://localhost:8080/"
        },
        "id": "hPQFStTpY2Oy",
        "outputId": "675cd6c6-ebd0-48e7-fae0-a22d5f5a7a5d"
      },
      "execution_count": 22,
      "outputs": [
        {
          "output_type": "stream",
          "name": "stdout",
          "text": [
            "Int64Index([2, 4], dtype='int64')\n"
          ]
        },
        {
          "output_type": "execute_result",
          "data": {
            "text/plain": [
              "0         2\n",
              "1     Other\n",
              "2         4\n",
              "3     Other\n",
              "4         2\n",
              "5     Other\n",
              "6     Other\n",
              "7         2\n",
              "8     Other\n",
              "9         2\n",
              "10        4\n",
              "11        4\n",
              "dtype: object"
            ]
          },
          "metadata": {},
          "execution_count": 22
        }
      ]
    },
    {
      "cell_type": "code",
      "source": [
        "ser_ = ser.copy()\n",
        "bool_indices = ~ser_.isin(ser.value_counts(sort=True, ascending=False).index[0:2])\n",
        "print(bool_indices, end='\\n\\n')\n",
        "ser_[bool_indices] = 'Other'\n",
        "print(ser_)"
      ],
      "metadata": {
        "colab": {
          "base_uri": "https://localhost:8080/"
        },
        "id": "HkNfkwxzbvp8",
        "outputId": "bee9984c-62df-4da2-8705-e5ea4885b6c8"
      },
      "execution_count": 23,
      "outputs": [
        {
          "output_type": "stream",
          "name": "stdout",
          "text": [
            "0     False\n",
            "1      True\n",
            "2     False\n",
            "3      True\n",
            "4     False\n",
            "5      True\n",
            "6      True\n",
            "7     False\n",
            "8      True\n",
            "9     False\n",
            "10    False\n",
            "11    False\n",
            "dtype: bool\n",
            "\n",
            "0         2\n",
            "1     Other\n",
            "2         4\n",
            "3     Other\n",
            "4         2\n",
            "5     Other\n",
            "6     Other\n",
            "7         2\n",
            "8     Other\n",
            "9         2\n",
            "10        4\n",
            "11        4\n",
            "dtype: object\n"
          ]
        }
      ]
    },
    {
      "cell_type": "markdown",
      "source": [
        "# 11. How to bin a numeric series to 10 groups of equal size?\n",
        "Difficulty Level: L2\n",
        "\n",
        "Bin the series ser into 10 equal deciles and replace the values with the bin name.\n"
      ],
      "metadata": {
        "id": "i0zO7aedcubv"
      }
    },
    {
      "cell_type": "code",
      "source": [
        "ser = pd.Series(np.random.random(20))\n",
        "ser"
      ],
      "metadata": {
        "colab": {
          "base_uri": "https://localhost:8080/"
        },
        "id": "m_4-hjECc3JU",
        "outputId": "de0b03cc-ff87-4b29-9eaf-a3a2c0bd624b"
      },
      "execution_count": 24,
      "outputs": [
        {
          "output_type": "execute_result",
          "data": {
            "text/plain": [
              "0     0.473460\n",
              "1     0.877868\n",
              "2     0.157739\n",
              "3     0.828695\n",
              "4     0.794368\n",
              "5     0.881682\n",
              "6     0.514763\n",
              "7     0.753956\n",
              "8     0.493113\n",
              "9     0.939057\n",
              "10    0.049868\n",
              "11    0.647935\n",
              "12    0.284030\n",
              "13    0.268366\n",
              "14    0.079061\n",
              "15    0.017999\n",
              "16    0.220520\n",
              "17    0.494071\n",
              "18    0.953692\n",
              "19    0.504926\n",
              "dtype: float64"
            ]
          },
          "metadata": {},
          "execution_count": 24
        }
      ]
    },
    {
      "cell_type": "code",
      "source": [
        "ser_ = pd.qcut(ser, 10, labels=[f'#{i+1}' for i in range(10)])\n",
        "ser_"
      ],
      "metadata": {
        "colab": {
          "base_uri": "https://localhost:8080/"
        },
        "id": "4E7CFzTodynP",
        "outputId": "acf09a1b-a3ff-403b-9e70-c4430260bfc7"
      },
      "execution_count": 25,
      "outputs": [
        {
          "output_type": "execute_result",
          "data": {
            "text/plain": [
              "0      #4\n",
              "1      #9\n",
              "2      #2\n",
              "3      #8\n",
              "4      #8\n",
              "5      #9\n",
              "6      #6\n",
              "7      #7\n",
              "8      #5\n",
              "9     #10\n",
              "10     #1\n",
              "11     #7\n",
              "12     #4\n",
              "13     #3\n",
              "14     #2\n",
              "15     #1\n",
              "16     #3\n",
              "17     #5\n",
              "18    #10\n",
              "19     #6\n",
              "dtype: category\n",
              "Categories (10, object): ['#1' < '#2' < '#3' < '#4' ... '#7' < '#8' < '#9' < '#10']"
            ]
          },
          "metadata": {},
          "execution_count": 25
        }
      ]
    },
    {
      "cell_type": "code",
      "source": [
        "pd.qcut(ser, q=[0, .10, .20, .3, .4, .5, .6, .7, .8, .9, 1], \n",
        "        labels=['1st', '2nd', '3rd', '4th', '5th', '6th', '7th', '8th', '9th', '10th'])"
      ],
      "metadata": {
        "colab": {
          "base_uri": "https://localhost:8080/"
        },
        "id": "MbVI8IWxemmL",
        "outputId": "ec7b7827-c822-4b76-bb26-d0a94b146f28"
      },
      "execution_count": 26,
      "outputs": [
        {
          "output_type": "execute_result",
          "data": {
            "text/plain": [
              "0      4th\n",
              "1      9th\n",
              "2      2nd\n",
              "3      8th\n",
              "4      8th\n",
              "5      9th\n",
              "6      6th\n",
              "7      7th\n",
              "8      5th\n",
              "9     10th\n",
              "10     1st\n",
              "11     7th\n",
              "12     4th\n",
              "13     3rd\n",
              "14     2nd\n",
              "15     1st\n",
              "16     3rd\n",
              "17     5th\n",
              "18    10th\n",
              "19     6th\n",
              "dtype: category\n",
              "Categories (10, object): ['1st' < '2nd' < '3rd' < '4th' ... '7th' < '8th' < '9th' < '10th']"
            ]
          },
          "metadata": {},
          "execution_count": 26
        }
      ]
    },
    {
      "cell_type": "markdown",
      "source": [
        "# 12. How to convert a numpy array to a dataframe of given shape? (L1)\n",
        "Difficulty Level: L1\n",
        "\n",
        "Reshape the series ser into a dataframe with 7 rows and 5 columns\n"
      ],
      "metadata": {
        "id": "EHgTF4FncUn-"
      }
    },
    {
      "cell_type": "code",
      "source": [
        "ser = pd.Series(np.random.randint(1, 10, 35))\n",
        "ser.head()"
      ],
      "metadata": {
        "colab": {
          "base_uri": "https://localhost:8080/"
        },
        "id": "Cp6hjNuEe7sX",
        "outputId": "2be707dd-216a-401e-f13f-63a52e846f72"
      },
      "execution_count": 27,
      "outputs": [
        {
          "output_type": "execute_result",
          "data": {
            "text/plain": [
              "0    4\n",
              "1    2\n",
              "2    4\n",
              "3    9\n",
              "4    2\n",
              "dtype: int64"
            ]
          },
          "metadata": {},
          "execution_count": 27
        }
      ]
    },
    {
      "cell_type": "code",
      "source": [
        "df = pd.DataFrame(ser.values.reshape((7, 5)))\n",
        "df.head()"
      ],
      "metadata": {
        "colab": {
          "base_uri": "https://localhost:8080/",
          "height": 206
        },
        "id": "my4nEBype-O2",
        "outputId": "5f706ba7-3603-401e-cdf8-f7705dbc00a6"
      },
      "execution_count": 28,
      "outputs": [
        {
          "output_type": "execute_result",
          "data": {
            "text/plain": [
              "   0  1  2  3  4\n",
              "0  4  2  4  9  2\n",
              "1  5  2  1  5  8\n",
              "2  5  9  6  9  1\n",
              "3  2  6  3  8  2\n",
              "4  2  3  6  8  7"
            ],
            "text/html": [
              "\n",
              "  <div id=\"df-c2591c72-acd0-4ab0-af6a-b7528cad6215\">\n",
              "    <div class=\"colab-df-container\">\n",
              "      <div>\n",
              "<style scoped>\n",
              "    .dataframe tbody tr th:only-of-type {\n",
              "        vertical-align: middle;\n",
              "    }\n",
              "\n",
              "    .dataframe tbody tr th {\n",
              "        vertical-align: top;\n",
              "    }\n",
              "\n",
              "    .dataframe thead th {\n",
              "        text-align: right;\n",
              "    }\n",
              "</style>\n",
              "<table border=\"1\" class=\"dataframe\">\n",
              "  <thead>\n",
              "    <tr style=\"text-align: right;\">\n",
              "      <th></th>\n",
              "      <th>0</th>\n",
              "      <th>1</th>\n",
              "      <th>2</th>\n",
              "      <th>3</th>\n",
              "      <th>4</th>\n",
              "    </tr>\n",
              "  </thead>\n",
              "  <tbody>\n",
              "    <tr>\n",
              "      <th>0</th>\n",
              "      <td>4</td>\n",
              "      <td>2</td>\n",
              "      <td>4</td>\n",
              "      <td>9</td>\n",
              "      <td>2</td>\n",
              "    </tr>\n",
              "    <tr>\n",
              "      <th>1</th>\n",
              "      <td>5</td>\n",
              "      <td>2</td>\n",
              "      <td>1</td>\n",
              "      <td>5</td>\n",
              "      <td>8</td>\n",
              "    </tr>\n",
              "    <tr>\n",
              "      <th>2</th>\n",
              "      <td>5</td>\n",
              "      <td>9</td>\n",
              "      <td>6</td>\n",
              "      <td>9</td>\n",
              "      <td>1</td>\n",
              "    </tr>\n",
              "    <tr>\n",
              "      <th>3</th>\n",
              "      <td>2</td>\n",
              "      <td>6</td>\n",
              "      <td>3</td>\n",
              "      <td>8</td>\n",
              "      <td>2</td>\n",
              "    </tr>\n",
              "    <tr>\n",
              "      <th>4</th>\n",
              "      <td>2</td>\n",
              "      <td>3</td>\n",
              "      <td>6</td>\n",
              "      <td>8</td>\n",
              "      <td>7</td>\n",
              "    </tr>\n",
              "  </tbody>\n",
              "</table>\n",
              "</div>\n",
              "      <button class=\"colab-df-convert\" onclick=\"convertToInteractive('df-c2591c72-acd0-4ab0-af6a-b7528cad6215')\"\n",
              "              title=\"Convert this dataframe to an interactive table.\"\n",
              "              style=\"display:none;\">\n",
              "        \n",
              "  <svg xmlns=\"http://www.w3.org/2000/svg\" height=\"24px\"viewBox=\"0 0 24 24\"\n",
              "       width=\"24px\">\n",
              "    <path d=\"M0 0h24v24H0V0z\" fill=\"none\"/>\n",
              "    <path d=\"M18.56 5.44l.94 2.06.94-2.06 2.06-.94-2.06-.94-.94-2.06-.94 2.06-2.06.94zm-11 1L8.5 8.5l.94-2.06 2.06-.94-2.06-.94L8.5 2.5l-.94 2.06-2.06.94zm10 10l.94 2.06.94-2.06 2.06-.94-2.06-.94-.94-2.06-.94 2.06-2.06.94z\"/><path d=\"M17.41 7.96l-1.37-1.37c-.4-.4-.92-.59-1.43-.59-.52 0-1.04.2-1.43.59L10.3 9.45l-7.72 7.72c-.78.78-.78 2.05 0 2.83L4 21.41c.39.39.9.59 1.41.59.51 0 1.02-.2 1.41-.59l7.78-7.78 2.81-2.81c.8-.78.8-2.07 0-2.86zM5.41 20L4 18.59l7.72-7.72 1.47 1.35L5.41 20z\"/>\n",
              "  </svg>\n",
              "      </button>\n",
              "      \n",
              "  <style>\n",
              "    .colab-df-container {\n",
              "      display:flex;\n",
              "      flex-wrap:wrap;\n",
              "      gap: 12px;\n",
              "    }\n",
              "\n",
              "    .colab-df-convert {\n",
              "      background-color: #E8F0FE;\n",
              "      border: none;\n",
              "      border-radius: 50%;\n",
              "      cursor: pointer;\n",
              "      display: none;\n",
              "      fill: #1967D2;\n",
              "      height: 32px;\n",
              "      padding: 0 0 0 0;\n",
              "      width: 32px;\n",
              "    }\n",
              "\n",
              "    .colab-df-convert:hover {\n",
              "      background-color: #E2EBFA;\n",
              "      box-shadow: 0px 1px 2px rgba(60, 64, 67, 0.3), 0px 1px 3px 1px rgba(60, 64, 67, 0.15);\n",
              "      fill: #174EA6;\n",
              "    }\n",
              "\n",
              "    [theme=dark] .colab-df-convert {\n",
              "      background-color: #3B4455;\n",
              "      fill: #D2E3FC;\n",
              "    }\n",
              "\n",
              "    [theme=dark] .colab-df-convert:hover {\n",
              "      background-color: #434B5C;\n",
              "      box-shadow: 0px 1px 3px 1px rgba(0, 0, 0, 0.15);\n",
              "      filter: drop-shadow(0px 1px 2px rgba(0, 0, 0, 0.3));\n",
              "      fill: #FFFFFF;\n",
              "    }\n",
              "  </style>\n",
              "\n",
              "      <script>\n",
              "        const buttonEl =\n",
              "          document.querySelector('#df-c2591c72-acd0-4ab0-af6a-b7528cad6215 button.colab-df-convert');\n",
              "        buttonEl.style.display =\n",
              "          google.colab.kernel.accessAllowed ? 'block' : 'none';\n",
              "\n",
              "        async function convertToInteractive(key) {\n",
              "          const element = document.querySelector('#df-c2591c72-acd0-4ab0-af6a-b7528cad6215');\n",
              "          const dataTable =\n",
              "            await google.colab.kernel.invokeFunction('convertToInteractive',\n",
              "                                                     [key], {});\n",
              "          if (!dataTable) return;\n",
              "\n",
              "          const docLinkHtml = 'Like what you see? Visit the ' +\n",
              "            '<a target=\"_blank\" href=https://colab.research.google.com/notebooks/data_table.ipynb>data table notebook</a>'\n",
              "            + ' to learn more about interactive tables.';\n",
              "          element.innerHTML = '';\n",
              "          dataTable['output_type'] = 'display_data';\n",
              "          await google.colab.output.renderOutput(dataTable, element);\n",
              "          const docLink = document.createElement('div');\n",
              "          docLink.innerHTML = docLinkHtml;\n",
              "          element.appendChild(docLink);\n",
              "        }\n",
              "      </script>\n",
              "    </div>\n",
              "  </div>\n",
              "  "
            ]
          },
          "metadata": {},
          "execution_count": 28
        }
      ]
    },
    {
      "cell_type": "markdown",
      "source": [
        "# 13. How to find the positions of numbers that are multiples of 3 from a series?\n",
        "Difficulty Level: L2\n",
        "\n",
        "Find the positions of numbers that are multiples of 3 from ser.\n"
      ],
      "metadata": {
        "id": "hyE87s5Tf6ln"
      }
    },
    {
      "cell_type": "code",
      "source": [
        "ser = pd.Series(np.random.randint(1, 10, 7))\n",
        "ser"
      ],
      "metadata": {
        "colab": {
          "base_uri": "https://localhost:8080/"
        },
        "id": "nPKCnm2NgGEl",
        "outputId": "199d7de3-4ce2-49dc-9c2b-33cd35ed1680"
      },
      "execution_count": 29,
      "outputs": [
        {
          "output_type": "execute_result",
          "data": {
            "text/plain": [
              "0    2\n",
              "1    8\n",
              "2    9\n",
              "3    9\n",
              "4    7\n",
              "5    5\n",
              "6    4\n",
              "dtype: int64"
            ]
          },
          "metadata": {},
          "execution_count": 29
        }
      ]
    },
    {
      "cell_type": "code",
      "source": [
        "[i for i in ser.index if ser[i] % 3 == 0]"
      ],
      "metadata": {
        "colab": {
          "base_uri": "https://localhost:8080/"
        },
        "id": "lqm05EmzgJCc",
        "outputId": "5b270bd3-14c9-4935-8566-436ad550237c"
      },
      "execution_count": 30,
      "outputs": [
        {
          "output_type": "execute_result",
          "data": {
            "text/plain": [
              "[2, 3]"
            ]
          },
          "metadata": {},
          "execution_count": 30
        }
      ]
    },
    {
      "cell_type": "code",
      "source": [
        "df = pd.DataFrame(ser)\n",
        "df['is_multiple_of_3'] = df[0].apply(lambda x: x % 3 == 0)\n",
        "df"
      ],
      "metadata": {
        "colab": {
          "base_uri": "https://localhost:8080/",
          "height": 0
        },
        "id": "sL5jIRNIggtE",
        "outputId": "3a86e340-f6fa-49a9-bfab-6747b3d5e768"
      },
      "execution_count": 31,
      "outputs": [
        {
          "output_type": "execute_result",
          "data": {
            "text/plain": [
              "   0  is_multiple_of_3\n",
              "0  2             False\n",
              "1  8             False\n",
              "2  9              True\n",
              "3  9              True\n",
              "4  7             False\n",
              "5  5             False\n",
              "6  4             False"
            ],
            "text/html": [
              "\n",
              "  <div id=\"df-6ea8fff9-581c-43f4-8bf3-1fb98ac3c834\">\n",
              "    <div class=\"colab-df-container\">\n",
              "      <div>\n",
              "<style scoped>\n",
              "    .dataframe tbody tr th:only-of-type {\n",
              "        vertical-align: middle;\n",
              "    }\n",
              "\n",
              "    .dataframe tbody tr th {\n",
              "        vertical-align: top;\n",
              "    }\n",
              "\n",
              "    .dataframe thead th {\n",
              "        text-align: right;\n",
              "    }\n",
              "</style>\n",
              "<table border=\"1\" class=\"dataframe\">\n",
              "  <thead>\n",
              "    <tr style=\"text-align: right;\">\n",
              "      <th></th>\n",
              "      <th>0</th>\n",
              "      <th>is_multiple_of_3</th>\n",
              "    </tr>\n",
              "  </thead>\n",
              "  <tbody>\n",
              "    <tr>\n",
              "      <th>0</th>\n",
              "      <td>2</td>\n",
              "      <td>False</td>\n",
              "    </tr>\n",
              "    <tr>\n",
              "      <th>1</th>\n",
              "      <td>8</td>\n",
              "      <td>False</td>\n",
              "    </tr>\n",
              "    <tr>\n",
              "      <th>2</th>\n",
              "      <td>9</td>\n",
              "      <td>True</td>\n",
              "    </tr>\n",
              "    <tr>\n",
              "      <th>3</th>\n",
              "      <td>9</td>\n",
              "      <td>True</td>\n",
              "    </tr>\n",
              "    <tr>\n",
              "      <th>4</th>\n",
              "      <td>7</td>\n",
              "      <td>False</td>\n",
              "    </tr>\n",
              "    <tr>\n",
              "      <th>5</th>\n",
              "      <td>5</td>\n",
              "      <td>False</td>\n",
              "    </tr>\n",
              "    <tr>\n",
              "      <th>6</th>\n",
              "      <td>4</td>\n",
              "      <td>False</td>\n",
              "    </tr>\n",
              "  </tbody>\n",
              "</table>\n",
              "</div>\n",
              "      <button class=\"colab-df-convert\" onclick=\"convertToInteractive('df-6ea8fff9-581c-43f4-8bf3-1fb98ac3c834')\"\n",
              "              title=\"Convert this dataframe to an interactive table.\"\n",
              "              style=\"display:none;\">\n",
              "        \n",
              "  <svg xmlns=\"http://www.w3.org/2000/svg\" height=\"24px\"viewBox=\"0 0 24 24\"\n",
              "       width=\"24px\">\n",
              "    <path d=\"M0 0h24v24H0V0z\" fill=\"none\"/>\n",
              "    <path d=\"M18.56 5.44l.94 2.06.94-2.06 2.06-.94-2.06-.94-.94-2.06-.94 2.06-2.06.94zm-11 1L8.5 8.5l.94-2.06 2.06-.94-2.06-.94L8.5 2.5l-.94 2.06-2.06.94zm10 10l.94 2.06.94-2.06 2.06-.94-2.06-.94-.94-2.06-.94 2.06-2.06.94z\"/><path d=\"M17.41 7.96l-1.37-1.37c-.4-.4-.92-.59-1.43-.59-.52 0-1.04.2-1.43.59L10.3 9.45l-7.72 7.72c-.78.78-.78 2.05 0 2.83L4 21.41c.39.39.9.59 1.41.59.51 0 1.02-.2 1.41-.59l7.78-7.78 2.81-2.81c.8-.78.8-2.07 0-2.86zM5.41 20L4 18.59l7.72-7.72 1.47 1.35L5.41 20z\"/>\n",
              "  </svg>\n",
              "      </button>\n",
              "      \n",
              "  <style>\n",
              "    .colab-df-container {\n",
              "      display:flex;\n",
              "      flex-wrap:wrap;\n",
              "      gap: 12px;\n",
              "    }\n",
              "\n",
              "    .colab-df-convert {\n",
              "      background-color: #E8F0FE;\n",
              "      border: none;\n",
              "      border-radius: 50%;\n",
              "      cursor: pointer;\n",
              "      display: none;\n",
              "      fill: #1967D2;\n",
              "      height: 32px;\n",
              "      padding: 0 0 0 0;\n",
              "      width: 32px;\n",
              "    }\n",
              "\n",
              "    .colab-df-convert:hover {\n",
              "      background-color: #E2EBFA;\n",
              "      box-shadow: 0px 1px 2px rgba(60, 64, 67, 0.3), 0px 1px 3px 1px rgba(60, 64, 67, 0.15);\n",
              "      fill: #174EA6;\n",
              "    }\n",
              "\n",
              "    [theme=dark] .colab-df-convert {\n",
              "      background-color: #3B4455;\n",
              "      fill: #D2E3FC;\n",
              "    }\n",
              "\n",
              "    [theme=dark] .colab-df-convert:hover {\n",
              "      background-color: #434B5C;\n",
              "      box-shadow: 0px 1px 3px 1px rgba(0, 0, 0, 0.15);\n",
              "      filter: drop-shadow(0px 1px 2px rgba(0, 0, 0, 0.3));\n",
              "      fill: #FFFFFF;\n",
              "    }\n",
              "  </style>\n",
              "\n",
              "      <script>\n",
              "        const buttonEl =\n",
              "          document.querySelector('#df-6ea8fff9-581c-43f4-8bf3-1fb98ac3c834 button.colab-df-convert');\n",
              "        buttonEl.style.display =\n",
              "          google.colab.kernel.accessAllowed ? 'block' : 'none';\n",
              "\n",
              "        async function convertToInteractive(key) {\n",
              "          const element = document.querySelector('#df-6ea8fff9-581c-43f4-8bf3-1fb98ac3c834');\n",
              "          const dataTable =\n",
              "            await google.colab.kernel.invokeFunction('convertToInteractive',\n",
              "                                                     [key], {});\n",
              "          if (!dataTable) return;\n",
              "\n",
              "          const docLinkHtml = 'Like what you see? Visit the ' +\n",
              "            '<a target=\"_blank\" href=https://colab.research.google.com/notebooks/data_table.ipynb>data table notebook</a>'\n",
              "            + ' to learn more about interactive tables.';\n",
              "          element.innerHTML = '';\n",
              "          dataTable['output_type'] = 'display_data';\n",
              "          await google.colab.output.renderOutput(dataTable, element);\n",
              "          const docLink = document.createElement('div');\n",
              "          docLink.innerHTML = docLinkHtml;\n",
              "          element.appendChild(docLink);\n",
              "        }\n",
              "      </script>\n",
              "    </div>\n",
              "  </div>\n",
              "  "
            ]
          },
          "metadata": {},
          "execution_count": 31
        }
      ]
    },
    {
      "cell_type": "code",
      "source": [
        "# Incorrect solution in 101 webpage\n",
        "# ser = pd.Series(np.random.randint(1, 10, 7))\n",
        "# ser\n",
        "\n",
        "# # Solution\n",
        "# print(ser)\n",
        "# np.argwhere(ser % 3==0)"
      ],
      "metadata": {
        "id": "CriFp_24hAm0"
      },
      "execution_count": 32,
      "outputs": []
    },
    {
      "cell_type": "markdown",
      "source": [
        "# 14. How to extract items at given positions from a series\n",
        "Difficulty Level: L1\n",
        "\n",
        "From ser, extract the items at positions in list pos.\n"
      ],
      "metadata": {
        "id": "GNYHvFg9hmuq"
      }
    },
    {
      "cell_type": "code",
      "source": [
        "ser = pd.Series(list('abcdefghijklmnopqrstuvwxyz'))\n",
        "pos = [0, 4, 8, 14, 20]\n",
        "ser.head()"
      ],
      "metadata": {
        "colab": {
          "base_uri": "https://localhost:8080/"
        },
        "id": "JVDLCkE_hn7b",
        "outputId": "68462815-ffda-4f95-8790-d0b5e117938a"
      },
      "execution_count": 33,
      "outputs": [
        {
          "output_type": "execute_result",
          "data": {
            "text/plain": [
              "0    a\n",
              "1    b\n",
              "2    c\n",
              "3    d\n",
              "4    e\n",
              "dtype: object"
            ]
          },
          "metadata": {},
          "execution_count": 33
        }
      ]
    },
    {
      "cell_type": "code",
      "source": [
        "ser[pos]"
      ],
      "metadata": {
        "colab": {
          "base_uri": "https://localhost:8080/"
        },
        "id": "b67K1D7ahu_5",
        "outputId": "a0316b82-9b91-4f37-93cf-b94f06ed440c"
      },
      "execution_count": 34,
      "outputs": [
        {
          "output_type": "execute_result",
          "data": {
            "text/plain": [
              "0     a\n",
              "4     e\n",
              "8     i\n",
              "14    o\n",
              "20    u\n",
              "dtype: object"
            ]
          },
          "metadata": {},
          "execution_count": 34
        }
      ]
    },
    {
      "cell_type": "code",
      "source": [
        "ser.take(pos)"
      ],
      "metadata": {
        "colab": {
          "base_uri": "https://localhost:8080/"
        },
        "id": "sCv74LTriOe9",
        "outputId": "82c4868c-65dc-43d3-9340-628058a62361"
      },
      "execution_count": 35,
      "outputs": [
        {
          "output_type": "execute_result",
          "data": {
            "text/plain": [
              "0     a\n",
              "4     e\n",
              "8     i\n",
              "14    o\n",
              "20    u\n",
              "dtype: object"
            ]
          },
          "metadata": {},
          "execution_count": 35
        }
      ]
    },
    {
      "cell_type": "markdown",
      "source": [
        "# 15. How to stack two series vertically and horizontally ?\n",
        "Difficulty Level: L1\n",
        "\n",
        "Stack ser1 and ser2 vertically and horizontally (to form a dataframe).\n"
      ],
      "metadata": {
        "id": "uzpJvEFgiUNH"
      }
    },
    {
      "cell_type": "code",
      "source": [
        "ser1 = pd.Series(range(5))\n",
        "ser2 = pd.Series(list('abcde'))\n",
        "print(ser1)\n",
        "print(ser2)"
      ],
      "metadata": {
        "colab": {
          "base_uri": "https://localhost:8080/"
        },
        "id": "b67kudizicFF",
        "outputId": "5f025509-8fb4-425d-9b97-d3bc10f2f96d"
      },
      "execution_count": 36,
      "outputs": [
        {
          "output_type": "stream",
          "name": "stdout",
          "text": [
            "0    0\n",
            "1    1\n",
            "2    2\n",
            "3    3\n",
            "4    4\n",
            "dtype: int64\n",
            "0    a\n",
            "1    b\n",
            "2    c\n",
            "3    d\n",
            "4    e\n",
            "dtype: object\n"
          ]
        }
      ]
    },
    {
      "cell_type": "code",
      "source": [
        "ser_vert = pd.concat([ser1, ser2], axis=0)\n",
        "print(ser_vert, type(ser_vert))\n",
        "ser_hor = pd.concat([ser1, ser2], axis=1)\n",
        "print(ser_hor, type(ser_hor))"
      ],
      "metadata": {
        "colab": {
          "base_uri": "https://localhost:8080/"
        },
        "id": "5_tFytB0igKw",
        "outputId": "25055d56-9955-4331-efdc-624dfb7b1d7c"
      },
      "execution_count": 37,
      "outputs": [
        {
          "output_type": "stream",
          "name": "stdout",
          "text": [
            "0    0\n",
            "1    1\n",
            "2    2\n",
            "3    3\n",
            "4    4\n",
            "0    a\n",
            "1    b\n",
            "2    c\n",
            "3    d\n",
            "4    e\n",
            "dtype: object <class 'pandas.core.series.Series'>\n",
            "   0  1\n",
            "0  0  a\n",
            "1  1  b\n",
            "2  2  c\n",
            "3  3  d\n",
            "4  4  e <class 'pandas.core.frame.DataFrame'>\n"
          ]
        }
      ]
    },
    {
      "cell_type": "code",
      "source": [
        "# Output\n",
        "# Vertical\n",
        "ser_vert = ser1.append(ser2)\n",
        "print(ser_vert)\n",
        "\n",
        "# Horizontal\n",
        "df = pd.concat([ser1, ser2], axis=1)\n",
        "print(df)"
      ],
      "metadata": {
        "colab": {
          "base_uri": "https://localhost:8080/"
        },
        "id": "Y8vD-nkKjPv1",
        "outputId": "2b46e8c0-77ea-4a55-bebd-6a5cfa75fa94"
      },
      "execution_count": 38,
      "outputs": [
        {
          "output_type": "stream",
          "name": "stdout",
          "text": [
            "0    0\n",
            "1    1\n",
            "2    2\n",
            "3    3\n",
            "4    4\n",
            "0    a\n",
            "1    b\n",
            "2    c\n",
            "3    d\n",
            "4    e\n",
            "dtype: object\n",
            "   0  1\n",
            "0  0  a\n",
            "1  1  b\n",
            "2  2  c\n",
            "3  3  d\n",
            "4  4  e\n"
          ]
        }
      ]
    },
    {
      "cell_type": "markdown",
      "source": [
        "# 16. How to get the positions of items of series A in another series B?\n",
        "Difficulty Level: L2\n",
        "\n",
        "Get the positions of items of ser2 in ser1 as a list."
      ],
      "metadata": {
        "id": "HI_C5yhHjbch"
      }
    },
    {
      "cell_type": "code",
      "source": [
        "ser1 = pd.Series([10, 9, 6, 5, 3, 1, 12, 8, 13])\n",
        "ser2 = pd.Series([1, 3, 10, 13, 99])"
      ],
      "metadata": {
        "id": "7KTVyYPjjtdt"
      },
      "execution_count": 39,
      "outputs": []
    },
    {
      "cell_type": "code",
      "source": [
        "list_pos = [pd.Index(ser1).get_loc(item2) for item2 in ser2 if item2 in ser1.values]\n",
        "list_pos"
      ],
      "metadata": {
        "colab": {
          "base_uri": "https://localhost:8080/"
        },
        "id": "ywpkLLAYjcas",
        "outputId": "1828edc7-428b-46f6-9492-f8c13eb3b820"
      },
      "execution_count": 40,
      "outputs": [
        {
          "output_type": "execute_result",
          "data": {
            "text/plain": [
              "[5, 4, 0, 8]"
            ]
          },
          "metadata": {},
          "execution_count": 40
        }
      ]
    },
    {
      "cell_type": "markdown",
      "source": [
        "# 17. How to compute the mean squared error on a truth and predicted series?\n",
        "Difficulty Level: L2\n",
        "\n",
        "Compute the mean squared error of truth and pred series."
      ],
      "metadata": {
        "id": "9QLdLmzEpDGr"
      }
    },
    {
      "cell_type": "code",
      "source": [
        "truth = pd.Series(range(10))\n",
        "pred = pd.Series(range(10)) + np.random.random(10)\n",
        "print(truth, '\\n', pred)"
      ],
      "metadata": {
        "colab": {
          "base_uri": "https://localhost:8080/"
        },
        "id": "nqa4bk3apMhR",
        "outputId": "fcffb889-056c-48cb-e360-9d8c05f8061b"
      },
      "execution_count": 41,
      "outputs": [
        {
          "output_type": "stream",
          "name": "stdout",
          "text": [
            "0    0\n",
            "1    1\n",
            "2    2\n",
            "3    3\n",
            "4    4\n",
            "5    5\n",
            "6    6\n",
            "7    7\n",
            "8    8\n",
            "9    9\n",
            "dtype: int64 \n",
            " 0    0.280012\n",
            "1    1.498574\n",
            "2    2.233020\n",
            "3    3.580509\n",
            "4    4.344578\n",
            "5    5.535191\n",
            "6    6.755413\n",
            "7    7.649075\n",
            "8    8.318565\n",
            "9    9.947609\n",
            "dtype: float64\n"
          ]
        }
      ]
    },
    {
      "cell_type": "code",
      "source": [
        "np.sum((truth - pred)**2)/len(truth)"
      ],
      "metadata": {
        "colab": {
          "base_uri": "https://localhost:8080/"
        },
        "id": "wifHuHu5qKOQ",
        "outputId": "9e843112-c072-4eed-a700-63a647475f01"
      },
      "execution_count": 42,
      "outputs": [
        {
          "output_type": "execute_result",
          "data": {
            "text/plain": [
              "0.3114829567494401"
            ]
          },
          "metadata": {},
          "execution_count": 42
        }
      ]
    },
    {
      "cell_type": "code",
      "source": [
        "((truth - pred)**2).describe()['mean']"
      ],
      "metadata": {
        "colab": {
          "base_uri": "https://localhost:8080/"
        },
        "id": "EHNyvoo3rAJE",
        "outputId": "866e9374-51aa-49bf-b537-2b610c29af78"
      },
      "execution_count": 43,
      "outputs": [
        {
          "output_type": "execute_result",
          "data": {
            "text/plain": [
              "0.3114829567494401"
            ]
          },
          "metadata": {},
          "execution_count": 43
        }
      ]
    },
    {
      "cell_type": "markdown",
      "source": [
        "# 18. How to convert the first character of each element in a series to uppercase?\n",
        "Difficulty Level: L2\n",
        "\n",
        "Change the first character of each word to upper case in each word of ser.\n",
        "\n",
        "\n"
      ],
      "metadata": {
        "id": "uUKAC9HEsaKW"
      }
    },
    {
      "cell_type": "code",
      "source": [
        "ser = pd.Series(['how', 'to', 'kick', 'ass?'])"
      ],
      "metadata": {
        "id": "lITPupjcsbbV"
      },
      "execution_count": 44,
      "outputs": []
    },
    {
      "cell_type": "code",
      "source": [
        "ser_ = ser.apply(lambda x: x.title())\n",
        "ser_"
      ],
      "metadata": {
        "colab": {
          "base_uri": "https://localhost:8080/"
        },
        "id": "e7IgIfVKspsv",
        "outputId": "8c30b385-5873-4912-aeff-86fc2d8a3d09"
      },
      "execution_count": 45,
      "outputs": [
        {
          "output_type": "execute_result",
          "data": {
            "text/plain": [
              "0     How\n",
              "1      To\n",
              "2    Kick\n",
              "3    Ass?\n",
              "dtype: object"
            ]
          },
          "metadata": {},
          "execution_count": 45
        }
      ]
    },
    {
      "cell_type": "code",
      "source": [
        "ser_ = pd.Series(((' '.join(ser)).title()).split(' '))\n",
        "ser_"
      ],
      "metadata": {
        "colab": {
          "base_uri": "https://localhost:8080/"
        },
        "id": "kX0EAwQqtNPC",
        "outputId": "add90b6c-c9c9-47cf-8efd-fc932ddf3bd1"
      },
      "execution_count": 46,
      "outputs": [
        {
          "output_type": "execute_result",
          "data": {
            "text/plain": [
              "0     How\n",
              "1      To\n",
              "2    Kick\n",
              "3    Ass?\n",
              "dtype: object"
            ]
          },
          "metadata": {},
          "execution_count": 46
        }
      ]
    },
    {
      "cell_type": "code",
      "source": [
        "# Solution 3\n",
        "ser_ = pd.Series([i.title() for i in ser])\n",
        "ser_"
      ],
      "metadata": {
        "colab": {
          "base_uri": "https://localhost:8080/"
        },
        "id": "VX4z9Gzhs_76",
        "outputId": "69b841a8-c916-497d-a644-769d78e7bae2"
      },
      "execution_count": 47,
      "outputs": [
        {
          "output_type": "execute_result",
          "data": {
            "text/plain": [
              "0     How\n",
              "1      To\n",
              "2    Kick\n",
              "3    Ass?\n",
              "dtype: object"
            ]
          },
          "metadata": {},
          "execution_count": 47
        }
      ]
    },
    {
      "cell_type": "markdown",
      "source": [
        "# 19. How to calculate the number of characters in each word in a series?\n",
        "Difficulty Level: L2"
      ],
      "metadata": {
        "id": "u0NpIxEqtrau"
      }
    },
    {
      "cell_type": "code",
      "source": [
        "ser = pd.Series(['how', 'to', 'kick', 'ass?'])"
      ],
      "metadata": {
        "id": "9Ac3KNeotzwS"
      },
      "execution_count": 48,
      "outputs": []
    },
    {
      "cell_type": "code",
      "source": [
        "ser_count = ser.apply(lambda x: len(x))\n",
        "ser_count"
      ],
      "metadata": {
        "colab": {
          "base_uri": "https://localhost:8080/"
        },
        "id": "ce2YQxhlt2Fg",
        "outputId": "1886bedf-2ccd-4b17-ccd2-ebd1dce7565b"
      },
      "execution_count": 49,
      "outputs": [
        {
          "output_type": "execute_result",
          "data": {
            "text/plain": [
              "0    3\n",
              "1    2\n",
              "2    4\n",
              "3    4\n",
              "dtype: int64"
            ]
          },
          "metadata": {},
          "execution_count": 49
        }
      ]
    },
    {
      "cell_type": "markdown",
      "source": [
        "# 20. How to compute difference of differences between consequtive numbers of a series?\n",
        "Difficulty Level: L1\n",
        "\n",
        "Difference of differences between the consequtive numbers of ser.\n"
      ],
      "metadata": {
        "id": "rx2o9kgBun3W"
      }
    },
    {
      "cell_type": "code",
      "source": [
        "ser = pd.Series([1, 3, 6, 10, 15, 21, 27, 35])"
      ],
      "metadata": {
        "id": "QmjIX_00uqPS"
      },
      "execution_count": 50,
      "outputs": []
    },
    {
      "cell_type": "code",
      "source": [
        "list(ser.diff().diff())"
      ],
      "metadata": {
        "colab": {
          "base_uri": "https://localhost:8080/"
        },
        "id": "s66jMSbouz3m",
        "outputId": "ad1b1a99-a9ae-421a-fecf-c45945ae8a32"
      },
      "execution_count": 51,
      "outputs": [
        {
          "output_type": "execute_result",
          "data": {
            "text/plain": [
              "[nan, nan, 1.0, 1.0, 1.0, 1.0, 0.0, 2.0]"
            ]
          },
          "metadata": {},
          "execution_count": 51
        }
      ]
    },
    {
      "cell_type": "code",
      "source": [
        "ser.diff().diff().tolist()"
      ],
      "metadata": {
        "colab": {
          "base_uri": "https://localhost:8080/"
        },
        "id": "-bXJhs_3u_hH",
        "outputId": "7b9a3d4d-1617-4053-d87a-9fc44751f249"
      },
      "execution_count": 52,
      "outputs": [
        {
          "output_type": "execute_result",
          "data": {
            "text/plain": [
              "[nan, nan, 1.0, 1.0, 1.0, 1.0, 0.0, 2.0]"
            ]
          },
          "metadata": {},
          "execution_count": 52
        }
      ]
    },
    {
      "cell_type": "markdown",
      "source": [
        "# 21. How to convert a series of date-strings to a timeseries?\n",
        "Difficiulty Level: L2\n"
      ],
      "metadata": {
        "id": "c6rgUJZHvUhp"
      }
    },
    {
      "cell_type": "code",
      "source": [
        "ser = pd.Series(['01 Jan 2010', '02-02-2011', '20120303', '2013/04/04', '2014-05-05', '2015-06-06T12:20'])\n",
        "ser"
      ],
      "metadata": {
        "colab": {
          "base_uri": "https://localhost:8080/"
        },
        "id": "xuV2od24vbla",
        "outputId": "74a1a14e-9024-41c7-d46d-7f1db695d691"
      },
      "execution_count": 53,
      "outputs": [
        {
          "output_type": "execute_result",
          "data": {
            "text/plain": [
              "0         01 Jan 2010\n",
              "1          02-02-2011\n",
              "2            20120303\n",
              "3          2013/04/04\n",
              "4          2014-05-05\n",
              "5    2015-06-06T12:20\n",
              "dtype: object"
            ]
          },
          "metadata": {},
          "execution_count": 53
        }
      ]
    },
    {
      "cell_type": "code",
      "source": [
        "import dateutil as du\n",
        "\n",
        "ser_time = ser.apply(lambda item: du.parser.parse(item))\n",
        "ser_time"
      ],
      "metadata": {
        "colab": {
          "base_uri": "https://localhost:8080/"
        },
        "id": "yFRz80udvh9d",
        "outputId": "db741f7b-729f-41f8-8558-29e46208dd1d"
      },
      "execution_count": 54,
      "outputs": [
        {
          "output_type": "execute_result",
          "data": {
            "text/plain": [
              "0   2010-01-01 00:00:00\n",
              "1   2011-02-02 00:00:00\n",
              "2   2012-03-03 00:00:00\n",
              "3   2013-04-04 00:00:00\n",
              "4   2014-05-05 00:00:00\n",
              "5   2015-06-06 12:20:00\n",
              "dtype: datetime64[ns]"
            ]
          },
          "metadata": {},
          "execution_count": 54
        }
      ]
    },
    {
      "cell_type": "code",
      "source": [
        "ser_time = pd.to_datetime(ser)\n",
        "ser_time"
      ],
      "metadata": {
        "colab": {
          "base_uri": "https://localhost:8080/"
        },
        "id": "Wc_K-iiSxcHB",
        "outputId": "4bc53e5a-8c0f-48b8-a006-dbc7566ed2bd"
      },
      "execution_count": 55,
      "outputs": [
        {
          "output_type": "execute_result",
          "data": {
            "text/plain": [
              "0   2010-01-01 00:00:00\n",
              "1   2011-02-02 00:00:00\n",
              "2   2012-03-03 00:00:00\n",
              "3   2013-04-04 00:00:00\n",
              "4   2014-05-05 00:00:00\n",
              "5   2015-06-06 12:20:00\n",
              "dtype: datetime64[ns]"
            ]
          },
          "metadata": {},
          "execution_count": 55
        }
      ]
    },
    {
      "cell_type": "markdown",
      "source": [
        "# 22. How to get the day of month, week number, day of year and day of week from a series of date strings?\n",
        "Difficiulty Level: L2\n",
        "\n",
        "Get the day of month, week number, day of year and day of week from ser.\n"
      ],
      "metadata": {
        "id": "kl7sUowWxoha"
      }
    },
    {
      "cell_type": "code",
      "source": [
        "ser = pd.Series(['01 Jan 2010', '02-02-2011', '20120303', '2013/04/04', '2014-05-05', '2015-06-06T12:20'])"
      ],
      "metadata": {
        "id": "7AK1RXmjxm37"
      },
      "execution_count": 56,
      "outputs": []
    },
    {
      "cell_type": "code",
      "source": [
        "tser = pd.to_datetime(ser)\n",
        "\n",
        "day_names = ['mon', 'tue', 'wed', 'thu', 'fri', 'sat', 'sun']\n",
        "\n",
        "day_of_month = tser.dt.day.to_list()\n",
        "\n",
        "week_number = tser.dt.weekofyear.to_list()\n",
        "\n",
        "day_of_year = tser.dt.day_of_year.to_list()\n",
        "\n",
        "day_of_week = [day_names[i] for i in tser.dt.weekday.to_list()]\n",
        "\n",
        "print(day_of_month, week_number, day_of_year, day_of_week, sep='\\n\\n')"
      ],
      "metadata": {
        "colab": {
          "base_uri": "https://localhost:8080/"
        },
        "id": "Smnu-N39xsui",
        "outputId": "3fcb1ddb-8eb7-4a6b-d570-fa35a9e9b3ae"
      },
      "execution_count": 57,
      "outputs": [
        {
          "output_type": "stream",
          "name": "stdout",
          "text": [
            "[1, 2, 3, 4, 5, 6]\n",
            "\n",
            "[53, 5, 9, 14, 19, 23]\n",
            "\n",
            "[1, 33, 63, 94, 125, 157]\n",
            "\n",
            "['fri', 'wed', 'sat', 'thu', 'mon', 'sat']\n"
          ]
        },
        {
          "output_type": "stream",
          "name": "stderr",
          "text": [
            "<ipython-input-57-b298e588fc65>:7: FutureWarning: Series.dt.weekofyear and Series.dt.week have been deprecated.  Please use Series.dt.isocalendar().week instead.\n",
            "  week_number = tser.dt.weekofyear.to_list()\n"
          ]
        }
      ]
    },
    {
      "cell_type": "markdown",
      "source": [
        "# 23. How to convert year-month string to dates corresponding to the 4th day of the month?\n",
        "Difficiulty Level: L2\n",
        "\n",
        "Change ser to dates that start with 4th of the respective months."
      ],
      "metadata": {
        "id": "URkFdGWM9Ko1"
      }
    },
    {
      "cell_type": "code",
      "source": [
        "ser = pd.Series(['Jan 2010', 'Feb 2011', 'Mar 2012'])"
      ],
      "metadata": {
        "id": "D-c5Sphf9UGk"
      },
      "execution_count": 58,
      "outputs": []
    },
    {
      "cell_type": "code",
      "source": [
        "ser_dt = pd.to_datetime(ser)\n",
        "ser_dt = ser_dt.apply(lambda x: x.replace(day=4))\n",
        "ser_dt"
      ],
      "metadata": {
        "colab": {
          "base_uri": "https://localhost:8080/"
        },
        "id": "W8UtXjgq9VrR",
        "outputId": "e89276d4-ad06-412a-8b62-66936d3d7665"
      },
      "execution_count": 59,
      "outputs": [
        {
          "output_type": "execute_result",
          "data": {
            "text/plain": [
              "0   2010-01-04\n",
              "1   2011-02-04\n",
              "2   2012-03-04\n",
              "dtype: datetime64[ns]"
            ]
          },
          "metadata": {},
          "execution_count": 59
        }
      ]
    },
    {
      "cell_type": "code",
      "source": [
        "from dateutil.parser import parse\n",
        "ser_dt = ser.map(lambda x: parse('04 ' + x))\n",
        "ser_dt"
      ],
      "metadata": {
        "colab": {
          "base_uri": "https://localhost:8080/"
        },
        "id": "5fyD5lkg-ZBF",
        "outputId": "c1cd398b-7d68-435d-89b2-b6c5663e4784"
      },
      "execution_count": 60,
      "outputs": [
        {
          "output_type": "execute_result",
          "data": {
            "text/plain": [
              "0   2010-01-04\n",
              "1   2011-02-04\n",
              "2   2012-03-04\n",
              "dtype: datetime64[ns]"
            ]
          },
          "metadata": {},
          "execution_count": 60
        }
      ]
    },
    {
      "cell_type": "markdown",
      "source": [
        "# 24. How to filter words that contain atleast 2 vowels from a series?\n",
        "Difficiulty Level: L3\n",
        "\n",
        "From ser, extract words that contain atleast 2 vowels.\n"
      ],
      "metadata": {
        "id": "1qmL3fIF-s74"
      }
    },
    {
      "cell_type": "code",
      "source": [
        "ser = pd.Series(['Apple', 'Orange', 'Plan', 'Python', 'Money'])"
      ],
      "metadata": {
        "id": "4Q2fCIud-8vg"
      },
      "execution_count": 61,
      "outputs": []
    },
    {
      "cell_type": "code",
      "source": [
        "vowels = ['a', 'e', 'i', 'o', 'u', 'A', 'E', 'I', 'O', 'U']\n",
        "\n",
        "def n_vowels(st):\n",
        "  v = 0\n",
        "  for l in st:\n",
        "    if l in vowels:\n",
        "      v += 1\n",
        "  return v\n",
        "\n",
        "ser_filt = ser[ser.map(n_vowels) >= 2]\n",
        "ser_filt"
      ],
      "metadata": {
        "colab": {
          "base_uri": "https://localhost:8080/"
        },
        "id": "5XXuxkrH_BWW",
        "outputId": "beac5223-2ccf-404a-fb45-87f576778b76"
      },
      "execution_count": 62,
      "outputs": [
        {
          "output_type": "execute_result",
          "data": {
            "text/plain": [
              "0     Apple\n",
              "1    Orange\n",
              "4     Money\n",
              "dtype: object"
            ]
          },
          "metadata": {},
          "execution_count": 62
        }
      ]
    },
    {
      "cell_type": "code",
      "source": [
        "from collections import Counter\n",
        "mask = ser.map(lambda x: sum([Counter(x.lower()).get(i, 0) for i in list('aeiou')]) >= 2)\n",
        "ser[mask]"
      ],
      "metadata": {
        "colab": {
          "base_uri": "https://localhost:8080/"
        },
        "id": "KQXAtBNBAYEn",
        "outputId": "f2e2f359-5242-413b-a183-da3472cede98"
      },
      "execution_count": 63,
      "outputs": [
        {
          "output_type": "execute_result",
          "data": {
            "text/plain": [
              "0     Apple\n",
              "1    Orange\n",
              "4     Money\n",
              "dtype: object"
            ]
          },
          "metadata": {},
          "execution_count": 63
        }
      ]
    },
    {
      "cell_type": "markdown",
      "source": [
        "# 25. How to filter valid emails from a series?\n",
        "Difficiulty Level: L3\n",
        "\n",
        "Extract the valid emails from the series emails. The regex pattern for valid emails is provided as reference."
      ],
      "metadata": {
        "id": "3DcmagqFAgGO"
      }
    },
    {
      "cell_type": "code",
      "source": [
        "emails = pd.Series(['buying books at amazom.com', 'rameses@egypt.com', 'matt@t.co', 'narendra@modi.com'])\n",
        "pattern ='[A-Za-z0-9._%+-]+@[A-Za-z0-9.-]+\\\\.[A-Za-z]{2,4}'"
      ],
      "metadata": {
        "id": "b6gm43ZX_m4k"
      },
      "execution_count": 64,
      "outputs": []
    },
    {
      "cell_type": "code",
      "source": [
        "import re\n",
        "\n",
        "emails_f = emails[emails.map(lambda x: re.match(pattern=pattern, string=x) is not None)]\n",
        "emails_f"
      ],
      "metadata": {
        "colab": {
          "base_uri": "https://localhost:8080/"
        },
        "id": "aR_sTFGmAtWP",
        "outputId": "647249ab-e070-42c3-fc18-fad6b17733fc"
      },
      "execution_count": 65,
      "outputs": [
        {
          "output_type": "execute_result",
          "data": {
            "text/plain": [
              "1    rameses@egypt.com\n",
              "2            matt@t.co\n",
              "3    narendra@modi.com\n",
              "dtype: object"
            ]
          },
          "metadata": {},
          "execution_count": 65
        }
      ]
    },
    {
      "cell_type": "code",
      "source": [
        "import re\n",
        "pattern ='[A-Za-z0-9._%+-]+@[A-Za-z0-9.-]+\\\\.[A-Za-z]{2,4}'\n",
        "mask = emails.map(lambda x: bool(re.match(pattern, x)))\n",
        "emails[mask]"
      ],
      "metadata": {
        "colab": {
          "base_uri": "https://localhost:8080/"
        },
        "id": "tB2SOGcDCski",
        "outputId": "3289c2dd-c9ac-4499-930b-ff1ec806badc"
      },
      "execution_count": 66,
      "outputs": [
        {
          "output_type": "execute_result",
          "data": {
            "text/plain": [
              "1    rameses@egypt.com\n",
              "2            matt@t.co\n",
              "3    narendra@modi.com\n",
              "dtype: object"
            ]
          },
          "metadata": {},
          "execution_count": 66
        }
      ]
    },
    {
      "cell_type": "markdown",
      "source": [
        "# 26. How to get the mean of a series grouped by another series?\n",
        "Difficiulty Level: L2\n",
        "\n",
        "Compute the mean of weights of each fruit."
      ],
      "metadata": {
        "id": "u9C21cyLqRwd"
      }
    },
    {
      "cell_type": "code",
      "source": [
        "fruit = pd.Series(np.random.choice(['apple', 'banana', 'carrot'], 10))\n",
        "weights = pd.Series(np.linspace(1, 10, 10))\n",
        "print(weights.tolist())\n",
        "print(fruit.tolist())"
      ],
      "metadata": {
        "colab": {
          "base_uri": "https://localhost:8080/"
        },
        "id": "vIOyzrUCqVmk",
        "outputId": "d821baf1-00f3-439f-9cfc-233268db48f0"
      },
      "execution_count": 67,
      "outputs": [
        {
          "output_type": "stream",
          "name": "stdout",
          "text": [
            "[1.0, 2.0, 3.0, 4.0, 5.0, 6.0, 7.0, 8.0, 9.0, 10.0]\n",
            "['banana', 'carrot', 'banana', 'banana', 'banana', 'apple', 'banana', 'banana', 'carrot', 'banana']\n"
          ]
        }
      ]
    },
    {
      "cell_type": "code",
      "source": [
        "fruit_w = weights.groupby(by=fruit).mean()\n",
        "fruit_w"
      ],
      "metadata": {
        "colab": {
          "base_uri": "https://localhost:8080/"
        },
        "id": "E75Nvg44qXdH",
        "outputId": "624ecc19-edcc-4c60-93cb-596220dcf771"
      },
      "execution_count": 68,
      "outputs": [
        {
          "output_type": "execute_result",
          "data": {
            "text/plain": [
              "apple     6.000000\n",
              "banana    5.428571\n",
              "carrot    5.500000\n",
              "dtype: float64"
            ]
          },
          "metadata": {},
          "execution_count": 68
        }
      ]
    },
    {
      "cell_type": "code",
      "source": [
        "fruit_w = weights.groupby(by=fruit).mean()\n",
        "fruit_w"
      ],
      "metadata": {
        "colab": {
          "base_uri": "https://localhost:8080/"
        },
        "id": "aGLwLgyqrOio",
        "outputId": "14749a82-0342-4374-8431-eb71ca69d3df"
      },
      "execution_count": 69,
      "outputs": [
        {
          "output_type": "execute_result",
          "data": {
            "text/plain": [
              "apple     6.000000\n",
              "banana    5.428571\n",
              "carrot    5.500000\n",
              "dtype: float64"
            ]
          },
          "metadata": {},
          "execution_count": 69
        }
      ]
    },
    {
      "cell_type": "markdown",
      "source": [
        "# 27. How to compute the euclidean distance between two series?\n",
        "Difficiulty Level: L2\n",
        "\n",
        "Compute the euclidean distance between series (points) p and q, without using a packaged formula.\n"
      ],
      "metadata": {
        "id": "JPVrsWMgs6kC"
      }
    },
    {
      "cell_type": "code",
      "source": [
        "p = pd.Series([1, 2, 3, 4, 5, 6, 7, 8, 9, 10])\n",
        "q = pd.Series([10, 9, 8, 7, 6, 5, 4, 3, 2, 1])"
      ],
      "metadata": {
        "id": "YI72iJy6s_cz"
      },
      "execution_count": 70,
      "outputs": []
    },
    {
      "cell_type": "code",
      "source": [
        "dist = np.sqrt(np.sum((p-q)**2))\n",
        "dist"
      ],
      "metadata": {
        "colab": {
          "base_uri": "https://localhost:8080/"
        },
        "id": "OOd9Hxznt9cE",
        "outputId": "1587c073-11b7-49a6-af83-4dc7510aea61"
      },
      "execution_count": 71,
      "outputs": [
        {
          "output_type": "execute_result",
          "data": {
            "text/plain": [
              "18.16590212458495"
            ]
          },
          "metadata": {},
          "execution_count": 71
        }
      ]
    },
    {
      "cell_type": "code",
      "source": [
        "dist = (sum((p-q)**2))**(1/2)\n",
        "dist"
      ],
      "metadata": {
        "colab": {
          "base_uri": "https://localhost:8080/"
        },
        "id": "Ovfc0JFJuuu5",
        "outputId": "a1b91802-50cd-481e-9752-2faf6cd60ff3"
      },
      "execution_count": 72,
      "outputs": [
        {
          "output_type": "execute_result",
          "data": {
            "text/plain": [
              "18.16590212458495"
            ]
          },
          "metadata": {},
          "execution_count": 72
        }
      ]
    },
    {
      "cell_type": "markdown",
      "source": [
        "# 28. How to find all the local maxima (or peaks) in a numeric series?\n",
        "Difficiulty Level: L3\n",
        "Get the positions of peaks (values surrounded by smaller values on both sides) in ser.\n"
      ],
      "metadata": {
        "id": "XcPOimACvB_Q"
      }
    },
    {
      "cell_type": "code",
      "source": [
        "ser = pd.Series([2, 10, 3, 4, 9, 10, 2, 7, 3])"
      ],
      "metadata": {
        "id": "vsGS6mFAvD1H"
      },
      "execution_count": 73,
      "outputs": []
    },
    {
      "cell_type": "code",
      "source": [
        "peaks_ind = [i for i in range(1, len(ser)-1) if ser[i-1] < ser[i] > ser[i+1]]\n",
        "peaks_ind"
      ],
      "metadata": {
        "colab": {
          "base_uri": "https://localhost:8080/"
        },
        "id": "GOSNwKAyV47t",
        "outputId": "6176a1fd-418a-4d94-b240-cb22fac1fc30"
      },
      "execution_count": 74,
      "outputs": [
        {
          "output_type": "execute_result",
          "data": {
            "text/plain": [
              "[1, 5, 7]"
            ]
          },
          "metadata": {},
          "execution_count": 74
        }
      ]
    },
    {
      "cell_type": "code",
      "source": [
        "sign_d_ser_di = np.sign(np.diff(ser, 1, append=np.nan))\n",
        "print(sign_d_ser_di)\n",
        "d_sign_d_ser_di_di = np.diff(sign_d_ser_di, 1, prepend=np.nan)\n",
        "print(d_sign_d_ser_di_di)\n",
        "peaks_ind = np.where(d_sign_d_ser_di_di == -2)[0]\n",
        "peaks_ind"
      ],
      "metadata": {
        "colab": {
          "base_uri": "https://localhost:8080/"
        },
        "id": "F8PbL3NdW2no",
        "outputId": "26cdc25f-215f-49c3-e136-01e047104833"
      },
      "execution_count": 75,
      "outputs": [
        {
          "output_type": "stream",
          "name": "stdout",
          "text": [
            "[ 1. -1.  1.  1.  1. -1.  1. -1. nan]\n",
            "[nan -2.  2.  0.  0. -2.  2. -2. nan]\n"
          ]
        },
        {
          "output_type": "execute_result",
          "data": {
            "text/plain": [
              "array([1, 5, 7])"
            ]
          },
          "metadata": {},
          "execution_count": 75
        }
      ]
    },
    {
      "cell_type": "markdown",
      "source": [
        "# 29. How to replace missing spaces in a string with the least frequent character?\n",
        "Replace the spaces in my_str with the least frequent character.\n",
        "\n",
        "Difficiulty Level: L2"
      ],
      "metadata": {
        "id": "TUcOuhwtYboa"
      }
    },
    {
      "cell_type": "code",
      "source": [
        "my_str = 'dbc deb abed gade'"
      ],
      "metadata": {
        "id": "YGJFAaXMYkqS"
      },
      "execution_count": 76,
      "outputs": []
    },
    {
      "cell_type": "code",
      "source": [
        "ser = pd.Series(list(my_str))\n",
        "bins = ser.value_counts(ascending=True)\n",
        "# print(bins)\n",
        "least_freq = bins.index[0]\n",
        "# print(least_freq)\n",
        "ser_ = ser.replace(' ', least_freq)\n",
        "# print(ser_)\n",
        "ser_.to_string(index=False).replace('\\n', '')"
      ],
      "metadata": {
        "colab": {
          "base_uri": "https://localhost:8080/",
          "height": 36
        },
        "id": "u8D2ujSQYrkL",
        "outputId": "e77c0189-6422-4a37-8f59-982ca30fcc4c"
      },
      "execution_count": 77,
      "outputs": [
        {
          "output_type": "execute_result",
          "data": {
            "text/plain": [
              "'dbccdebcabedcgade'"
            ],
            "application/vnd.google.colaboratory.intrinsic+json": {
              "type": "string"
            }
          },
          "metadata": {},
          "execution_count": 77
        }
      ]
    },
    {
      "cell_type": "code",
      "source": [
        "\"\".join(ser.replace(' ', least_freq))"
      ],
      "metadata": {
        "colab": {
          "base_uri": "https://localhost:8080/",
          "height": 36
        },
        "id": "YjX9_eyubgd8",
        "outputId": "6d3db953-0e4b-4a46-bfa6-b576e8110568"
      },
      "execution_count": 78,
      "outputs": [
        {
          "output_type": "execute_result",
          "data": {
            "text/plain": [
              "'dbccdebcabedcgade'"
            ],
            "application/vnd.google.colaboratory.intrinsic+json": {
              "type": "string"
            }
          },
          "metadata": {},
          "execution_count": 78
        }
      ]
    },
    {
      "cell_type": "markdown",
      "source": [
        "# 30. How to create a TimeSeries starting ‘2000-01-01’ and 10 weekends (saturdays) after that having random numbers as values?\n",
        "Difficiulty Level: L2"
      ],
      "metadata": {
        "id": "mc-rTWUobopL"
      }
    },
    {
      "cell_type": "code",
      "source": [
        "from numpy.random.mtrand import randint\n",
        "import datetime as dt\n",
        "start = dt.date(2000, 1, 1)\n",
        "delta = dt.timedelta(days=7)\n",
        "index = [start + i*delta for i in range(10)]\n",
        "values = [randint(0,10) for i in range(10)]\n",
        "\n",
        "ser = pd.Series(index=index, data=values)\n",
        "ser"
      ],
      "metadata": {
        "colab": {
          "base_uri": "https://localhost:8080/"
        },
        "id": "CJ5NkiDtby5M",
        "outputId": "149f40a8-02e3-4f6b-c0b1-f83e35a7142c"
      },
      "execution_count": 79,
      "outputs": [
        {
          "output_type": "execute_result",
          "data": {
            "text/plain": [
              "2000-01-01    8\n",
              "2000-01-08    7\n",
              "2000-01-15    8\n",
              "2000-01-22    8\n",
              "2000-01-29    5\n",
              "2000-02-05    7\n",
              "2000-02-12    9\n",
              "2000-02-19    2\n",
              "2000-02-26    8\n",
              "2000-03-04    5\n",
              "dtype: int64"
            ]
          },
          "metadata": {},
          "execution_count": 79
        }
      ]
    },
    {
      "cell_type": "code",
      "source": [
        "ser = pd.Series(data=np.random.randint(0, 10, 10),\n",
        "                index=pd.date_range(start, periods=10, freq='W-SAT'))\n",
        "ser"
      ],
      "metadata": {
        "colab": {
          "base_uri": "https://localhost:8080/"
        },
        "id": "OSQr8Kbqd62e",
        "outputId": "09f040b1-1291-49fa-b61a-34dc9124c2ea"
      },
      "execution_count": 80,
      "outputs": [
        {
          "output_type": "execute_result",
          "data": {
            "text/plain": [
              "2000-01-01    6\n",
              "2000-01-08    2\n",
              "2000-01-15    3\n",
              "2000-01-22    7\n",
              "2000-01-29    9\n",
              "2000-02-05    3\n",
              "2000-02-12    7\n",
              "2000-02-19    0\n",
              "2000-02-26    3\n",
              "2000-03-04    8\n",
              "Freq: W-SAT, dtype: int64"
            ]
          },
          "metadata": {},
          "execution_count": 80
        }
      ]
    },
    {
      "cell_type": "markdown",
      "source": [
        "# 31. How to fill an intermittent time series so all missing dates show up with values of previous non-missing date?\n",
        "Difficiulty Level: L2\n",
        "\n",
        "ser has missing dates and values. Make all missing dates appear and fill up with value from previous date.\n"
      ],
      "metadata": {
        "id": "kRhIgJj6erma"
      }
    },
    {
      "cell_type": "code",
      "source": [
        "ser = pd.Series([1,10,3,np.nan], index=pd.to_datetime(['2000-01-01', '2000-01-03', '2000-01-06', '2000-01-08']))\n",
        "print(ser)"
      ],
      "metadata": {
        "colab": {
          "base_uri": "https://localhost:8080/"
        },
        "id": "Jug-zYEZewQz",
        "outputId": "00ac735e-cbf8-49b5-8f49-827b117da823"
      },
      "execution_count": 81,
      "outputs": [
        {
          "output_type": "stream",
          "name": "stdout",
          "text": [
            "2000-01-01     1.0\n",
            "2000-01-03    10.0\n",
            "2000-01-06     3.0\n",
            "2000-01-08     NaN\n",
            "dtype: float64\n"
          ]
        }
      ]
    },
    {
      "cell_type": "code",
      "source": [
        "ser.resample(rule='D').ffill()"
      ],
      "metadata": {
        "colab": {
          "base_uri": "https://localhost:8080/"
        },
        "id": "92oWWh92ftOK",
        "outputId": "42e83a1d-20ff-4d50-bb04-c2a248f1da8a"
      },
      "execution_count": 82,
      "outputs": [
        {
          "output_type": "execute_result",
          "data": {
            "text/plain": [
              "2000-01-01     1.0\n",
              "2000-01-02     1.0\n",
              "2000-01-03    10.0\n",
              "2000-01-04    10.0\n",
              "2000-01-05    10.0\n",
              "2000-01-06     3.0\n",
              "2000-01-07     3.0\n",
              "2000-01-08     NaN\n",
              "Freq: D, dtype: float64"
            ]
          },
          "metadata": {},
          "execution_count": 82
        }
      ]
    },
    {
      "cell_type": "markdown",
      "source": [
        "# 32. How to compute the autocorrelations of a numeric series?\n",
        "Difficiulty Level: L3\n",
        "\n",
        "Compute autocorrelations for the first 10 lags of ser. Find out which lag has the largest correlation."
      ],
      "metadata": {
        "id": "rtmeUiYSjYcw"
      }
    },
    {
      "cell_type": "code",
      "source": [
        "ser = pd.Series(np.arange(20) + np.random.normal(1, 10, 20))\n",
        "ser.plot()"
      ],
      "metadata": {
        "colab": {
          "base_uri": "https://localhost:8080/",
          "height": 282
        },
        "id": "aasdJpqEjbj0",
        "outputId": "2361c13b-45b8-45ae-b1b9-39ae6555e071"
      },
      "execution_count": 83,
      "outputs": [
        {
          "output_type": "execute_result",
          "data": {
            "text/plain": [
              "<matplotlib.axes._subplots.AxesSubplot at 0x7f6026f5adc0>"
            ]
          },
          "metadata": {},
          "execution_count": 83
        },
        {
          "output_type": "display_data",
          "data": {
            "text/plain": [
              "<Figure size 432x288 with 1 Axes>"
            ],
            "image/png": "[encoded data removed]"
          },
          "metadata": {
            "needs_background": "light"
          }
        }
      ]
    },
    {
      "cell_type": "code",
      "source": [
        "autocorrs = [ser.autocorr(lag=lag) for lag in range(10)]\n",
        "autocorrs_ser = pd.Series(data=autocorrs)\n",
        "print(autocorrs_ser)\n",
        "autocorrs_ser = autocorrs_ser.sort_values(ascending=False)\n",
        "print(autocorrs_ser)\n",
        "lag_highestautocorr = autocorrs_ser.index[1]\n",
        "highestautocorr = autocorrs_ser.iloc[1]\n",
        "print(f\"{lag_highestautocorr=} and {highestautocorr=}\")"
      ],
      "metadata": {
        "colab": {
          "base_uri": "https://localhost:8080/"
        },
        "id": "wGbVLzYTncxx",
        "outputId": "2bf775fa-2ef5-4765-c61c-fa1b9a9f3ba2"
      },
      "execution_count": 84,
      "outputs": [
        {
          "output_type": "stream",
          "name": "stdout",
          "text": [
            "0    1.000000\n",
            "1    0.201207\n",
            "2    0.111984\n",
            "3    0.027472\n",
            "4   -0.110740\n",
            "5   -0.280148\n",
            "6    0.149596\n",
            "7    0.096023\n",
            "8   -0.324366\n",
            "9    0.103126\n",
            "dtype: float64\n",
            "0    1.000000\n",
            "1    0.201207\n",
            "6    0.149596\n",
            "2    0.111984\n",
            "9    0.103126\n",
            "7    0.096023\n",
            "3    0.027472\n",
            "4   -0.110740\n",
            "5   -0.280148\n",
            "8   -0.324366\n",
            "dtype: float64\n",
            "lag_highestautocorr=1 and highestautocorr=0.20120662084614233\n"
          ]
        }
      ]
    },
    {
      "cell_type": "markdown",
      "source": [
        "# 33. How to import only every nth row from a csv file to create a dataframe?\n",
        "Difficiulty Level: L2\n",
        "\n",
        "Import every 50th row of BostonHousing dataset as a dataframe."
      ],
      "metadata": {
        "id": "jtpH7QPdVhJl"
      }
    },
    {
      "cell_type": "code",
      "source": [
        "n = 50\n",
        "df_ = pd.read_csv(\"https://raw.githubusercontent.com/selva86/datasets/master/BostonHousing.csv\")\n",
        "# print(df_)\n",
        "df = df_.iloc[0::50]\n",
        "df"
      ],
      "metadata": {
        "colab": {
          "base_uri": "https://localhost:8080/",
          "height": 394
        },
        "id": "b8QQWpbTVrXc",
        "outputId": "fed89e60-06b3-493b-d7f9-87d806891a56"
      },
      "execution_count": 85,
      "outputs": [
        {
          "output_type": "execute_result",
          "data": {
            "text/plain": [
              "         crim    zn  indus  chas    nox     rm    age     dis  rad  tax  \\\n",
              "0     0.00632  18.0   2.31     0  0.538  6.575   65.2  4.0900    1  296   \n",
              "50    0.08873  21.0   5.64     0  0.439  5.963   45.7  6.8147    4  243   \n",
              "100   0.14866   0.0   8.56     0  0.520  6.727   79.9  2.7778    5  384   \n",
              "150   1.65660   0.0  19.58     0  0.871  6.122   97.3  1.6180    5  403   \n",
              "200   0.01778  95.0   1.47     0  0.403  7.135   13.9  7.6534    3  402   \n",
              "250   0.14030  22.0   5.86     0  0.431  6.487   13.0  7.3967    7  330   \n",
              "300   0.04417  70.0   2.24     0  0.400  6.871   47.4  7.8278    5  358   \n",
              "350   0.06211  40.0   1.25     0  0.429  6.490   44.4  8.7921    1  335   \n",
              "400  25.04610   0.0  18.10     0  0.693  5.987  100.0  1.5888   24  666   \n",
              "450   6.71772   0.0  18.10     0  0.713  6.749   92.6  2.3236   24  666   \n",
              "500   0.22438   0.0   9.69     0  0.585  6.027   79.7  2.4982    6  391   \n",
              "\n",
              "     ptratio       b  lstat  medv  \n",
              "0       15.3  396.90   4.98  24.0  \n",
              "50      16.8  395.56  13.45  19.7  \n",
              "100     20.9  394.76   9.42  27.5  \n",
              "150     14.7  372.80  14.10  21.5  \n",
              "200     17.0  384.30   4.45  32.9  \n",
              "250     19.1  396.28   5.90  24.4  \n",
              "300     14.8  390.86   6.07  24.8  \n",
              "350     19.7  396.90   5.98  22.9  \n",
              "400     20.2  396.90  26.77   5.6  \n",
              "450     20.2    0.32  17.44  13.4  \n",
              "500     19.2  396.90  14.33  16.8  "
            ],
            "text/html": [
              "\n",
              "  <div id=\"df-935bd4fd-df16-45f2-beeb-7b166627e03b\">\n",
              "    <div class=\"colab-df-container\">\n",
              "      <div>\n",
              "<style scoped>\n",
              "    .dataframe tbody tr th:only-of-type {\n",
              "        vertical-align: middle;\n",
              "    }\n",
              "\n",
              "    .dataframe tbody tr th {\n",
              "        vertical-align: top;\n",
              "    }\n",
              "\n",
              "    .dataframe thead th {\n",
              "        text-align: right;\n",
              "    }\n",
              "</style>\n",
              "<table border=\"1\" class=\"dataframe\">\n",
              "  <thead>\n",
              "    <tr style=\"text-align: right;\">\n",
              "      <th></th>\n",
              "      <th>crim</th>\n",
              "      <th>zn</th>\n",
              "      <th>indus</th>\n",
              "      <th>chas</th>\n",
              "      <th>nox</th>\n",
              "      <th>rm</th>\n",
              "      <th>age</th>\n",
              "      <th>dis</th>\n",
              "      <th>rad</th>\n",
              "      <th>tax</th>\n",
              "      <th>ptratio</th>\n",
              "      <th>b</th>\n",
              "      <th>lstat</th>\n",
              "      <th>medv</th>\n",
              "    </tr>\n",
              "  </thead>\n",
              "  <tbody>\n",
              "    <tr>\n",
              "      <th>0</th>\n",
              "      <td>0.00632</td>\n",
              "      <td>18.0</td>\n",
              "      <td>2.31</td>\n",
              "      <td>0</td>\n",
              "      <td>0.538</td>\n",
              "      <td>6.575</td>\n",
              "      <td>65.2</td>\n",
              "      <td>4.0900</td>\n",
              "      <td>1</td>\n",
              "      <td>296</td>\n",
              "      <td>15.3</td>\n",
              "      <td>396.90</td>\n",
              "      <td>4.98</td>\n",
              "      <td>24.0</td>\n",
              "    </tr>\n",
              "    <tr>\n",
              "      <th>50</th>\n",
              "      <td>0.08873</td>\n",
              "      <td>21.0</td>\n",
              "      <td>5.64</td>\n",
              "      <td>0</td>\n",
              "      <td>0.439</td>\n",
              "      <td>5.963</td>\n",
              "      <td>45.7</td>\n",
              "      <td>6.8147</td>\n",
              "      <td>4</td>\n",
              "      <td>243</td>\n",
              "      <td>16.8</td>\n",
              "      <td>395.56</td>\n",
              "      <td>13.45</td>\n",
              "      <td>19.7</td>\n",
              "    </tr>\n",
              "    <tr>\n",
              "      <th>100</th>\n",
              "      <td>0.14866</td>\n",
              "      <td>0.0</td>\n",
              "      <td>8.56</td>\n",
              "      <td>0</td>\n",
              "      <td>0.520</td>\n",
              "      <td>6.727</td>\n",
              "      <td>79.9</td>\n",
              "      <td>2.7778</td>\n",
              "      <td>5</td>\n",
              "      <td>384</td>\n",
              "      <td>20.9</td>\n",
              "      <td>394.76</td>\n",
              "      <td>9.42</td>\n",
              "      <td>27.5</td>\n",
              "    </tr>\n",
              "    <tr>\n",
              "      <th>150</th>\n",
              "      <td>1.65660</td>\n",
              "      <td>0.0</td>\n",
              "      <td>19.58</td>\n",
              "      <td>0</td>\n",
              "      <td>0.871</td>\n",
              "      <td>6.122</td>\n",
              "      <td>97.3</td>\n",
              "      <td>1.6180</td>\n",
              "      <td>5</td>\n",
              "      <td>403</td>\n",
              "      <td>14.7</td>\n",
              "      <td>372.80</td>\n",
              "      <td>14.10</td>\n",
              "      <td>21.5</td>\n",
              "    </tr>\n",
              "    <tr>\n",
              "      <th>200</th>\n",
              "      <td>0.01778</td>\n",
              "      <td>95.0</td>\n",
              "      <td>1.47</td>\n",
              "      <td>0</td>\n",
              "      <td>0.403</td>\n",
              "      <td>7.135</td>\n",
              "      <td>13.9</td>\n",
              "      <td>7.6534</td>\n",
              "      <td>3</td>\n",
              "      <td>402</td>\n",
              "      <td>17.0</td>\n",
              "      <td>384.30</td>\n",
              "      <td>4.45</td>\n",
              "      <td>32.9</td>\n",
              "    </tr>\n",
              "    <tr>\n",
              "      <th>250</th>\n",
              "      <td>0.14030</td>\n",
              "      <td>22.0</td>\n",
              "      <td>5.86</td>\n",
              "      <td>0</td>\n",
              "      <td>0.431</td>\n",
              "      <td>6.487</td>\n",
              "      <td>13.0</td>\n",
              "      <td>7.3967</td>\n",
              "      <td>7</td>\n",
              "      <td>330</td>\n",
              "      <td>19.1</td>\n",
              "      <td>396.28</td>\n",
              "      <td>5.90</td>\n",
              "      <td>24.4</td>\n",
              "    </tr>\n",
              "    <tr>\n",
              "      <th>300</th>\n",
              "      <td>0.04417</td>\n",
              "      <td>70.0</td>\n",
              "      <td>2.24</td>\n",
              "      <td>0</td>\n",
              "      <td>0.400</td>\n",
              "      <td>6.871</td>\n",
              "      <td>47.4</td>\n",
              "      <td>7.8278</td>\n",
              "      <td>5</td>\n",
              "      <td>358</td>\n",
              "      <td>14.8</td>\n",
              "      <td>390.86</td>\n",
              "      <td>6.07</td>\n",
              "      <td>24.8</td>\n",
              "    </tr>\n",
              "    <tr>\n",
              "      <th>350</th>\n",
              "      <td>0.06211</td>\n",
              "      <td>40.0</td>\n",
              "      <td>1.25</td>\n",
              "      <td>0</td>\n",
              "      <td>0.429</td>\n",
              "      <td>6.490</td>\n",
              "      <td>44.4</td>\n",
              "      <td>8.7921</td>\n",
              "      <td>1</td>\n",
              "      <td>335</td>\n",
              "      <td>19.7</td>\n",
              "      <td>396.90</td>\n",
              "      <td>5.98</td>\n",
              "      <td>22.9</td>\n",
              "    </tr>\n",
              "    <tr>\n",
              "      <th>400</th>\n",
              "      <td>25.04610</td>\n",
              "      <td>0.0</td>\n",
              "      <td>18.10</td>\n",
              "      <td>0</td>\n",
              "      <td>0.693</td>\n",
              "      <td>5.987</td>\n",
              "      <td>100.0</td>\n",
              "      <td>1.5888</td>\n",
              "      <td>24</td>\n",
              "      <td>666</td>\n",
              "      <td>20.2</td>\n",
              "      <td>396.90</td>\n",
              "      <td>26.77</td>\n",
              "      <td>5.6</td>\n",
              "    </tr>\n",
              "    <tr>\n",
              "      <th>450</th>\n",
              "      <td>6.71772</td>\n",
              "      <td>0.0</td>\n",
              "      <td>18.10</td>\n",
              "      <td>0</td>\n",
              "      <td>0.713</td>\n",
              "      <td>6.749</td>\n",
              "      <td>92.6</td>\n",
              "      <td>2.3236</td>\n",
              "      <td>24</td>\n",
              "      <td>666</td>\n",
              "      <td>20.2</td>\n",
              "      <td>0.32</td>\n",
              "      <td>17.44</td>\n",
              "      <td>13.4</td>\n",
              "    </tr>\n",
              "    <tr>\n",
              "      <th>500</th>\n",
              "      <td>0.22438</td>\n",
              "      <td>0.0</td>\n",
              "      <td>9.69</td>\n",
              "      <td>0</td>\n",
              "      <td>0.585</td>\n",
              "      <td>6.027</td>\n",
              "      <td>79.7</td>\n",
              "      <td>2.4982</td>\n",
              "      <td>6</td>\n",
              "      <td>391</td>\n",
              "      <td>19.2</td>\n",
              "      <td>396.90</td>\n",
              "      <td>14.33</td>\n",
              "      <td>16.8</td>\n",
              "    </tr>\n",
              "  </tbody>\n",
              "</table>\n",
              "</div>\n",
              "      <button class=\"colab-df-convert\" onclick=\"convertToInteractive('df-935bd4fd-df16-45f2-beeb-7b166627e03b')\"\n",
              "              title=\"Convert this dataframe to an interactive table.\"\n",
              "              style=\"display:none;\">\n",
              "        \n",
              "  <svg xmlns=\"http://www.w3.org/2000/svg\" height=\"24px\"viewBox=\"0 0 24 24\"\n",
              "       width=\"24px\">\n",
              "    <path d=\"M0 0h24v24H0V0z\" fill=\"none\"/>\n",
              "    <path d=\"M18.56 5.44l.94 2.06.94-2.06 2.06-.94-2.06-.94-.94-2.06-.94 2.06-2.06.94zm-11 1L8.5 8.5l.94-2.06 2.06-.94-2.06-.94L8.5 2.5l-.94 2.06-2.06.94zm10 10l.94 2.06.94-2.06 2.06-.94-2.06-.94-.94-2.06-.94 2.06-2.06.94z\"/><path d=\"M17.41 7.96l-1.37-1.37c-.4-.4-.92-.59-1.43-.59-.52 0-1.04.2-1.43.59L10.3 9.45l-7.72 7.72c-.78.78-.78 2.05 0 2.83L4 21.41c.39.39.9.59 1.41.59.51 0 1.02-.2 1.41-.59l7.78-7.78 2.81-2.81c.8-.78.8-2.07 0-2.86zM5.41 20L4 18.59l7.72-7.72 1.47 1.35L5.41 20z\"/>\n",
              "  </svg>\n",
              "      </button>\n",
              "      \n",
              "  <style>\n",
              "    .colab-df-container {\n",
              "      display:flex;\n",
              "      flex-wrap:wrap;\n",
              "      gap: 12px;\n",
              "    }\n",
              "\n",
              "    .colab-df-convert {\n",
              "      background-color: #E8F0FE;\n",
              "      border: none;\n",
              "      border-radius: 50%;\n",
              "      cursor: pointer;\n",
              "      display: none;\n",
              "      fill: #1967D2;\n",
              "      height: 32px;\n",
              "      padding: 0 0 0 0;\n",
              "      width: 32px;\n",
              "    }\n",
              "\n",
              "    .colab-df-convert:hover {\n",
              "      background-color: #E2EBFA;\n",
              "      box-shadow: 0px 1px 2px rgba(60, 64, 67, 0.3), 0px 1px 3px 1px rgba(60, 64, 67, 0.15);\n",
              "      fill: #174EA6;\n",
              "    }\n",
              "\n",
              "    [theme=dark] .colab-df-convert {\n",
              "      background-color: #3B4455;\n",
              "      fill: #D2E3FC;\n",
              "    }\n",
              "\n",
              "    [theme=dark] .colab-df-convert:hover {\n",
              "      background-color: #434B5C;\n",
              "      box-shadow: 0px 1px 3px 1px rgba(0, 0, 0, 0.15);\n",
              "      filter: drop-shadow(0px 1px 2px rgba(0, 0, 0, 0.3));\n",
              "      fill: #FFFFFF;\n",
              "    }\n",
              "  </style>\n",
              "\n",
              "      <script>\n",
              "        const buttonEl =\n",
              "          document.querySelector('#df-935bd4fd-df16-45f2-beeb-7b166627e03b button.colab-df-convert');\n",
              "        buttonEl.style.display =\n",
              "          google.colab.kernel.accessAllowed ? 'block' : 'none';\n",
              "\n",
              "        async function convertToInteractive(key) {\n",
              "          const element = document.querySelector('#df-935bd4fd-df16-45f2-beeb-7b166627e03b');\n",
              "          const dataTable =\n",
              "            await google.colab.kernel.invokeFunction('convertToInteractive',\n",
              "                                                     [key], {});\n",
              "          if (!dataTable) return;\n",
              "\n",
              "          const docLinkHtml = 'Like what you see? Visit the ' +\n",
              "            '<a target=\"_blank\" href=https://colab.research.google.com/notebooks/data_table.ipynb>data table notebook</a>'\n",
              "            + ' to learn more about interactive tables.';\n",
              "          element.innerHTML = '';\n",
              "          dataTable['output_type'] = 'display_data';\n",
              "          await google.colab.output.renderOutput(dataTable, element);\n",
              "          const docLink = document.createElement('div');\n",
              "          docLink.innerHTML = docLinkHtml;\n",
              "          element.appendChild(docLink);\n",
              "        }\n",
              "      </script>\n",
              "    </div>\n",
              "  </div>\n",
              "  "
            ]
          },
          "metadata": {},
          "execution_count": 85
        }
      ]
    },
    {
      "cell_type": "code",
      "source": [
        "# Solution 2: Use chunks and list comprehension\n",
        "df = pd.read_csv('https://raw.githubusercontent.com/selva86/datasets/master/BostonHousing.csv', chunksize=50)\n",
        "df2 = pd.concat([chunk.iloc[0] for chunk in df], axis=1)\n",
        "df2 = df2.transpose()\n",
        "df2"
      ],
      "metadata": {
        "colab": {
          "base_uri": "https://localhost:8080/",
          "height": 394
        },
        "id": "ZQPD-PWZbZe-",
        "outputId": "7cf3d08f-498c-4048-c6b8-a2a2d174cc61"
      },
      "execution_count": 86,
      "outputs": [
        {
          "output_type": "execute_result",
          "data": {
            "text/plain": [
              "         crim    zn  indus  chas    nox     rm    age     dis   rad    tax  \\\n",
              "0     0.00632  18.0   2.31   0.0  0.538  6.575   65.2  4.0900   1.0  296.0   \n",
              "50    0.08873  21.0   5.64   0.0  0.439  5.963   45.7  6.8147   4.0  243.0   \n",
              "100   0.14866   0.0   8.56   0.0  0.520  6.727   79.9  2.7778   5.0  384.0   \n",
              "150   1.65660   0.0  19.58   0.0  0.871  6.122   97.3  1.6180   5.0  403.0   \n",
              "200   0.01778  95.0   1.47   0.0  0.403  7.135   13.9  7.6534   3.0  402.0   \n",
              "250   0.14030  22.0   5.86   0.0  0.431  6.487   13.0  7.3967   7.0  330.0   \n",
              "300   0.04417  70.0   2.24   0.0  0.400  6.871   47.4  7.8278   5.0  358.0   \n",
              "350   0.06211  40.0   1.25   0.0  0.429  6.490   44.4  8.7921   1.0  335.0   \n",
              "400  25.04610   0.0  18.10   0.0  0.693  5.987  100.0  1.5888  24.0  666.0   \n",
              "450   6.71772   0.0  18.10   0.0  0.713  6.749   92.6  2.3236  24.0  666.0   \n",
              "500   0.22438   0.0   9.69   0.0  0.585  6.027   79.7  2.4982   6.0  391.0   \n",
              "\n",
              "     ptratio       b  lstat  medv  \n",
              "0       15.3  396.90   4.98  24.0  \n",
              "50      16.8  395.56  13.45  19.7  \n",
              "100     20.9  394.76   9.42  27.5  \n",
              "150     14.7  372.80  14.10  21.5  \n",
              "200     17.0  384.30   4.45  32.9  \n",
              "250     19.1  396.28   5.90  24.4  \n",
              "300     14.8  390.86   6.07  24.8  \n",
              "350     19.7  396.90   5.98  22.9  \n",
              "400     20.2  396.90  26.77   5.6  \n",
              "450     20.2    0.32  17.44  13.4  \n",
              "500     19.2  396.90  14.33  16.8  "
            ],
            "text/html": [
              "\n",
              "  <div id=\"df-c26adb9c-154b-45a7-bf54-80f5045935a5\">\n",
              "    <div class=\"colab-df-container\">\n",
              "      <div>\n",
              "<style scoped>\n",
              "    .dataframe tbody tr th:only-of-type {\n",
              "        vertical-align: middle;\n",
              "    }\n",
              "\n",
              "    .dataframe tbody tr th {\n",
              "        vertical-align: top;\n",
              "    }\n",
              "\n",
              "    .dataframe thead th {\n",
              "        text-align: right;\n",
              "    }\n",
              "</style>\n",
              "<table border=\"1\" class=\"dataframe\">\n",
              "  <thead>\n",
              "    <tr style=\"text-align: right;\">\n",
              "      <th></th>\n",
              "      <th>crim</th>\n",
              "      <th>zn</th>\n",
              "      <th>indus</th>\n",
              "      <th>chas</th>\n",
              "      <th>nox</th>\n",
              "      <th>rm</th>\n",
              "      <th>age</th>\n",
              "      <th>dis</th>\n",
              "      <th>rad</th>\n",
              "      <th>tax</th>\n",
              "      <th>ptratio</th>\n",
              "      <th>b</th>\n",
              "      <th>lstat</th>\n",
              "      <th>medv</th>\n",
              "    </tr>\n",
              "  </thead>\n",
              "  <tbody>\n",
              "    <tr>\n",
              "      <th>0</th>\n",
              "      <td>0.00632</td>\n",
              "      <td>18.0</td>\n",
              "      <td>2.31</td>\n",
              "      <td>0.0</td>\n",
              "      <td>0.538</td>\n",
              "      <td>6.575</td>\n",
              "      <td>65.2</td>\n",
              "      <td>4.0900</td>\n",
              "      <td>1.0</td>\n",
              "      <td>296.0</td>\n",
              "      <td>15.3</td>\n",
              "      <td>396.90</td>\n",
              "      <td>4.98</td>\n",
              "      <td>24.0</td>\n",
              "    </tr>\n",
              "    <tr>\n",
              "      <th>50</th>\n",
              "      <td>0.08873</td>\n",
              "      <td>21.0</td>\n",
              "      <td>5.64</td>\n",
              "      <td>0.0</td>\n",
              "      <td>0.439</td>\n",
              "      <td>5.963</td>\n",
              "      <td>45.7</td>\n",
              "      <td>6.8147</td>\n",
              "      <td>4.0</td>\n",
              "      <td>243.0</td>\n",
              "      <td>16.8</td>\n",
              "      <td>395.56</td>\n",
              "      <td>13.45</td>\n",
              "      <td>19.7</td>\n",
              "    </tr>\n",
              "    <tr>\n",
              "      <th>100</th>\n",
              "      <td>0.14866</td>\n",
              "      <td>0.0</td>\n",
              "      <td>8.56</td>\n",
              "      <td>0.0</td>\n",
              "      <td>0.520</td>\n",
              "      <td>6.727</td>\n",
              "      <td>79.9</td>\n",
              "      <td>2.7778</td>\n",
              "      <td>5.0</td>\n",
              "      <td>384.0</td>\n",
              "      <td>20.9</td>\n",
              "      <td>394.76</td>\n",
              "      <td>9.42</td>\n",
              "      <td>27.5</td>\n",
              "    </tr>\n",
              "    <tr>\n",
              "      <th>150</th>\n",
              "      <td>1.65660</td>\n",
              "      <td>0.0</td>\n",
              "      <td>19.58</td>\n",
              "      <td>0.0</td>\n",
              "      <td>0.871</td>\n",
              "      <td>6.122</td>\n",
              "      <td>97.3</td>\n",
              "      <td>1.6180</td>\n",
              "      <td>5.0</td>\n",
              "      <td>403.0</td>\n",
              "      <td>14.7</td>\n",
              "      <td>372.80</td>\n",
              "      <td>14.10</td>\n",
              "      <td>21.5</td>\n",
              "    </tr>\n",
              "    <tr>\n",
              "      <th>200</th>\n",
              "      <td>0.01778</td>\n",
              "      <td>95.0</td>\n",
              "      <td>1.47</td>\n",
              "      <td>0.0</td>\n",
              "      <td>0.403</td>\n",
              "      <td>7.135</td>\n",
              "      <td>13.9</td>\n",
              "      <td>7.6534</td>\n",
              "      <td>3.0</td>\n",
              "      <td>402.0</td>\n",
              "      <td>17.0</td>\n",
              "      <td>384.30</td>\n",
              "      <td>4.45</td>\n",
              "      <td>32.9</td>\n",
              "    </tr>\n",
              "    <tr>\n",
              "      <th>250</th>\n",
              "      <td>0.14030</td>\n",
              "      <td>22.0</td>\n",
              "      <td>5.86</td>\n",
              "      <td>0.0</td>\n",
              "      <td>0.431</td>\n",
              "      <td>6.487</td>\n",
              "      <td>13.0</td>\n",
              "      <td>7.3967</td>\n",
              "      <td>7.0</td>\n",
              "      <td>330.0</td>\n",
              "      <td>19.1</td>\n",
              "      <td>396.28</td>\n",
              "      <td>5.90</td>\n",
              "      <td>24.4</td>\n",
              "    </tr>\n",
              "    <tr>\n",
              "      <th>300</th>\n",
              "      <td>0.04417</td>\n",
              "      <td>70.0</td>\n",
              "      <td>2.24</td>\n",
              "      <td>0.0</td>\n",
              "      <td>0.400</td>\n",
              "      <td>6.871</td>\n",
              "      <td>47.4</td>\n",
              "      <td>7.8278</td>\n",
              "      <td>5.0</td>\n",
              "      <td>358.0</td>\n",
              "      <td>14.8</td>\n",
              "      <td>390.86</td>\n",
              "      <td>6.07</td>\n",
              "      <td>24.8</td>\n",
              "    </tr>\n",
              "    <tr>\n",
              "      <th>350</th>\n",
              "      <td>0.06211</td>\n",
              "      <td>40.0</td>\n",
              "      <td>1.25</td>\n",
              "      <td>0.0</td>\n",
              "      <td>0.429</td>\n",
              "      <td>6.490</td>\n",
              "      <td>44.4</td>\n",
              "      <td>8.7921</td>\n",
              "      <td>1.0</td>\n",
              "      <td>335.0</td>\n",
              "      <td>19.7</td>\n",
              "      <td>396.90</td>\n",
              "      <td>5.98</td>\n",
              "      <td>22.9</td>\n",
              "    </tr>\n",
              "    <tr>\n",
              "      <th>400</th>\n",
              "      <td>25.04610</td>\n",
              "      <td>0.0</td>\n",
              "      <td>18.10</td>\n",
              "      <td>0.0</td>\n",
              "      <td>0.693</td>\n",
              "      <td>5.987</td>\n",
              "      <td>100.0</td>\n",
              "      <td>1.5888</td>\n",
              "      <td>24.0</td>\n",
              "      <td>666.0</td>\n",
              "      <td>20.2</td>\n",
              "      <td>396.90</td>\n",
              "      <td>26.77</td>\n",
              "      <td>5.6</td>\n",
              "    </tr>\n",
              "    <tr>\n",
              "      <th>450</th>\n",
              "      <td>6.71772</td>\n",
              "      <td>0.0</td>\n",
              "      <td>18.10</td>\n",
              "      <td>0.0</td>\n",
              "      <td>0.713</td>\n",
              "      <td>6.749</td>\n",
              "      <td>92.6</td>\n",
              "      <td>2.3236</td>\n",
              "      <td>24.0</td>\n",
              "      <td>666.0</td>\n",
              "      <td>20.2</td>\n",
              "      <td>0.32</td>\n",
              "      <td>17.44</td>\n",
              "      <td>13.4</td>\n",
              "    </tr>\n",
              "    <tr>\n",
              "      <th>500</th>\n",
              "      <td>0.22438</td>\n",
              "      <td>0.0</td>\n",
              "      <td>9.69</td>\n",
              "      <td>0.0</td>\n",
              "      <td>0.585</td>\n",
              "      <td>6.027</td>\n",
              "      <td>79.7</td>\n",
              "      <td>2.4982</td>\n",
              "      <td>6.0</td>\n",
              "      <td>391.0</td>\n",
              "      <td>19.2</td>\n",
              "      <td>396.90</td>\n",
              "      <td>14.33</td>\n",
              "      <td>16.8</td>\n",
              "    </tr>\n",
              "  </tbody>\n",
              "</table>\n",
              "</div>\n",
              "      <button class=\"colab-df-convert\" onclick=\"convertToInteractive('df-c26adb9c-154b-45a7-bf54-80f5045935a5')\"\n",
              "              title=\"Convert this dataframe to an interactive table.\"\n",
              "              style=\"display:none;\">\n",
              "        \n",
              "  <svg xmlns=\"http://www.w3.org/2000/svg\" height=\"24px\"viewBox=\"0 0 24 24\"\n",
              "       width=\"24px\">\n",
              "    <path d=\"M0 0h24v24H0V0z\" fill=\"none\"/>\n",
              "    <path d=\"M18.56 5.44l.94 2.06.94-2.06 2.06-.94-2.06-.94-.94-2.06-.94 2.06-2.06.94zm-11 1L8.5 8.5l.94-2.06 2.06-.94-2.06-.94L8.5 2.5l-.94 2.06-2.06.94zm10 10l.94 2.06.94-2.06 2.06-.94-2.06-.94-.94-2.06-.94 2.06-2.06.94z\"/><path d=\"M17.41 7.96l-1.37-1.37c-.4-.4-.92-.59-1.43-.59-.52 0-1.04.2-1.43.59L10.3 9.45l-7.72 7.72c-.78.78-.78 2.05 0 2.83L4 21.41c.39.39.9.59 1.41.59.51 0 1.02-.2 1.41-.59l7.78-7.78 2.81-2.81c.8-.78.8-2.07 0-2.86zM5.41 20L4 18.59l7.72-7.72 1.47 1.35L5.41 20z\"/>\n",
              "  </svg>\n",
              "      </button>\n",
              "      \n",
              "  <style>\n",
              "    .colab-df-container {\n",
              "      display:flex;\n",
              "      flex-wrap:wrap;\n",
              "      gap: 12px;\n",
              "    }\n",
              "\n",
              "    .colab-df-convert {\n",
              "      background-color: #E8F0FE;\n",
              "      border: none;\n",
              "      border-radius: 50%;\n",
              "      cursor: pointer;\n",
              "      display: none;\n",
              "      fill: #1967D2;\n",
              "      height: 32px;\n",
              "      padding: 0 0 0 0;\n",
              "      width: 32px;\n",
              "    }\n",
              "\n",
              "    .colab-df-convert:hover {\n",
              "      background-color: #E2EBFA;\n",
              "      box-shadow: 0px 1px 2px rgba(60, 64, 67, 0.3), 0px 1px 3px 1px rgba(60, 64, 67, 0.15);\n",
              "      fill: #174EA6;\n",
              "    }\n",
              "\n",
              "    [theme=dark] .colab-df-convert {\n",
              "      background-color: #3B4455;\n",
              "      fill: #D2E3FC;\n",
              "    }\n",
              "\n",
              "    [theme=dark] .colab-df-convert:hover {\n",
              "      background-color: #434B5C;\n",
              "      box-shadow: 0px 1px 3px 1px rgba(0, 0, 0, 0.15);\n",
              "      filter: drop-shadow(0px 1px 2px rgba(0, 0, 0, 0.3));\n",
              "      fill: #FFFFFF;\n",
              "    }\n",
              "  </style>\n",
              "\n",
              "      <script>\n",
              "        const buttonEl =\n",
              "          document.querySelector('#df-c26adb9c-154b-45a7-bf54-80f5045935a5 button.colab-df-convert');\n",
              "        buttonEl.style.display =\n",
              "          google.colab.kernel.accessAllowed ? 'block' : 'none';\n",
              "\n",
              "        async function convertToInteractive(key) {\n",
              "          const element = document.querySelector('#df-c26adb9c-154b-45a7-bf54-80f5045935a5');\n",
              "          const dataTable =\n",
              "            await google.colab.kernel.invokeFunction('convertToInteractive',\n",
              "                                                     [key], {});\n",
              "          if (!dataTable) return;\n",
              "\n",
              "          const docLinkHtml = 'Like what you see? Visit the ' +\n",
              "            '<a target=\"_blank\" href=https://colab.research.google.com/notebooks/data_table.ipynb>data table notebook</a>'\n",
              "            + ' to learn more about interactive tables.';\n",
              "          element.innerHTML = '';\n",
              "          dataTable['output_type'] = 'display_data';\n",
              "          await google.colab.output.renderOutput(dataTable, element);\n",
              "          const docLink = document.createElement('div');\n",
              "          docLink.innerHTML = docLinkHtml;\n",
              "          element.appendChild(docLink);\n",
              "        }\n",
              "      </script>\n",
              "    </div>\n",
              "  </div>\n",
              "  "
            ]
          },
          "metadata": {},
          "execution_count": 86
        }
      ]
    },
    {
      "cell_type": "markdown",
      "source": [
        "# 34. How to change column values when importing csv to a dataframe?\n",
        "Difficulty Level: L2\n",
        "\n",
        "Import the boston housing dataset, but while importing change the 'medv' (median house value) column so that values < 25 becomes ‘Low’ and > 25 becomes ‘High’."
      ],
      "metadata": {
        "id": "OxwJegZ1bhHj"
      }
    },
    {
      "cell_type": "code",
      "source": [
        "df = pd.read_csv('https://raw.githubusercontent.com/selva86/datasets/master/BostonHousing.csv')\n",
        "df['medv'] = np.where(df['medv'] < 25, 'low', 'high')\n",
        "df"
      ],
      "metadata": {
        "colab": {
          "base_uri": "https://localhost:8080/",
          "height": 423
        },
        "id": "CKSh8E3AcLEx",
        "outputId": "cc36d4c0-5191-45de-b650-a46460389c6a"
      },
      "execution_count": 87,
      "outputs": [
        {
          "output_type": "execute_result",
          "data": {
            "text/plain": [
              "        crim    zn  indus  chas    nox     rm   age     dis  rad  tax  \\\n",
              "0    0.00632  18.0   2.31     0  0.538  6.575  65.2  4.0900    1  296   \n",
              "1    0.02731   0.0   7.07     0  0.469  6.421  78.9  4.9671    2  242   \n",
              "2    0.02729   0.0   7.07     0  0.469  7.185  61.1  4.9671    2  242   \n",
              "3    0.03237   0.0   2.18     0  0.458  6.998  45.8  6.0622    3  222   \n",
              "4    0.06905   0.0   2.18     0  0.458  7.147  54.2  6.0622    3  222   \n",
              "..       ...   ...    ...   ...    ...    ...   ...     ...  ...  ...   \n",
              "501  0.06263   0.0  11.93     0  0.573  6.593  69.1  2.4786    1  273   \n",
              "502  0.04527   0.0  11.93     0  0.573  6.120  76.7  2.2875    1  273   \n",
              "503  0.06076   0.0  11.93     0  0.573  6.976  91.0  2.1675    1  273   \n",
              "504  0.10959   0.0  11.93     0  0.573  6.794  89.3  2.3889    1  273   \n",
              "505  0.04741   0.0  11.93     0  0.573  6.030  80.8  2.5050    1  273   \n",
              "\n",
              "     ptratio       b  lstat  medv  \n",
              "0       15.3  396.90   4.98   low  \n",
              "1       17.8  396.90   9.14   low  \n",
              "2       17.8  392.83   4.03  high  \n",
              "3       18.7  394.63   2.94  high  \n",
              "4       18.7  396.90   5.33  high  \n",
              "..       ...     ...    ...   ...  \n",
              "501     21.0  391.99   9.67   low  \n",
              "502     21.0  396.90   9.08   low  \n",
              "503     21.0  396.90   5.64   low  \n",
              "504     21.0  393.45   6.48   low  \n",
              "505     21.0  396.90   7.88   low  \n",
              "\n",
              "[506 rows x 14 columns]"
            ],
            "text/html": [
              "\n",
              "  <div id=\"df-511607c0-2649-4de7-9902-1e1b97b0d8d8\">\n",
              "    <div class=\"colab-df-container\">\n",
              "      <div>\n",
              "<style scoped>\n",
              "    .dataframe tbody tr th:only-of-type {\n",
              "        vertical-align: middle;\n",
              "    }\n",
              "\n",
              "    .dataframe tbody tr th {\n",
              "        vertical-align: top;\n",
              "    }\n",
              "\n",
              "    .dataframe thead th {\n",
              "        text-align: right;\n",
              "    }\n",
              "</style>\n",
              "<table border=\"1\" class=\"dataframe\">\n",
              "  <thead>\n",
              "    <tr style=\"text-align: right;\">\n",
              "      <th></th>\n",
              "      <th>crim</th>\n",
              "      <th>zn</th>\n",
              "      <th>indus</th>\n",
              "      <th>chas</th>\n",
              "      <th>nox</th>\n",
              "      <th>rm</th>\n",
              "      <th>age</th>\n",
              "      <th>dis</th>\n",
              "      <th>rad</th>\n",
              "      <th>tax</th>\n",
              "      <th>ptratio</th>\n",
              "      <th>b</th>\n",
              "      <th>lstat</th>\n",
              "      <th>medv</th>\n",
              "    </tr>\n",
              "  </thead>\n",
              "  <tbody>\n",
              "    <tr>\n",
              "      <th>0</th>\n",
              "      <td>0.00632</td>\n",
              "      <td>18.0</td>\n",
              "      <td>2.31</td>\n",
              "      <td>0</td>\n",
              "      <td>0.538</td>\n",
              "      <td>6.575</td>\n",
              "      <td>65.2</td>\n",
              "      <td>4.0900</td>\n",
              "      <td>1</td>\n",
              "      <td>296</td>\n",
              "      <td>15.3</td>\n",
              "      <td>396.90</td>\n",
              "      <td>4.98</td>\n",
              "      <td>low</td>\n",
              "    </tr>\n",
              "    <tr>\n",
              "      <th>1</th>\n",
              "      <td>0.02731</td>\n",
              "      <td>0.0</td>\n",
              "      <td>7.07</td>\n",
              "      <td>0</td>\n",
              "      <td>0.469</td>\n",
              "      <td>6.421</td>\n",
              "      <td>78.9</td>\n",
              "      <td>4.9671</td>\n",
              "      <td>2</td>\n",
              "      <td>242</td>\n",
              "      <td>17.8</td>\n",
              "      <td>396.90</td>\n",
              "      <td>9.14</td>\n",
              "      <td>low</td>\n",
              "    </tr>\n",
              "    <tr>\n",
              "      <th>2</th>\n",
              "      <td>0.02729</td>\n",
              "      <td>0.0</td>\n",
              "      <td>7.07</td>\n",
              "      <td>0</td>\n",
              "      <td>0.469</td>\n",
              "      <td>7.185</td>\n",
              "      <td>61.1</td>\n",
              "      <td>4.9671</td>\n",
              "      <td>2</td>\n",
              "      <td>242</td>\n",
              "      <td>17.8</td>\n",
              "      <td>392.83</td>\n",
              "      <td>4.03</td>\n",
              "      <td>high</td>\n",
              "    </tr>\n",
              "    <tr>\n",
              "      <th>3</th>\n",
              "      <td>0.03237</td>\n",
              "      <td>0.0</td>\n",
              "      <td>2.18</td>\n",
              "      <td>0</td>\n",
              "      <td>0.458</td>\n",
              "      <td>6.998</td>\n",
              "      <td>45.8</td>\n",
              "      <td>6.0622</td>\n",
              "      <td>3</td>\n",
              "      <td>222</td>\n",
              "      <td>18.7</td>\n",
              "      <td>394.63</td>\n",
              "      <td>2.94</td>\n",
              "      <td>high</td>\n",
              "    </tr>\n",
              "    <tr>\n",
              "      <th>4</th>\n",
              "      <td>0.06905</td>\n",
              "      <td>0.0</td>\n",
              "      <td>2.18</td>\n",
              "      <td>0</td>\n",
              "      <td>0.458</td>\n",
              "      <td>7.147</td>\n",
              "      <td>54.2</td>\n",
              "      <td>6.0622</td>\n",
              "      <td>3</td>\n",
              "      <td>222</td>\n",
              "      <td>18.7</td>\n",
              "      <td>396.90</td>\n",
              "      <td>5.33</td>\n",
              "      <td>high</td>\n",
              "    </tr>\n",
              "    <tr>\n",
              "      <th>...</th>\n",
              "      <td>...</td>\n",
              "      <td>...</td>\n",
              "      <td>...</td>\n",
              "      <td>...</td>\n",
              "      <td>...</td>\n",
              "      <td>...</td>\n",
              "      <td>...</td>\n",
              "      <td>...</td>\n",
              "      <td>...</td>\n",
              "      <td>...</td>\n",
              "      <td>...</td>\n",
              "      <td>...</td>\n",
              "      <td>...</td>\n",
              "      <td>...</td>\n",
              "    </tr>\n",
              "    <tr>\n",
              "      <th>501</th>\n",
              "      <td>0.06263</td>\n",
              "      <td>0.0</td>\n",
              "      <td>11.93</td>\n",
              "      <td>0</td>\n",
              "      <td>0.573</td>\n",
              "      <td>6.593</td>\n",
              "      <td>69.1</td>\n",
              "      <td>2.4786</td>\n",
              "      <td>1</td>\n",
              "      <td>273</td>\n",
              "      <td>21.0</td>\n",
              "      <td>391.99</td>\n",
              "      <td>9.67</td>\n",
              "      <td>low</td>\n",
              "    </tr>\n",
              "    <tr>\n",
              "      <th>502</th>\n",
              "      <td>0.04527</td>\n",
              "      <td>0.0</td>\n",
              "      <td>11.93</td>\n",
              "      <td>0</td>\n",
              "      <td>0.573</td>\n",
              "      <td>6.120</td>\n",
              "      <td>76.7</td>\n",
              "      <td>2.2875</td>\n",
              "      <td>1</td>\n",
              "      <td>273</td>\n",
              "      <td>21.0</td>\n",
              "      <td>396.90</td>\n",
              "      <td>9.08</td>\n",
              "      <td>low</td>\n",
              "    </tr>\n",
              "    <tr>\n",
              "      <th>503</th>\n",
              "      <td>0.06076</td>\n",
              "      <td>0.0</td>\n",
              "      <td>11.93</td>\n",
              "      <td>0</td>\n",
              "      <td>0.573</td>\n",
              "      <td>6.976</td>\n",
              "      <td>91.0</td>\n",
              "      <td>2.1675</td>\n",
              "      <td>1</td>\n",
              "      <td>273</td>\n",
              "      <td>21.0</td>\n",
              "      <td>396.90</td>\n",
              "      <td>5.64</td>\n",
              "      <td>low</td>\n",
              "    </tr>\n",
              "    <tr>\n",
              "      <th>504</th>\n",
              "      <td>0.10959</td>\n",
              "      <td>0.0</td>\n",
              "      <td>11.93</td>\n",
              "      <td>0</td>\n",
              "      <td>0.573</td>\n",
              "      <td>6.794</td>\n",
              "      <td>89.3</td>\n",
              "      <td>2.3889</td>\n",
              "      <td>1</td>\n",
              "      <td>273</td>\n",
              "      <td>21.0</td>\n",
              "      <td>393.45</td>\n",
              "      <td>6.48</td>\n",
              "      <td>low</td>\n",
              "    </tr>\n",
              "    <tr>\n",
              "      <th>505</th>\n",
              "      <td>0.04741</td>\n",
              "      <td>0.0</td>\n",
              "      <td>11.93</td>\n",
              "      <td>0</td>\n",
              "      <td>0.573</td>\n",
              "      <td>6.030</td>\n",
              "      <td>80.8</td>\n",
              "      <td>2.5050</td>\n",
              "      <td>1</td>\n",
              "      <td>273</td>\n",
              "      <td>21.0</td>\n",
              "      <td>396.90</td>\n",
              "      <td>7.88</td>\n",
              "      <td>low</td>\n",
              "    </tr>\n",
              "  </tbody>\n",
              "</table>\n",
              "<p>506 rows × 14 columns</p>\n",
              "</div>\n",
              "      <button class=\"colab-df-convert\" onclick=\"convertToInteractive('df-511607c0-2649-4de7-9902-1e1b97b0d8d8')\"\n",
              "              title=\"Convert this dataframe to an interactive table.\"\n",
              "              style=\"display:none;\">\n",
              "        \n",
              "  <svg xmlns=\"http://www.w3.org/2000/svg\" height=\"24px\"viewBox=\"0 0 24 24\"\n",
              "       width=\"24px\">\n",
              "    <path d=\"M0 0h24v24H0V0z\" fill=\"none\"/>\n",
              "    <path d=\"M18.56 5.44l.94 2.06.94-2.06 2.06-.94-2.06-.94-.94-2.06-.94 2.06-2.06.94zm-11 1L8.5 8.5l.94-2.06 2.06-.94-2.06-.94L8.5 2.5l-.94 2.06-2.06.94zm10 10l.94 2.06.94-2.06 2.06-.94-2.06-.94-.94-2.06-.94 2.06-2.06.94z\"/><path d=\"M17.41 7.96l-1.37-1.37c-.4-.4-.92-.59-1.43-.59-.52 0-1.04.2-1.43.59L10.3 9.45l-7.72 7.72c-.78.78-.78 2.05 0 2.83L4 21.41c.39.39.9.59 1.41.59.51 0 1.02-.2 1.41-.59l7.78-7.78 2.81-2.81c.8-.78.8-2.07 0-2.86zM5.41 20L4 18.59l7.72-7.72 1.47 1.35L5.41 20z\"/>\n",
              "  </svg>\n",
              "      </button>\n",
              "      \n",
              "  <style>\n",
              "    .colab-df-container {\n",
              "      display:flex;\n",
              "      flex-wrap:wrap;\n",
              "      gap: 12px;\n",
              "    }\n",
              "\n",
              "    .colab-df-convert {\n",
              "      background-color: #E8F0FE;\n",
              "      border: none;\n",
              "      border-radius: 50%;\n",
              "      cursor: pointer;\n",
              "      display: none;\n",
              "      fill: #1967D2;\n",
              "      height: 32px;\n",
              "      padding: 0 0 0 0;\n",
              "      width: 32px;\n",
              "    }\n",
              "\n",
              "    .colab-df-convert:hover {\n",
              "      background-color: #E2EBFA;\n",
              "      box-shadow: 0px 1px 2px rgba(60, 64, 67, 0.3), 0px 1px 3px 1px rgba(60, 64, 67, 0.15);\n",
              "      fill: #174EA6;\n",
              "    }\n",
              "\n",
              "    [theme=dark] .colab-df-convert {\n",
              "      background-color: #3B4455;\n",
              "      fill: #D2E3FC;\n",
              "    }\n",
              "\n",
              "    [theme=dark] .colab-df-convert:hover {\n",
              "      background-color: #434B5C;\n",
              "      box-shadow: 0px 1px 3px 1px rgba(0, 0, 0, 0.15);\n",
              "      filter: drop-shadow(0px 1px 2px rgba(0, 0, 0, 0.3));\n",
              "      fill: #FFFFFF;\n",
              "    }\n",
              "  </style>\n",
              "\n",
              "      <script>\n",
              "        const buttonEl =\n",
              "          document.querySelector('#df-511607c0-2649-4de7-9902-1e1b97b0d8d8 button.colab-df-convert');\n",
              "        buttonEl.style.display =\n",
              "          google.colab.kernel.accessAllowed ? 'block' : 'none';\n",
              "\n",
              "        async function convertToInteractive(key) {\n",
              "          const element = document.querySelector('#df-511607c0-2649-4de7-9902-1e1b97b0d8d8');\n",
              "          const dataTable =\n",
              "            await google.colab.kernel.invokeFunction('convertToInteractive',\n",
              "                                                     [key], {});\n",
              "          if (!dataTable) return;\n",
              "\n",
              "          const docLinkHtml = 'Like what you see? Visit the ' +\n",
              "            '<a target=\"_blank\" href=https://colab.research.google.com/notebooks/data_table.ipynb>data table notebook</a>'\n",
              "            + ' to learn more about interactive tables.';\n",
              "          element.innerHTML = '';\n",
              "          dataTable['output_type'] = 'display_data';\n",
              "          await google.colab.output.renderOutput(dataTable, element);\n",
              "          const docLink = document.createElement('div');\n",
              "          docLink.innerHTML = docLinkHtml;\n",
              "          element.appendChild(docLink);\n",
              "        }\n",
              "      </script>\n",
              "    </div>\n",
              "  </div>\n",
              "  "
            ]
          },
          "metadata": {},
          "execution_count": 87
        }
      ]
    },
    {
      "cell_type": "code",
      "source": [
        "# Solution 1: Using converter parameter\n",
        "df = pd.read_csv('https://raw.githubusercontent.com/selva86/datasets/master/BostonHousing.csv', \n",
        "                 converters={'medv': lambda x: 'High' if float(x) > 25 else 'Low'})\n",
        "df"
      ],
      "metadata": {
        "colab": {
          "base_uri": "https://localhost:8080/",
          "height": 423
        },
        "id": "LjtQIVzYeZVr",
        "outputId": "62dc3ab0-d77a-4b40-da34-e30fd23d6a4e"
      },
      "execution_count": 88,
      "outputs": [
        {
          "output_type": "execute_result",
          "data": {
            "text/plain": [
              "        crim    zn  indus  chas    nox     rm   age     dis  rad  tax  \\\n",
              "0    0.00632  18.0   2.31     0  0.538  6.575  65.2  4.0900    1  296   \n",
              "1    0.02731   0.0   7.07     0  0.469  6.421  78.9  4.9671    2  242   \n",
              "2    0.02729   0.0   7.07     0  0.469  7.185  61.1  4.9671    2  242   \n",
              "3    0.03237   0.0   2.18     0  0.458  6.998  45.8  6.0622    3  222   \n",
              "4    0.06905   0.0   2.18     0  0.458  7.147  54.2  6.0622    3  222   \n",
              "..       ...   ...    ...   ...    ...    ...   ...     ...  ...  ...   \n",
              "501  0.06263   0.0  11.93     0  0.573  6.593  69.1  2.4786    1  273   \n",
              "502  0.04527   0.0  11.93     0  0.573  6.120  76.7  2.2875    1  273   \n",
              "503  0.06076   0.0  11.93     0  0.573  6.976  91.0  2.1675    1  273   \n",
              "504  0.10959   0.0  11.93     0  0.573  6.794  89.3  2.3889    1  273   \n",
              "505  0.04741   0.0  11.93     0  0.573  6.030  80.8  2.5050    1  273   \n",
              "\n",
              "     ptratio       b  lstat  medv  \n",
              "0       15.3  396.90   4.98   Low  \n",
              "1       17.8  396.90   9.14   Low  \n",
              "2       17.8  392.83   4.03  High  \n",
              "3       18.7  394.63   2.94  High  \n",
              "4       18.7  396.90   5.33  High  \n",
              "..       ...     ...    ...   ...  \n",
              "501     21.0  391.99   9.67   Low  \n",
              "502     21.0  396.90   9.08   Low  \n",
              "503     21.0  396.90   5.64   Low  \n",
              "504     21.0  393.45   6.48   Low  \n",
              "505     21.0  396.90   7.88   Low  \n",
              "\n",
              "[506 rows x 14 columns]"
            ],
            "text/html": [
              "\n",
              "  <div id=\"df-6dde2b25-a0a8-4ad3-8d0c-a5f3210ceaa0\">\n",
              "    <div class=\"colab-df-container\">\n",
              "      <div>\n",
              "<style scoped>\n",
              "    .dataframe tbody tr th:only-of-type {\n",
              "        vertical-align: middle;\n",
              "    }\n",
              "\n",
              "    .dataframe tbody tr th {\n",
              "        vertical-align: top;\n",
              "    }\n",
              "\n",
              "    .dataframe thead th {\n",
              "        text-align: right;\n",
              "    }\n",
              "</style>\n",
              "<table border=\"1\" class=\"dataframe\">\n",
              "  <thead>\n",
              "    <tr style=\"text-align: right;\">\n",
              "      <th></th>\n",
              "      <th>crim</th>\n",
              "      <th>zn</th>\n",
              "      <th>indus</th>\n",
              "      <th>chas</th>\n",
              "      <th>nox</th>\n",
              "      <th>rm</th>\n",
              "      <th>age</th>\n",
              "      <th>dis</th>\n",
              "      <th>rad</th>\n",
              "      <th>tax</th>\n",
              "      <th>ptratio</th>\n",
              "      <th>b</th>\n",
              "      <th>lstat</th>\n",
              "      <th>medv</th>\n",
              "    </tr>\n",
              "  </thead>\n",
              "  <tbody>\n",
              "    <tr>\n",
              "      <th>0</th>\n",
              "      <td>0.00632</td>\n",
              "      <td>18.0</td>\n",
              "      <td>2.31</td>\n",
              "      <td>0</td>\n",
              "      <td>0.538</td>\n",
              "      <td>6.575</td>\n",
              "      <td>65.2</td>\n",
              "      <td>4.0900</td>\n",
              "      <td>1</td>\n",
              "      <td>296</td>\n",
              "      <td>15.3</td>\n",
              "      <td>396.90</td>\n",
              "      <td>4.98</td>\n",
              "      <td>Low</td>\n",
              "    </tr>\n",
              "    <tr>\n",
              "      <th>1</th>\n",
              "      <td>0.02731</td>\n",
              "      <td>0.0</td>\n",
              "      <td>7.07</td>\n",
              "      <td>0</td>\n",
              "      <td>0.469</td>\n",
              "      <td>6.421</td>\n",
              "      <td>78.9</td>\n",
              "      <td>4.9671</td>\n",
              "      <td>2</td>\n",
              "      <td>242</td>\n",
              "      <td>17.8</td>\n",
              "      <td>396.90</td>\n",
              "      <td>9.14</td>\n",
              "      <td>Low</td>\n",
              "    </tr>\n",
              "    <tr>\n",
              "      <th>2</th>\n",
              "      <td>0.02729</td>\n",
              "      <td>0.0</td>\n",
              "      <td>7.07</td>\n",
              "      <td>0</td>\n",
              "      <td>0.469</td>\n",
              "      <td>7.185</td>\n",
              "      <td>61.1</td>\n",
              "      <td>4.9671</td>\n",
              "      <td>2</td>\n",
              "      <td>242</td>\n",
              "      <td>17.8</td>\n",
              "      <td>392.83</td>\n",
              "      <td>4.03</td>\n",
              "      <td>High</td>\n",
              "    </tr>\n",
              "    <tr>\n",
              "      <th>3</th>\n",
              "      <td>0.03237</td>\n",
              "      <td>0.0</td>\n",
              "      <td>2.18</td>\n",
              "      <td>0</td>\n",
              "      <td>0.458</td>\n",
              "      <td>6.998</td>\n",
              "      <td>45.8</td>\n",
              "      <td>6.0622</td>\n",
              "      <td>3</td>\n",
              "      <td>222</td>\n",
              "      <td>18.7</td>\n",
              "      <td>394.63</td>\n",
              "      <td>2.94</td>\n",
              "      <td>High</td>\n",
              "    </tr>\n",
              "    <tr>\n",
              "      <th>4</th>\n",
              "      <td>0.06905</td>\n",
              "      <td>0.0</td>\n",
              "      <td>2.18</td>\n",
              "      <td>0</td>\n",
              "      <td>0.458</td>\n",
              "      <td>7.147</td>\n",
              "      <td>54.2</td>\n",
              "      <td>6.0622</td>\n",
              "      <td>3</td>\n",
              "      <td>222</td>\n",
              "      <td>18.7</td>\n",
              "      <td>396.90</td>\n",
              "      <td>5.33</td>\n",
              "      <td>High</td>\n",
              "    </tr>\n",
              "    <tr>\n",
              "      <th>...</th>\n",
              "      <td>...</td>\n",
              "      <td>...</td>\n",
              "      <td>...</td>\n",
              "      <td>...</td>\n",
              "      <td>...</td>\n",
              "      <td>...</td>\n",
              "      <td>...</td>\n",
              "      <td>...</td>\n",
              "      <td>...</td>\n",
              "      <td>...</td>\n",
              "      <td>...</td>\n",
              "      <td>...</td>\n",
              "      <td>...</td>\n",
              "      <td>...</td>\n",
              "    </tr>\n",
              "    <tr>\n",
              "      <th>501</th>\n",
              "      <td>0.06263</td>\n",
              "      <td>0.0</td>\n",
              "      <td>11.93</td>\n",
              "      <td>0</td>\n",
              "      <td>0.573</td>\n",
              "      <td>6.593</td>\n",
              "      <td>69.1</td>\n",
              "      <td>2.4786</td>\n",
              "      <td>1</td>\n",
              "      <td>273</td>\n",
              "      <td>21.0</td>\n",
              "      <td>391.99</td>\n",
              "      <td>9.67</td>\n",
              "      <td>Low</td>\n",
              "    </tr>\n",
              "    <tr>\n",
              "      <th>502</th>\n",
              "      <td>0.04527</td>\n",
              "      <td>0.0</td>\n",
              "      <td>11.93</td>\n",
              "      <td>0</td>\n",
              "      <td>0.573</td>\n",
              "      <td>6.120</td>\n",
              "      <td>76.7</td>\n",
              "      <td>2.2875</td>\n",
              "      <td>1</td>\n",
              "      <td>273</td>\n",
              "      <td>21.0</td>\n",
              "      <td>396.90</td>\n",
              "      <td>9.08</td>\n",
              "      <td>Low</td>\n",
              "    </tr>\n",
              "    <tr>\n",
              "      <th>503</th>\n",
              "      <td>0.06076</td>\n",
              "      <td>0.0</td>\n",
              "      <td>11.93</td>\n",
              "      <td>0</td>\n",
              "      <td>0.573</td>\n",
              "      <td>6.976</td>\n",
              "      <td>91.0</td>\n",
              "      <td>2.1675</td>\n",
              "      <td>1</td>\n",
              "      <td>273</td>\n",
              "      <td>21.0</td>\n",
              "      <td>396.90</td>\n",
              "      <td>5.64</td>\n",
              "      <td>Low</td>\n",
              "    </tr>\n",
              "    <tr>\n",
              "      <th>504</th>\n",
              "      <td>0.10959</td>\n",
              "      <td>0.0</td>\n",
              "      <td>11.93</td>\n",
              "      <td>0</td>\n",
              "      <td>0.573</td>\n",
              "      <td>6.794</td>\n",
              "      <td>89.3</td>\n",
              "      <td>2.3889</td>\n",
              "      <td>1</td>\n",
              "      <td>273</td>\n",
              "      <td>21.0</td>\n",
              "      <td>393.45</td>\n",
              "      <td>6.48</td>\n",
              "      <td>Low</td>\n",
              "    </tr>\n",
              "    <tr>\n",
              "      <th>505</th>\n",
              "      <td>0.04741</td>\n",
              "      <td>0.0</td>\n",
              "      <td>11.93</td>\n",
              "      <td>0</td>\n",
              "      <td>0.573</td>\n",
              "      <td>6.030</td>\n",
              "      <td>80.8</td>\n",
              "      <td>2.5050</td>\n",
              "      <td>1</td>\n",
              "      <td>273</td>\n",
              "      <td>21.0</td>\n",
              "      <td>396.90</td>\n",
              "      <td>7.88</td>\n",
              "      <td>Low</td>\n",
              "    </tr>\n",
              "  </tbody>\n",
              "</table>\n",
              "<p>506 rows × 14 columns</p>\n",
              "</div>\n",
              "      <button class=\"colab-df-convert\" onclick=\"convertToInteractive('df-6dde2b25-a0a8-4ad3-8d0c-a5f3210ceaa0')\"\n",
              "              title=\"Convert this dataframe to an interactive table.\"\n",
              "              style=\"display:none;\">\n",
              "        \n",
              "  <svg xmlns=\"http://www.w3.org/2000/svg\" height=\"24px\"viewBox=\"0 0 24 24\"\n",
              "       width=\"24px\">\n",
              "    <path d=\"M0 0h24v24H0V0z\" fill=\"none\"/>\n",
              "    <path d=\"M18.56 5.44l.94 2.06.94-2.06 2.06-.94-2.06-.94-.94-2.06-.94 2.06-2.06.94zm-11 1L8.5 8.5l.94-2.06 2.06-.94-2.06-.94L8.5 2.5l-.94 2.06-2.06.94zm10 10l.94 2.06.94-2.06 2.06-.94-2.06-.94-.94-2.06-.94 2.06-2.06.94z\"/><path d=\"M17.41 7.96l-1.37-1.37c-.4-.4-.92-.59-1.43-.59-.52 0-1.04.2-1.43.59L10.3 9.45l-7.72 7.72c-.78.78-.78 2.05 0 2.83L4 21.41c.39.39.9.59 1.41.59.51 0 1.02-.2 1.41-.59l7.78-7.78 2.81-2.81c.8-.78.8-2.07 0-2.86zM5.41 20L4 18.59l7.72-7.72 1.47 1.35L5.41 20z\"/>\n",
              "  </svg>\n",
              "      </button>\n",
              "      \n",
              "  <style>\n",
              "    .colab-df-container {\n",
              "      display:flex;\n",
              "      flex-wrap:wrap;\n",
              "      gap: 12px;\n",
              "    }\n",
              "\n",
              "    .colab-df-convert {\n",
              "      background-color: #E8F0FE;\n",
              "      border: none;\n",
              "      border-radius: 50%;\n",
              "      cursor: pointer;\n",
              "      display: none;\n",
              "      fill: #1967D2;\n",
              "      height: 32px;\n",
              "      padding: 0 0 0 0;\n",
              "      width: 32px;\n",
              "    }\n",
              "\n",
              "    .colab-df-convert:hover {\n",
              "      background-color: #E2EBFA;\n",
              "      box-shadow: 0px 1px 2px rgba(60, 64, 67, 0.3), 0px 1px 3px 1px rgba(60, 64, 67, 0.15);\n",
              "      fill: #174EA6;\n",
              "    }\n",
              "\n",
              "    [theme=dark] .colab-df-convert {\n",
              "      background-color: #3B4455;\n",
              "      fill: #D2E3FC;\n",
              "    }\n",
              "\n",
              "    [theme=dark] .colab-df-convert:hover {\n",
              "      background-color: #434B5C;\n",
              "      box-shadow: 0px 1px 3px 1px rgba(0, 0, 0, 0.15);\n",
              "      filter: drop-shadow(0px 1px 2px rgba(0, 0, 0, 0.3));\n",
              "      fill: #FFFFFF;\n",
              "    }\n",
              "  </style>\n",
              "\n",
              "      <script>\n",
              "        const buttonEl =\n",
              "          document.querySelector('#df-6dde2b25-a0a8-4ad3-8d0c-a5f3210ceaa0 button.colab-df-convert');\n",
              "        buttonEl.style.display =\n",
              "          google.colab.kernel.accessAllowed ? 'block' : 'none';\n",
              "\n",
              "        async function convertToInteractive(key) {\n",
              "          const element = document.querySelector('#df-6dde2b25-a0a8-4ad3-8d0c-a5f3210ceaa0');\n",
              "          const dataTable =\n",
              "            await google.colab.kernel.invokeFunction('convertToInteractive',\n",
              "                                                     [key], {});\n",
              "          if (!dataTable) return;\n",
              "\n",
              "          const docLinkHtml = 'Like what you see? Visit the ' +\n",
              "            '<a target=\"_blank\" href=https://colab.research.google.com/notebooks/data_table.ipynb>data table notebook</a>'\n",
              "            + ' to learn more about interactive tables.';\n",
              "          element.innerHTML = '';\n",
              "          dataTable['output_type'] = 'display_data';\n",
              "          await google.colab.output.renderOutput(dataTable, element);\n",
              "          const docLink = document.createElement('div');\n",
              "          docLink.innerHTML = docLinkHtml;\n",
              "          element.appendChild(docLink);\n",
              "        }\n",
              "      </script>\n",
              "    </div>\n",
              "  </div>\n",
              "  "
            ]
          },
          "metadata": {},
          "execution_count": 88
        }
      ]
    },
    {
      "cell_type": "markdown",
      "source": [
        "# 35. How to create a dataframe with rows as strides from a given series?\n",
        "Difficiulty Level: L3\n"
      ],
      "metadata": {
        "id": "W8xeA0sRelit"
      }
    },
    {
      "cell_type": "code",
      "source": [
        "# Input\n",
        "\n",
        "L = pd.Series(range(15))\n",
        "L"
      ],
      "metadata": {
        "colab": {
          "base_uri": "https://localhost:8080/"
        },
        "id": "mSPoDYXYevG8",
        "outputId": "e113c36d-bb7f-4903-a7c4-00b6f36700f7"
      },
      "execution_count": 89,
      "outputs": [
        {
          "output_type": "execute_result",
          "data": {
            "text/plain": [
              "0      0\n",
              "1      1\n",
              "2      2\n",
              "3      3\n",
              "4      4\n",
              "5      5\n",
              "6      6\n",
              "7      7\n",
              "8      8\n",
              "9      9\n",
              "10    10\n",
              "11    11\n",
              "12    12\n",
              "13    13\n",
              "14    14\n",
              "dtype: int64"
            ]
          },
          "metadata": {},
          "execution_count": 89
        }
      ]
    },
    {
      "cell_type": "code",
      "source": [
        "L = pd.Series(range(15))\n",
        "\n",
        "def gen_strides(a, stride_len=5, window_len=5):\n",
        "    n_strides = ((a.size-window_len)//stride_len) + 1\n",
        "    return np.array([a[s:(s+window_len)] for s in np.arange(0, a.size, stride_len)[:n_strides]])\n",
        "\n",
        "gen_strides(L, stride_len=2, window_len=4)"
      ],
      "metadata": {
        "colab": {
          "base_uri": "https://localhost:8080/"
        },
        "id": "XWxkfK_XfDS_",
        "outputId": "04da9db7-aded-4ec8-9fd4-106be0d6c5eb"
      },
      "execution_count": 90,
      "outputs": [
        {
          "output_type": "execute_result",
          "data": {
            "text/plain": [
              "array([[ 0,  1,  2,  3],\n",
              "       [ 2,  3,  4,  5],\n",
              "       [ 4,  5,  6,  7],\n",
              "       [ 6,  7,  8,  9],\n",
              "       [ 8,  9, 10, 11],\n",
              "       [10, 11, 12, 13]])"
            ]
          },
          "metadata": {},
          "execution_count": 90
        }
      ]
    },
    {
      "cell_type": "markdown",
      "source": [
        "# 36. How to import only specified columns from a csv file?\n",
        "Difficulty Level: L1\n",
        "\n",
        "Import ‘crim’ and ‘medv’ columns of the BostonHousing dataset as a dataframe."
      ],
      "metadata": {
        "id": "gv3id8cT_f76"
      }
    },
    {
      "cell_type": "code",
      "source": [
        "df = pd.read_csv('https://raw.githubusercontent.com/selva86/datasets/master/BostonHousing.csv')\n",
        "df = df[['crim', 'medv']]\n",
        "df"
      ],
      "metadata": {
        "colab": {
          "base_uri": "https://localhost:8080/",
          "height": 423
        },
        "id": "x2SAEbdp_k4p",
        "outputId": "043f43bb-82d2-4fbe-94b9-49f0762ada24"
      },
      "execution_count": 91,
      "outputs": [
        {
          "output_type": "execute_result",
          "data": {
            "text/plain": [
              "        crim  medv\n",
              "0    0.00632  24.0\n",
              "1    0.02731  21.6\n",
              "2    0.02729  34.7\n",
              "3    0.03237  33.4\n",
              "4    0.06905  36.2\n",
              "..       ...   ...\n",
              "501  0.06263  22.4\n",
              "502  0.04527  20.6\n",
              "503  0.06076  23.9\n",
              "504  0.10959  22.0\n",
              "505  0.04741  11.9\n",
              "\n",
              "[506 rows x 2 columns]"
            ],
            "text/html": [
              "\n",
              "  <div id=\"df-f6be912a-fed9-4df7-a968-41f62bf02585\">\n",
              "    <div class=\"colab-df-container\">\n",
              "      <div>\n",
              "<style scoped>\n",
              "    .dataframe tbody tr th:only-of-type {\n",
              "        vertical-align: middle;\n",
              "    }\n",
              "\n",
              "    .dataframe tbody tr th {\n",
              "        vertical-align: top;\n",
              "    }\n",
              "\n",
              "    .dataframe thead th {\n",
              "        text-align: right;\n",
              "    }\n",
              "</style>\n",
              "<table border=\"1\" class=\"dataframe\">\n",
              "  <thead>\n",
              "    <tr style=\"text-align: right;\">\n",
              "      <th></th>\n",
              "      <th>crim</th>\n",
              "      <th>medv</th>\n",
              "    </tr>\n",
              "  </thead>\n",
              "  <tbody>\n",
              "    <tr>\n",
              "      <th>0</th>\n",
              "      <td>0.00632</td>\n",
              "      <td>24.0</td>\n",
              "    </tr>\n",
              "    <tr>\n",
              "      <th>1</th>\n",
              "      <td>0.02731</td>\n",
              "      <td>21.6</td>\n",
              "    </tr>\n",
              "    <tr>\n",
              "      <th>2</th>\n",
              "      <td>0.02729</td>\n",
              "      <td>34.7</td>\n",
              "    </tr>\n",
              "    <tr>\n",
              "      <th>3</th>\n",
              "      <td>0.03237</td>\n",
              "      <td>33.4</td>\n",
              "    </tr>\n",
              "    <tr>\n",
              "      <th>4</th>\n",
              "      <td>0.06905</td>\n",
              "      <td>36.2</td>\n",
              "    </tr>\n",
              "    <tr>\n",
              "      <th>...</th>\n",
              "      <td>...</td>\n",
              "      <td>...</td>\n",
              "    </tr>\n",
              "    <tr>\n",
              "      <th>501</th>\n",
              "      <td>0.06263</td>\n",
              "      <td>22.4</td>\n",
              "    </tr>\n",
              "    <tr>\n",
              "      <th>502</th>\n",
              "      <td>0.04527</td>\n",
              "      <td>20.6</td>\n",
              "    </tr>\n",
              "    <tr>\n",
              "      <th>503</th>\n",
              "      <td>0.06076</td>\n",
              "      <td>23.9</td>\n",
              "    </tr>\n",
              "    <tr>\n",
              "      <th>504</th>\n",
              "      <td>0.10959</td>\n",
              "      <td>22.0</td>\n",
              "    </tr>\n",
              "    <tr>\n",
              "      <th>505</th>\n",
              "      <td>0.04741</td>\n",
              "      <td>11.9</td>\n",
              "    </tr>\n",
              "  </tbody>\n",
              "</table>\n",
              "<p>506 rows × 2 columns</p>\n",
              "</div>\n",
              "      <button class=\"colab-df-convert\" onclick=\"convertToInteractive('df-f6be912a-fed9-4df7-a968-41f62bf02585')\"\n",
              "              title=\"Convert this dataframe to an interactive table.\"\n",
              "              style=\"display:none;\">\n",
              "        \n",
              "  <svg xmlns=\"http://www.w3.org/2000/svg\" height=\"24px\"viewBox=\"0 0 24 24\"\n",
              "       width=\"24px\">\n",
              "    <path d=\"M0 0h24v24H0V0z\" fill=\"none\"/>\n",
              "    <path d=\"M18.56 5.44l.94 2.06.94-2.06 2.06-.94-2.06-.94-.94-2.06-.94 2.06-2.06.94zm-11 1L8.5 8.5l.94-2.06 2.06-.94-2.06-.94L8.5 2.5l-.94 2.06-2.06.94zm10 10l.94 2.06.94-2.06 2.06-.94-2.06-.94-.94-2.06-.94 2.06-2.06.94z\"/><path d=\"M17.41 7.96l-1.37-1.37c-.4-.4-.92-.59-1.43-.59-.52 0-1.04.2-1.43.59L10.3 9.45l-7.72 7.72c-.78.78-.78 2.05 0 2.83L4 21.41c.39.39.9.59 1.41.59.51 0 1.02-.2 1.41-.59l7.78-7.78 2.81-2.81c.8-.78.8-2.07 0-2.86zM5.41 20L4 18.59l7.72-7.72 1.47 1.35L5.41 20z\"/>\n",
              "  </svg>\n",
              "      </button>\n",
              "      \n",
              "  <style>\n",
              "    .colab-df-container {\n",
              "      display:flex;\n",
              "      flex-wrap:wrap;\n",
              "      gap: 12px;\n",
              "    }\n",
              "\n",
              "    .colab-df-convert {\n",
              "      background-color: #E8F0FE;\n",
              "      border: none;\n",
              "      border-radius: 50%;\n",
              "      cursor: pointer;\n",
              "      display: none;\n",
              "      fill: #1967D2;\n",
              "      height: 32px;\n",
              "      padding: 0 0 0 0;\n",
              "      width: 32px;\n",
              "    }\n",
              "\n",
              "    .colab-df-convert:hover {\n",
              "      background-color: #E2EBFA;\n",
              "      box-shadow: 0px 1px 2px rgba(60, 64, 67, 0.3), 0px 1px 3px 1px rgba(60, 64, 67, 0.15);\n",
              "      fill: #174EA6;\n",
              "    }\n",
              "\n",
              "    [theme=dark] .colab-df-convert {\n",
              "      background-color: #3B4455;\n",
              "      fill: #D2E3FC;\n",
              "    }\n",
              "\n",
              "    [theme=dark] .colab-df-convert:hover {\n",
              "      background-color: #434B5C;\n",
              "      box-shadow: 0px 1px 3px 1px rgba(0, 0, 0, 0.15);\n",
              "      filter: drop-shadow(0px 1px 2px rgba(0, 0, 0, 0.3));\n",
              "      fill: #FFFFFF;\n",
              "    }\n",
              "  </style>\n",
              "\n",
              "      <script>\n",
              "        const buttonEl =\n",
              "          document.querySelector('#df-f6be912a-fed9-4df7-a968-41f62bf02585 button.colab-df-convert');\n",
              "        buttonEl.style.display =\n",
              "          google.colab.kernel.accessAllowed ? 'block' : 'none';\n",
              "\n",
              "        async function convertToInteractive(key) {\n",
              "          const element = document.querySelector('#df-f6be912a-fed9-4df7-a968-41f62bf02585');\n",
              "          const dataTable =\n",
              "            await google.colab.kernel.invokeFunction('convertToInteractive',\n",
              "                                                     [key], {});\n",
              "          if (!dataTable) return;\n",
              "\n",
              "          const docLinkHtml = 'Like what you see? Visit the ' +\n",
              "            '<a target=\"_blank\" href=https://colab.research.google.com/notebooks/data_table.ipynb>data table notebook</a>'\n",
              "            + ' to learn more about interactive tables.';\n",
              "          element.innerHTML = '';\n",
              "          dataTable['output_type'] = 'display_data';\n",
              "          await google.colab.output.renderOutput(dataTable, element);\n",
              "          const docLink = document.createElement('div');\n",
              "          docLink.innerHTML = docLinkHtml;\n",
              "          element.appendChild(docLink);\n",
              "        }\n",
              "      </script>\n",
              "    </div>\n",
              "  </div>\n",
              "  "
            ]
          },
          "metadata": {},
          "execution_count": 91
        }
      ]
    },
    {
      "cell_type": "code",
      "source": [
        "df = pd.read_csv('https://raw.githubusercontent.com/selva86/datasets/master/BostonHousing.csv',\n",
        "                 usecols=['crim', 'medv'])\n",
        "df"
      ],
      "metadata": {
        "colab": {
          "base_uri": "https://localhost:8080/",
          "height": 423
        },
        "id": "lDX-182fB4gj",
        "outputId": "f204172b-325e-44d4-88da-16e8e6571212"
      },
      "execution_count": 92,
      "outputs": [
        {
          "output_type": "execute_result",
          "data": {
            "text/plain": [
              "        crim  medv\n",
              "0    0.00632  24.0\n",
              "1    0.02731  21.6\n",
              "2    0.02729  34.7\n",
              "3    0.03237  33.4\n",
              "4    0.06905  36.2\n",
              "..       ...   ...\n",
              "501  0.06263  22.4\n",
              "502  0.04527  20.6\n",
              "503  0.06076  23.9\n",
              "504  0.10959  22.0\n",
              "505  0.04741  11.9\n",
              "\n",
              "[506 rows x 2 columns]"
            ],
            "text/html": [
              "\n",
              "  <div id=\"df-4729c21a-67aa-41cf-8cba-197da4e47d91\">\n",
              "    <div class=\"colab-df-container\">\n",
              "      <div>\n",
              "<style scoped>\n",
              "    .dataframe tbody tr th:only-of-type {\n",
              "        vertical-align: middle;\n",
              "    }\n",
              "\n",
              "    .dataframe tbody tr th {\n",
              "        vertical-align: top;\n",
              "    }\n",
              "\n",
              "    .dataframe thead th {\n",
              "        text-align: right;\n",
              "    }\n",
              "</style>\n",
              "<table border=\"1\" class=\"dataframe\">\n",
              "  <thead>\n",
              "    <tr style=\"text-align: right;\">\n",
              "      <th></th>\n",
              "      <th>crim</th>\n",
              "      <th>medv</th>\n",
              "    </tr>\n",
              "  </thead>\n",
              "  <tbody>\n",
              "    <tr>\n",
              "      <th>0</th>\n",
              "      <td>0.00632</td>\n",
              "      <td>24.0</td>\n",
              "    </tr>\n",
              "    <tr>\n",
              "      <th>1</th>\n",
              "      <td>0.02731</td>\n",
              "      <td>21.6</td>\n",
              "    </tr>\n",
              "    <tr>\n",
              "      <th>2</th>\n",
              "      <td>0.02729</td>\n",
              "      <td>34.7</td>\n",
              "    </tr>\n",
              "    <tr>\n",
              "      <th>3</th>\n",
              "      <td>0.03237</td>\n",
              "      <td>33.4</td>\n",
              "    </tr>\n",
              "    <tr>\n",
              "      <th>4</th>\n",
              "      <td>0.06905</td>\n",
              "      <td>36.2</td>\n",
              "    </tr>\n",
              "    <tr>\n",
              "      <th>...</th>\n",
              "      <td>...</td>\n",
              "      <td>...</td>\n",
              "    </tr>\n",
              "    <tr>\n",
              "      <th>501</th>\n",
              "      <td>0.06263</td>\n",
              "      <td>22.4</td>\n",
              "    </tr>\n",
              "    <tr>\n",
              "      <th>502</th>\n",
              "      <td>0.04527</td>\n",
              "      <td>20.6</td>\n",
              "    </tr>\n",
              "    <tr>\n",
              "      <th>503</th>\n",
              "      <td>0.06076</td>\n",
              "      <td>23.9</td>\n",
              "    </tr>\n",
              "    <tr>\n",
              "      <th>504</th>\n",
              "      <td>0.10959</td>\n",
              "      <td>22.0</td>\n",
              "    </tr>\n",
              "    <tr>\n",
              "      <th>505</th>\n",
              "      <td>0.04741</td>\n",
              "      <td>11.9</td>\n",
              "    </tr>\n",
              "  </tbody>\n",
              "</table>\n",
              "<p>506 rows × 2 columns</p>\n",
              "</div>\n",
              "      <button class=\"colab-df-convert\" onclick=\"convertToInteractive('df-4729c21a-67aa-41cf-8cba-197da4e47d91')\"\n",
              "              title=\"Convert this dataframe to an interactive table.\"\n",
              "              style=\"display:none;\">\n",
              "        \n",
              "  <svg xmlns=\"http://www.w3.org/2000/svg\" height=\"24px\"viewBox=\"0 0 24 24\"\n",
              "       width=\"24px\">\n",
              "    <path d=\"M0 0h24v24H0V0z\" fill=\"none\"/>\n",
              "    <path d=\"M18.56 5.44l.94 2.06.94-2.06 2.06-.94-2.06-.94-.94-2.06-.94 2.06-2.06.94zm-11 1L8.5 8.5l.94-2.06 2.06-.94-2.06-.94L8.5 2.5l-.94 2.06-2.06.94zm10 10l.94 2.06.94-2.06 2.06-.94-2.06-.94-.94-2.06-.94 2.06-2.06.94z\"/><path d=\"M17.41 7.96l-1.37-1.37c-.4-.4-.92-.59-1.43-.59-.52 0-1.04.2-1.43.59L10.3 9.45l-7.72 7.72c-.78.78-.78 2.05 0 2.83L4 21.41c.39.39.9.59 1.41.59.51 0 1.02-.2 1.41-.59l7.78-7.78 2.81-2.81c.8-.78.8-2.07 0-2.86zM5.41 20L4 18.59l7.72-7.72 1.47 1.35L5.41 20z\"/>\n",
              "  </svg>\n",
              "      </button>\n",
              "      \n",
              "  <style>\n",
              "    .colab-df-container {\n",
              "      display:flex;\n",
              "      flex-wrap:wrap;\n",
              "      gap: 12px;\n",
              "    }\n",
              "\n",
              "    .colab-df-convert {\n",
              "      background-color: #E8F0FE;\n",
              "      border: none;\n",
              "      border-radius: 50%;\n",
              "      cursor: pointer;\n",
              "      display: none;\n",
              "      fill: #1967D2;\n",
              "      height: 32px;\n",
              "      padding: 0 0 0 0;\n",
              "      width: 32px;\n",
              "    }\n",
              "\n",
              "    .colab-df-convert:hover {\n",
              "      background-color: #E2EBFA;\n",
              "      box-shadow: 0px 1px 2px rgba(60, 64, 67, 0.3), 0px 1px 3px 1px rgba(60, 64, 67, 0.15);\n",
              "      fill: #174EA6;\n",
              "    }\n",
              "\n",
              "    [theme=dark] .colab-df-convert {\n",
              "      background-color: #3B4455;\n",
              "      fill: #D2E3FC;\n",
              "    }\n",
              "\n",
              "    [theme=dark] .colab-df-convert:hover {\n",
              "      background-color: #434B5C;\n",
              "      box-shadow: 0px 1px 3px 1px rgba(0, 0, 0, 0.15);\n",
              "      filter: drop-shadow(0px 1px 2px rgba(0, 0, 0, 0.3));\n",
              "      fill: #FFFFFF;\n",
              "    }\n",
              "  </style>\n",
              "\n",
              "      <script>\n",
              "        const buttonEl =\n",
              "          document.querySelector('#df-4729c21a-67aa-41cf-8cba-197da4e47d91 button.colab-df-convert');\n",
              "        buttonEl.style.display =\n",
              "          google.colab.kernel.accessAllowed ? 'block' : 'none';\n",
              "\n",
              "        async function convertToInteractive(key) {\n",
              "          const element = document.querySelector('#df-4729c21a-67aa-41cf-8cba-197da4e47d91');\n",
              "          const dataTable =\n",
              "            await google.colab.kernel.invokeFunction('convertToInteractive',\n",
              "                                                     [key], {});\n",
              "          if (!dataTable) return;\n",
              "\n",
              "          const docLinkHtml = 'Like what you see? Visit the ' +\n",
              "            '<a target=\"_blank\" href=https://colab.research.google.com/notebooks/data_table.ipynb>data table notebook</a>'\n",
              "            + ' to learn more about interactive tables.';\n",
              "          element.innerHTML = '';\n",
              "          dataTable['output_type'] = 'display_data';\n",
              "          await google.colab.output.renderOutput(dataTable, element);\n",
              "          const docLink = document.createElement('div');\n",
              "          docLink.innerHTML = docLinkHtml;\n",
              "          element.appendChild(docLink);\n",
              "        }\n",
              "      </script>\n",
              "    </div>\n",
              "  </div>\n",
              "  "
            ]
          },
          "metadata": {},
          "execution_count": 92
        }
      ]
    },
    {
      "cell_type": "markdown",
      "source": [
        "# 37. How to get the nrows, ncolumns, datatype, summary stats of each column of a dataframe? Also get the array and list equivalent.\n",
        "Difficulty Level: L2\n",
        "\n",
        "Get the number of rows, columns, datatype and summary statistics of each column of the Cars93 dataset. Also get the numpy array and list equivalent of the dataframe."
      ],
      "metadata": {
        "id": "XAYoA0x5CHcl"
      }
    },
    {
      "cell_type": "code",
      "source": [
        "df = pd.read_csv('https://raw.githubusercontent.com/selva86/datasets/master/Cars93_miss.csv')\n",
        "\n",
        "print(f'number of rows and columns: {df.shape}')\n",
        "print('Columns')\n",
        "for col in df:\n",
        "  print(col, ': ', f'dtype: {df[col].dtype}, \\n{df[col].describe()}', '\\n')\n",
        "\n",
        "arr = df.to_numpy()\n",
        "print(arr)\n",
        "li = list(arr)\n",
        "print(li)"
      ],
      "metadata": {
        "colab": {
          "base_uri": "https://localhost:8080/"
        },
        "id": "R4fxPpRlCOwZ",
        "outputId": "4ec56119-24ee-46f5-f95c-48490922aa76"
      },
      "execution_count": 93,
      "outputs": [
        {
          "output_type": "stream",
          "name": "stdout",
          "text": [
            "number of rows and columns: (93, 27)\n",
            "Columns\n",
            "Manufacturer :  dtype: object, \n",
            "count       89\n",
            "unique      31\n",
            "top       Ford\n",
            "freq         8\n",
            "Name: Manufacturer, dtype: object \n",
            "\n",
            "Model :  dtype: object, \n",
            "count          92\n",
            "unique         92\n",
            "top       Integra\n",
            "freq            1\n",
            "Name: Model, dtype: object \n",
            "\n",
            "Type :  dtype: object, \n",
            "count          90\n",
            "unique          6\n",
            "top       Midsize\n",
            "freq           22\n",
            "Name: Type, dtype: object \n",
            "\n",
            "Min.Price :  dtype: float64, \n",
            "count    86.000000\n",
            "mean     17.118605\n",
            "std       8.828290\n",
            "min       6.700000\n",
            "25%      10.825000\n",
            "50%      14.600000\n",
            "75%      20.250000\n",
            "max      45.400000\n",
            "Name: Min.Price, dtype: float64 \n",
            "\n",
            "Price :  dtype: float64, \n",
            "count    91.000000\n",
            "mean     19.616484\n",
            "std       9.724280\n",
            "min       7.400000\n",
            "25%      12.350000\n",
            "50%      17.700000\n",
            "75%      23.500000\n",
            "max      61.900000\n",
            "Name: Price, dtype: float64 \n",
            "\n",
            "Max.Price :  dtype: float64, \n",
            "count    88.000000\n",
            "mean     21.459091\n",
            "std      10.696563\n",
            "min       7.900000\n",
            "25%      14.575000\n",
            "50%      19.150000\n",
            "75%      24.825000\n",
            "max      80.000000\n",
            "Name: Max.Price, dtype: float64 \n",
            "\n",
            "MPG.city :  dtype: float64, \n",
            "count    84.000000\n",
            "mean     22.404762\n",
            "std       5.841520\n",
            "min      15.000000\n",
            "25%      18.000000\n",
            "50%      21.000000\n",
            "75%      25.000000\n",
            "max      46.000000\n",
            "Name: MPG.city, dtype: float64 \n",
            "\n",
            "MPG.highway :  dtype: float64, \n",
            "count    91.000000\n",
            "mean     29.065934\n",
            "std       5.370293\n",
            "min      20.000000\n",
            "25%      26.000000\n",
            "50%      28.000000\n",
            "75%      31.000000\n",
            "max      50.000000\n",
            "Name: MPG.highway, dtype: float64 \n",
            "\n",
            "AirBags :  dtype: object, \n",
            "count              87\n",
            "unique              3\n",
            "top       Driver only\n",
            "freq               39\n",
            "Name: AirBags, dtype: object \n",
            "\n",
            "DriveTrain :  dtype: object, \n",
            "count        86\n",
            "unique        3\n",
            "top       Front\n",
            "freq         61\n",
            "Name: DriveTrain, dtype: object \n",
            "\n",
            "Cylinders :  dtype: object, \n",
            "count     88\n",
            "unique     6\n",
            "top        4\n",
            "freq      45\n",
            "Name: Cylinders, dtype: object \n",
            "\n",
            "EngineSize :  dtype: float64, \n",
            "count    91.000000\n",
            "mean      2.658242\n",
            "std       1.045845\n",
            "min       1.000000\n",
            "25%       1.800000\n",
            "50%       2.300000\n",
            "75%       3.250000\n",
            "max       5.700000\n",
            "Name: EngineSize, dtype: float64 \n",
            "\n",
            "Horsepower :  dtype: float64, \n",
            "count     86.000000\n",
            "mean     144.000000\n",
            "std       53.455204\n",
            "min       55.000000\n",
            "25%      100.750000\n",
            "50%      140.000000\n",
            "75%      170.000000\n",
            "max      300.000000\n",
            "Name: Horsepower, dtype: float64 \n",
            "\n",
            "RPM :  dtype: float64, \n",
            "count      90.000000\n",
            "mean     5276.666667\n",
            "std       605.554811\n",
            "min      3800.000000\n",
            "25%      4800.000000\n",
            "50%      5200.000000\n",
            "75%      5787.500000\n",
            "max      6500.000000\n",
            "Name: RPM, dtype: float64 \n",
            "\n",
            "Rev.per.mile :  dtype: float64, \n",
            "count      87.000000\n",
            "mean     2355.000000\n",
            "std       486.916616\n",
            "min      1320.000000\n",
            "25%      2017.500000\n",
            "50%      2360.000000\n",
            "75%      2565.000000\n",
            "max      3755.000000\n",
            "Name: Rev.per.mile, dtype: float64 \n",
            "\n",
            "Man.trans.avail :  dtype: object, \n",
            "count      88\n",
            "unique      2\n",
            "top       Yes\n",
            "freq       57\n",
            "Name: Man.trans.avail, dtype: object \n",
            "\n",
            "Fuel.tank.capacity :  dtype: float64, \n",
            "count    85.000000\n",
            "mean     16.683529\n",
            "std       3.375748\n",
            "min       9.200000\n",
            "25%      14.500000\n",
            "50%      16.500000\n",
            "75%      19.000000\n",
            "max      27.000000\n",
            "Name: Fuel.tank.capacity, dtype: float64 \n",
            "\n",
            "Passengers :  dtype: float64, \n",
            "count    91.000000\n",
            "mean      5.076923\n",
            "std       1.045953\n",
            "min       2.000000\n",
            "25%       4.000000\n",
            "50%       5.000000\n",
            "75%       6.000000\n",
            "max       8.000000\n",
            "Name: Passengers, dtype: float64 \n",
            "\n",
            "Length :  dtype: float64, \n",
            "count     89.000000\n",
            "mean     182.865169\n",
            "std       14.792651\n",
            "min      141.000000\n",
            "25%      174.000000\n",
            "50%      181.000000\n",
            "75%      192.000000\n",
            "max      219.000000\n",
            "Name: Length, dtype: float64 \n",
            "\n",
            "Wheelbase :  dtype: float64, \n",
            "count     92.000000\n",
            "mean     103.956522\n",
            "std        6.856317\n",
            "min       90.000000\n",
            "25%       98.000000\n",
            "50%      103.000000\n",
            "75%      110.000000\n",
            "max      119.000000\n",
            "Name: Wheelbase, dtype: float64 \n",
            "\n",
            "Width :  dtype: float64, \n",
            "count    87.000000\n",
            "mean     69.448276\n",
            "std       3.778023\n",
            "min      60.000000\n",
            "25%      67.000000\n",
            "50%      69.000000\n",
            "75%      72.000000\n",
            "max      78.000000\n",
            "Name: Width, dtype: float64 \n",
            "\n",
            "Turn.circle :  dtype: float64, \n",
            "count    88.000000\n",
            "mean     38.954545\n",
            "std       3.304157\n",
            "min      32.000000\n",
            "25%      36.000000\n",
            "50%      39.000000\n",
            "75%      42.000000\n",
            "max      45.000000\n",
            "Name: Turn.circle, dtype: float64 \n",
            "\n",
            "Rear.seat.room :  dtype: float64, \n",
            "count    89.000000\n",
            "mean     27.853933\n",
            "std       3.018129\n",
            "min      19.000000\n",
            "25%      26.000000\n",
            "50%      27.500000\n",
            "75%      30.000000\n",
            "max      36.000000\n",
            "Name: Rear.seat.room, dtype: float64 \n",
            "\n",
            "Luggage.room :  dtype: float64, \n",
            "count    74.000000\n",
            "mean     13.986486\n",
            "std       3.120824\n",
            "min       6.000000\n",
            "25%      12.000000\n",
            "50%      14.000000\n",
            "75%      16.000000\n",
            "max      22.000000\n",
            "Name: Luggage.room, dtype: float64 \n",
            "\n",
            "Weight :  dtype: float64, \n",
            "count      86.000000\n",
            "mean     3104.593023\n",
            "std       600.129993\n",
            "min      1695.000000\n",
            "25%      2647.500000\n",
            "50%      3085.000000\n",
            "75%      3567.500000\n",
            "max      4105.000000\n",
            "Name: Weight, dtype: float64 \n",
            "\n",
            "Origin :  dtype: object, \n",
            "count      88\n",
            "unique      2\n",
            "top       USA\n",
            "freq       46\n",
            "Name: Origin, dtype: object \n",
            "\n",
            "Make :  dtype: object, \n",
            "count                90\n",
            "unique               90\n",
            "top       Acura Integra\n",
            "freq                  1\n",
            "Name: Make, dtype: object \n",
            "\n",
            "[['Acura' 'Integra' 'Small' ... 2705.0 'non-USA' 'Acura Integra']\n",
            " [nan 'Legend' 'Midsize' ... 3560.0 'non-USA' 'Acura Legend']\n",
            " ['Audi' '90' 'Compact' ... 3375.0 'non-USA' 'Audi 90']\n",
            " ...\n",
            " ['Volkswagen' 'Corrado' 'Sporty' ... 2810.0 'non-USA'\n",
            "  'Volkswagen Corrado']\n",
            " ['Volvo' '240' 'Compact' ... 2985.0 'non-USA' 'Volvo 240']\n",
            " [nan '850' 'Midsize' ... 3245.0 'non-USA' 'Volvo 850']]\n",
            "[array(['Acura', 'Integra', 'Small', 12.9, 15.9, 18.8, 25.0, 31.0, 'None',\n",
            "       'Front', '4', 1.8, 140.0, 6300.0, 2890.0, 'Yes', 13.2, 5.0, 177.0,\n",
            "       102.0, 68.0, 37.0, 26.5, nan, 2705.0, 'non-USA', 'Acura Integra'],\n",
            "      dtype=object), array([nan, 'Legend', 'Midsize', 29.2, 33.9, 38.7, 18.0, 25.0,\n",
            "       'Driver & Passenger', 'Front', '6', 3.2, 200.0, 5500.0, 2335.0,\n",
            "       'Yes', 18.0, 5.0, 195.0, 115.0, 71.0, 38.0, 30.0, 15.0, 3560.0,\n",
            "       'non-USA', 'Acura Legend'], dtype=object), array(['Audi', '90', 'Compact', 25.9, 29.1, 32.3, 20.0, 26.0,\n",
            "       'Driver only', 'Front', '6', 2.8, 172.0, 5500.0, 2280.0, 'Yes',\n",
            "       16.9, 5.0, 180.0, 102.0, 67.0, 37.0, 28.0, 14.0, 3375.0, 'non-USA',\n",
            "       'Audi 90'], dtype=object), array(['Audi', '100', 'Midsize', nan, 37.7, 44.6, 19.0, 26.0,\n",
            "       'Driver & Passenger', nan, '6', nan, 172.0, 5500.0, 2535.0, nan,\n",
            "       21.1, 6.0, 193.0, 106.0, nan, 37.0, 31.0, 17.0, 3405.0, 'non-USA',\n",
            "       'Audi 100'], dtype=object), array(['BMW', '535i', 'Midsize', nan, 30.0, nan, 22.0, 30.0, nan, 'Rear',\n",
            "       '4', 3.5, 208.0, 5700.0, 2545.0, 'Yes', 21.1, 4.0, 186.0, 109.0,\n",
            "       69.0, 39.0, 27.0, 13.0, 3640.0, 'non-USA', 'BMW 535i'],\n",
            "      dtype=object), array(['Buick', 'Century', 'Midsize', 14.2, 15.7, 17.3, 22.0, 31.0,\n",
            "       'Driver only', nan, '4', 2.2, 110.0, 5200.0, 2565.0, 'No', 16.4,\n",
            "       6.0, 189.0, 105.0, 69.0, 41.0, 28.0, 16.0, nan, 'USA',\n",
            "       'Buick Century'], dtype=object), array(['Buick', 'LeSabre', 'Large', 19.9, 20.8, nan, 19.0, 28.0,\n",
            "       'Driver only', 'Front', '6', 3.8, 170.0, 4800.0, nan, 'No', nan,\n",
            "       6.0, 200.0, 111.0, 74.0, 42.0, 30.5, 17.0, 3470.0, 'USA',\n",
            "       'Buick LeSabre'], dtype=object), array(['Buick', 'Roadmaster', 'Large', 22.6, 23.7, 24.9, 16.0, 25.0,\n",
            "       'Driver only', 'Rear', '6', 5.7, 180.0, 4000.0, 1320.0, 'No', 23.0,\n",
            "       6.0, 216.0, 116.0, 78.0, 45.0, 30.5, 21.0, 4105.0, 'USA',\n",
            "       'Buick Roadmaster'], dtype=object), array(['Buick', 'Riviera', 'Midsize', 26.3, 26.3, 26.3, 19.0, 27.0,\n",
            "       'Driver only', 'Front', '6', 3.8, 170.0, 4800.0, 1690.0, 'No',\n",
            "       18.8, 5.0, 198.0, 108.0, nan, 41.0, 26.5, 14.0, 3495.0, 'USA',\n",
            "       'Buick Riviera'], dtype=object), array(['Cadillac', 'DeVille', 'Large', 33.0, 34.7, 36.3, 16.0, 25.0,\n",
            "       'Driver only', 'Front', '8', 4.9, 200.0, 4100.0, nan, 'No', 18.0,\n",
            "       6.0, 206.0, 114.0, 73.0, 43.0, 35.0, 18.0, 3620.0, 'USA',\n",
            "       'Cadillac DeVille'], dtype=object), array(['Cadillac', 'Seville', 'Midsize', 37.5, 40.1, 42.7, 16.0, 25.0,\n",
            "       'Driver & Passenger', 'Front', '8', 4.6, 295.0, 6000.0, 1985.0,\n",
            "       'No', 20.0, 5.0, 204.0, 111.0, 74.0, 44.0, 31.0, nan, 3935.0,\n",
            "       'USA', 'Cadillac Seville'], dtype=object), array(['Chevrolet', 'Cavalier', 'Compact', 8.5, 13.4, 18.3, 25.0, 36.0,\n",
            "       nan, nan, '4', 2.2, nan, 5200.0, 2380.0, 'Yes', 15.2, 5.0, 182.0,\n",
            "       101.0, 66.0, 38.0, 25.0, 13.0, 2490.0, 'USA', 'Chevrolet Cavalier'],\n",
            "      dtype=object), array(['Chevrolet', 'Corsica', 'Compact', 11.4, 11.4, 11.4, 25.0, 34.0,\n",
            "       'Driver only', 'Front', nan, 2.2, 110.0, 5200.0, 2665.0, 'Yes',\n",
            "       15.6, 5.0, 184.0, 103.0, 68.0, 39.0, 26.0, nan, 2785.0, 'USA',\n",
            "       'Chevrolet Corsica'], dtype=object), array(['Chevrolet', 'Camaro', 'Sporty', 13.4, 15.1, 16.8, 19.0, 28.0,\n",
            "       'Driver & Passenger', 'Rear', nan, 3.4, 160.0, 4600.0, 1805.0,\n",
            "       'Yes', nan, 4.0, 193.0, 101.0, 74.0, 43.0, 25.0, 13.0, 3240.0,\n",
            "       'USA', 'Chevrolet Camaro'], dtype=object), array(['Chevrolet', 'Lumina', 'Midsize', 13.4, 15.9, 18.4, nan, 29.0,\n",
            "       'None', 'Front', '4', 2.2, nan, 5200.0, 2595.0, 'No', 16.5, 6.0,\n",
            "       nan, 108.0, 71.0, nan, 28.5, 16.0, 3195.0, 'USA',\n",
            "       'Chevrolet Lumina'], dtype=object), array(['Chevrolet', 'Lumina_APV', 'Van', 14.7, 16.3, 18.0, 18.0, 23.0,\n",
            "       'None', 'Front', '6', 3.8, 170.0, 4800.0, 1690.0, 'No', 20.0, 7.0,\n",
            "       178.0, 110.0, 74.0, 44.0, 30.5, nan, 3715.0, 'USA',\n",
            "       'Chevrolet Lumina_APV'], dtype=object), array(['Chevrolet', 'Astro', 'Van', 14.7, 16.6, 18.6, 15.0, 20.0, 'None',\n",
            "       '4WD', '6', 4.3, nan, 4000.0, 1790.0, 'No', 27.0, 8.0, 194.0,\n",
            "       111.0, 78.0, 42.0, 33.5, nan, 4025.0, 'USA', 'Chevrolet Astro'],\n",
            "      dtype=object), array(['Chevrolet', 'Caprice', 'Large', 18.0, 18.8, 19.6, 17.0, 26.0,\n",
            "       'Driver only', 'Rear', '8', 5.0, 170.0, 4200.0, 1350.0, 'No', 23.0,\n",
            "       6.0, 214.0, 116.0, 77.0, 42.0, 29.5, 20.0, 3910.0, 'USA',\n",
            "       'Chevrolet Caprice'], dtype=object), array(['Chevrolet', 'Corvette', 'Sporty', 34.6, 38.0, 41.5, 17.0, 25.0,\n",
            "       'Driver only', 'Rear', '8', 5.7, 300.0, 5000.0, 1450.0, 'Yes',\n",
            "       20.0, 2.0, 179.0, 96.0, 74.0, 43.0, nan, nan, 3380.0, nan,\n",
            "       'Chevrolet Corvette'], dtype=object), array([nan, 'Concorde', 'Large', 18.4, 18.4, 18.4, 20.0, 28.0,\n",
            "       'Driver & Passenger', 'Front', '6', 3.3, 153.0, 5300.0, 1990.0,\n",
            "       'No', 18.0, 6.0, 203.0, 113.0, 74.0, nan, 31.0, 15.0, 3515.0,\n",
            "       'USA', 'Chrylser Concorde'], dtype=object), array(['Chrysler', 'LeBaron', 'Compact', 14.5, 15.8, 17.1, 23.0, 28.0,\n",
            "       'Driver & Passenger', 'Front', '4', 3.0, 141.0, 5000.0, 2090.0,\n",
            "       'No', 16.0, 6.0, 183.0, 104.0, 68.0, 41.0, 30.5, 14.0, 3085.0,\n",
            "       'USA', 'Chrysler LeBaron'], dtype=object), array(['Chrysler', 'Imperial', 'Large', 29.5, 29.5, 29.5, 20.0, 26.0,\n",
            "       'Driver only', 'Front', '6', 3.3, 147.0, 4800.0, 1785.0, 'No',\n",
            "       16.0, 6.0, 203.0, 110.0, 69.0, 44.0, 36.0, 17.0, 3570.0, 'USA',\n",
            "       'Chrysler Imperial'], dtype=object), array(['Dodge', 'Colt', 'Small', 7.9, 9.2, 10.6, 29.0, 33.0, 'None',\n",
            "       'Front', '4', 1.5, 92.0, 6000.0, 3285.0, 'Yes', nan, 5.0, 174.0,\n",
            "       98.0, 66.0, 32.0, nan, 11.0, 2270.0, 'USA', 'Dodge Colt'],\n",
            "      dtype=object), array(['Dodge', 'Shadow', 'Small', 8.4, 11.3, 14.2, 23.0, 29.0,\n",
            "       'Driver only', 'Front', '4', 2.2, 93.0, 4800.0, nan, 'Yes', 14.0,\n",
            "       5.0, 172.0, 97.0, 67.0, 38.0, 26.5, nan, 2670.0, 'USA',\n",
            "       'Dodge Shadow'], dtype=object), array(['Dodge', 'Spirit', 'Compact', 11.9, 13.3, 14.7, 22.0, 27.0,\n",
            "       'Driver only', 'Front', '4', 2.5, 100.0, 4800.0, 2535.0, 'Yes',\n",
            "       nan, 6.0, 181.0, 104.0, 68.0, 39.0, 30.5, nan, 2970.0, 'USA',\n",
            "       'Dodge Spirit'], dtype=object), array(['Dodge', 'Caravan', 'Van', nan, 19.0, 24.4, 17.0, 21.0,\n",
            "       'Driver only', '4WD', '6', 3.0, 142.0, 5000.0, 1970.0, 'No', 20.0,\n",
            "       7.0, 175.0, 112.0, 72.0, 42.0, 26.5, nan, 3705.0, 'USA',\n",
            "       'Dodge Caravan'], dtype=object), array(['Dodge', 'Dynasty', 'Midsize', 14.8, 15.6, 16.4, 21.0, nan,\n",
            "       'Driver only', 'Front', nan, 2.5, 100.0, 4800.0, 2465.0, 'No',\n",
            "       16.0, 6.0, 192.0, 105.0, 69.0, 42.0, 30.5, 16.0, 3080.0, 'USA',\n",
            "       'Dodge Dynasty'], dtype=object), array(['Dodge', 'Stealth', 'Sporty', 18.5, 25.8, 33.1, nan, 24.0,\n",
            "       'Driver only', '4WD', '6', 3.0, 300.0, 6000.0, 2120.0, 'Yes', 19.8,\n",
            "       4.0, 180.0, 97.0, nan, 40.0, 20.0, 11.0, 3805.0, 'USA',\n",
            "       'Dodge Stealth'], dtype=object), array(['Eagle', 'Summit', 'Small', 7.9, 12.2, 16.5, 29.0, 33.0, 'None',\n",
            "       'Front', '4', 1.5, 92.0, 6000.0, 2505.0, 'Yes', 13.2, 5.0, 174.0,\n",
            "       98.0, 66.0, 36.0, 26.5, 11.0, 2295.0, 'USA', 'Eagle Summit'],\n",
            "      dtype=object), array(['Eagle', 'Vision', 'Large', nan, 19.3, 21.2, 20.0, 28.0,\n",
            "       'Driver & Passenger', 'Front', '6', 3.5, nan, 5800.0, 1980.0, 'No',\n",
            "       18.0, 6.0, 202.0, 113.0, 74.0, 40.0, 30.0, 15.0, 3490.0, 'USA',\n",
            "       'Eagle Vision'], dtype=object), array(['Ford', 'Festiva', 'Small', 6.9, 7.4, 7.9, 31.0, 33.0, nan,\n",
            "       'Front', '4', 1.3, 63.0, 5000.0, 3150.0, 'Yes', 10.0, 4.0, 141.0,\n",
            "       90.0, 63.0, 33.0, 26.0, 12.0, 1845.0, 'USA', 'Ford Festiva'],\n",
            "      dtype=object), array(['Ford', 'Escort', 'Small', 8.4, 10.1, 11.9, 23.0, 30.0, 'None',\n",
            "       'Front', '4', 1.8, 127.0, 6500.0, 2410.0, nan, 13.2, 5.0, 171.0,\n",
            "       98.0, 67.0, 36.0, 28.0, 12.0, 2530.0, 'USA', 'Ford Escort'],\n",
            "      dtype=object), array(['Ford', 'Tempo', 'Compact', 10.4, 11.3, 12.2, 22.0, 27.0, 'None',\n",
            "       'Front', '4', 2.3, 96.0, 4200.0, 2805.0, 'Yes', 15.9, 5.0, 177.0,\n",
            "       100.0, 68.0, nan, 27.5, 13.0, nan, 'USA', nan], dtype=object), array(['Ford', 'Mustang', 'Sporty', 10.8, 15.9, 21.0, 22.0, 29.0,\n",
            "       'Driver only', 'Rear', '4', 2.3, 105.0, 4600.0, 2285.0, 'Yes',\n",
            "       15.4, 4.0, 180.0, 101.0, 68.0, 40.0, 24.0, 12.0, nan, 'USA',\n",
            "       'Ford Mustang'], dtype=object), array(['Ford', 'Probe', 'Sporty', 12.8, 14.0, 15.2, nan, 30.0,\n",
            "       'Driver only', 'Front', '4', 2.0, 115.0, 5500.0, 2340.0, 'Yes',\n",
            "       15.5, 4.0, 179.0, 103.0, 70.0, 38.0, 23.0, 18.0, 2710.0, 'USA',\n",
            "       'Ford Probe'], dtype=object), array(['Ford', 'Aerostar', 'Van', 14.5, 19.9, 25.3, 15.0, 20.0,\n",
            "       'Driver only', '4WD', '6', 3.0, 145.0, 4800.0, 2080.0, 'Yes', 21.0,\n",
            "       7.0, 176.0, 119.0, 72.0, 45.0, 30.0, nan, 3735.0, 'USA',\n",
            "       'Ford Aerostar'], dtype=object), array(['Ford', 'Taurus', 'Midsize', 15.6, 20.2, 24.8, 21.0, 30.0,\n",
            "       'Driver only', 'Front', '6', 3.0, nan, 4800.0, 1885.0, 'No', nan,\n",
            "       5.0, 192.0, 106.0, 71.0, 40.0, 27.5, 18.0, 3325.0, 'USA',\n",
            "       'Ford Taurus'], dtype=object), array(['Ford', 'Crown_Victoria', 'Large', 20.1, 20.9, 21.7, 18.0, 26.0,\n",
            "       'Driver only', 'Rear', '8', 4.6, 190.0, 4200.0, nan, 'No', 20.0,\n",
            "       6.0, 212.0, 114.0, 78.0, 43.0, 30.0, 21.0, 3950.0, 'USA',\n",
            "       'Ford Crown_Victoria'], dtype=object), array(['Geo', 'Metro', 'Small', 6.7, 8.4, 10.0, 46.0, 50.0, 'None',\n",
            "       'Front', '3', 1.0, 55.0, 5700.0, 3755.0, nan, 10.6, 4.0, 151.0,\n",
            "       93.0, 63.0, 34.0, 27.5, 10.0, 1695.0, 'non-USA', 'Geo Metro'],\n",
            "      dtype=object), array(['Geo', 'Storm', 'Sporty', 11.5, 12.5, 13.5, 30.0, 36.0,\n",
            "       'Driver only', 'Front', '4', 1.6, 90.0, 5400.0, 3250.0, 'Yes',\n",
            "       12.4, 4.0, 164.0, 97.0, nan, 37.0, 24.5, 11.0, 2475.0, 'non-USA',\n",
            "       'Geo Storm'], dtype=object), array(['Honda', 'Prelude', 'Sporty', 17.0, 19.8, 22.7, 24.0, 31.0,\n",
            "       'Driver & Passenger', 'Front', '4', 2.3, 160.0, 5800.0, 2855.0,\n",
            "       'Yes', nan, 4.0, 175.0, 100.0, 70.0, 39.0, 23.5, 8.0, 2865.0,\n",
            "       'non-USA', 'Honda Prelude'], dtype=object), array(['Honda', 'Civic', 'Small', 8.4, 12.1, 15.8, 42.0, 46.0,\n",
            "       'Driver only', 'Front', '4', 1.5, nan, 5900.0, 2650.0, 'Yes', 11.9,\n",
            "       4.0, 173.0, nan, 67.0, 36.0, 28.0, 12.0, nan, 'non-USA',\n",
            "       'Honda Civic'], dtype=object), array(['Honda', 'Accord', 'Compact', 13.8, 17.5, 21.2, 24.0, 31.0,\n",
            "       'Driver & Passenger', 'Front', '4', 2.2, 140.0, 5600.0, nan, 'Yes',\n",
            "       17.0, 4.0, 185.0, 107.0, 67.0, 41.0, 28.0, 14.0, 3040.0, 'non-USA',\n",
            "       'Honda Accord'], dtype=object), array(['Hyundai', 'Excel', 'Small', 6.8, 8.0, 9.2, 29.0, 33.0, 'None',\n",
            "       'Front', '4', 1.5, 81.0, 5500.0, 2710.0, 'Yes', 11.9, 5.0, 168.0,\n",
            "       94.0, 63.0, 35.0, 26.0, 11.0, 2345.0, 'non-USA', 'Hyundai Excel'],\n",
            "      dtype=object), array(['Hyundai', 'Elantra', 'Small', 9.0, 10.0, 11.0, nan, 29.0, 'None',\n",
            "       'Front', '4', 1.8, 124.0, 6000.0, 2745.0, 'Yes', 13.7, 5.0, 172.0,\n",
            "       98.0, 66.0, 36.0, 28.0, 12.0, 2620.0, 'non-USA', 'Hyundai Elantra'],\n",
            "      dtype=object), array(['Hyundai', 'Scoupe', nan, 9.1, 10.0, 11.0, 26.0, 34.0, 'None',\n",
            "       'Front', '4', 1.5, 92.0, 5550.0, 2540.0, 'Yes', 11.9, 4.0, 166.0,\n",
            "       94.0, 64.0, 34.0, 23.5, 9.0, 2285.0, 'non-USA', nan], dtype=object), array(['Hyundai', 'Sonata', 'Midsize', 12.4, 13.9, 15.3, 20.0, 27.0,\n",
            "       'None', 'Front', '4', 2.0, 128.0, 6000.0, 2335.0, 'Yes', 17.2, 5.0,\n",
            "       184.0, 104.0, 69.0, 41.0, 31.0, nan, 2885.0, nan, 'Hyundai Sonata'],\n",
            "      dtype=object), array(['Infiniti', 'Q45', 'Midsize', 45.4, 47.9, nan, 17.0, 22.0, nan,\n",
            "       'Rear', '8', 4.5, 278.0, 6000.0, 1955.0, 'No', 22.5, 5.0, 200.0,\n",
            "       113.0, 72.0, 42.0, 29.0, 15.0, 4000.0, 'non-USA', 'Infiniti Q45'],\n",
            "      dtype=object), array(['Lexus', 'ES300', 'Midsize', 27.5, 28.0, 28.4, 18.0, 24.0,\n",
            "       'Driver only', 'Front', '6', 3.0, 185.0, nan, 2325.0, 'Yes', 18.5,\n",
            "       5.0, 188.0, 103.0, 70.0, 40.0, 27.5, 14.0, 3510.0, 'non-USA',\n",
            "       'Lexus ES300'], dtype=object), array([nan, 'SC300', 'Midsize', 34.7, 35.2, 35.6, 18.0, 23.0,\n",
            "       'Driver & Passenger', 'Rear', '6', 3.0, 225.0, 6000.0, 2510.0,\n",
            "       'Yes', nan, 4.0, 191.0, 106.0, 71.0, 39.0, 25.0, 9.0, 3515.0,\n",
            "       'non-USA', 'Lexus SC300'], dtype=object), array(['Lincoln', 'Continental', 'Midsize', 33.3, 34.3, 35.3, 17.0, 26.0,\n",
            "       'Driver & Passenger', nan, '6', 3.8, 160.0, 4400.0, 1835.0, 'No',\n",
            "       18.4, 6.0, 205.0, 109.0, 73.0, 42.0, 30.0, 19.0, 3695.0, 'USA',\n",
            "       'Lincoln Continental'], dtype=object), array(['Lincoln', 'Town_Car', 'Large', 34.4, 36.1, 37.8, 18.0, 26.0,\n",
            "       'Driver & Passenger', 'Rear', '8', 4.6, 210.0, 4600.0, 1840.0,\n",
            "       'No', 20.0, nan, 219.0, 117.0, 77.0, 45.0, 31.5, 22.0, 4055.0,\n",
            "       'USA', 'Lincoln Town_Car'], dtype=object), array(['Mazda', '323', 'Small', 7.4, 8.3, 9.1, 29.0, 37.0, 'None',\n",
            "       'Front', '4', 1.6, 82.0, 5000.0, 2370.0, 'Yes', 13.2, 4.0, 164.0,\n",
            "       97.0, 66.0, 34.0, 27.0, 16.0, 2325.0, 'non-USA', 'Mazda 323'],\n",
            "      dtype=object), array(['Mazda', 'Protege', 'Small', 10.9, 11.6, 12.3, 28.0, 36.0, 'None',\n",
            "       'Front', '4', 1.8, 103.0, 5500.0, 2220.0, 'Yes', 14.5, 5.0, 172.0,\n",
            "       98.0, 66.0, 36.0, 26.5, 13.0, 2440.0, 'non-USA', 'Mazda Protege'],\n",
            "      dtype=object), array(['Mazda', '626', 'Compact', 14.3, 16.5, 18.7, 26.0, 34.0,\n",
            "       'Driver only', 'Front', '4', 2.5, 164.0, 5600.0, 2505.0, 'Yes',\n",
            "       15.5, 5.0, 184.0, 103.0, 69.0, 40.0, 29.5, 14.0, 2970.0, 'non-USA',\n",
            "       'Mazda 626'], dtype=object), array(['Mazda', 'MPV', 'Van', 16.6, 19.1, 21.7, 18.0, 24.0, 'None', '4WD',\n",
            "       '6', 3.0, 155.0, 5000.0, 2240.0, 'No', 19.6, 7.0, 190.0, 110.0,\n",
            "       72.0, 39.0, 27.5, nan, 3735.0, 'non-USA', 'Mazda MPV'],\n",
            "      dtype=object), array(['Mazda', 'RX-7', 'Sporty', 32.5, 32.5, 32.5, 17.0, 25.0,\n",
            "       'Driver only', nan, 'rotary', 1.3, 255.0, 6500.0, 2325.0, 'Yes',\n",
            "       20.0, 2.0, 169.0, 96.0, 69.0, nan, nan, nan, nan, 'non-USA',\n",
            "       'Mazda RX-7'], dtype=object), array(['Mercedes-Benz', '190E', 'Compact', 29.0, 31.9, 34.9, nan, 29.0,\n",
            "       'Driver only', 'Rear', '4', 2.3, 130.0, 5100.0, 2425.0, 'Yes',\n",
            "       14.5, 5.0, 175.0, 105.0, 67.0, 34.0, 26.0, 12.0, 2920.0, nan,\n",
            "       'Mercedes-Benz 190E'], dtype=object), array(['Mercedes-Benz', '300E', 'Midsize', 43.8, 61.9, 80.0, 19.0, 25.0,\n",
            "       'Driver & Passenger', 'Rear', '6', 3.2, 217.0, 5500.0, 2220.0,\n",
            "       'No', 18.5, 5.0, nan, 110.0, 69.0, 37.0, nan, 15.0, 3525.0,\n",
            "       'non-USA', 'Mercedes-Benz 300E'], dtype=object), array(['Mercury', nan, 'Sporty', 13.3, 14.1, 15.0, 23.0, 26.0,\n",
            "       'Driver only', 'Front', '4', 1.6, 100.0, 5750.0, 2475.0, 'Yes',\n",
            "       11.1, 4.0, 166.0, 95.0, 65.0, 36.0, 19.0, 6.0, 2450.0, 'USA',\n",
            "       'Mercury Capri'], dtype=object), array(['Mercury', 'Cougar', 'Midsize', 14.9, 14.9, 14.9, 19.0, 26.0,\n",
            "       'None', 'Rear', '6', 3.8, 140.0, 3800.0, 1730.0, 'No', 18.0, 5.0,\n",
            "       199.0, 113.0, 73.0, 38.0, 28.0, 15.0, 3610.0, 'USA',\n",
            "       'Mercury Cougar'], dtype=object), array(['Mitsubishi', 'Mirage', 'Small', 7.7, 10.3, 12.9, 29.0, nan,\n",
            "       'None', 'Front', '4', 1.5, 92.0, 6000.0, 2505.0, 'Yes', 13.2, 5.0,\n",
            "       172.0, 98.0, 67.0, 36.0, 26.0, 11.0, 2295.0, 'non-USA',\n",
            "       'Mitsubishi Mirage'], dtype=object), array(['Mitsubishi', 'Diamante', 'Midsize', 22.4, 26.1, nan, 18.0, 24.0,\n",
            "       'Driver only', 'Front', '6', 3.0, 202.0, 6000.0, 2210.0, 'No',\n",
            "       19.0, 5.0, 190.0, 107.0, 70.0, 43.0, 27.5, 14.0, 3730.0, 'non-USA',\n",
            "       'Mitsubishi Diamante'], dtype=object), array(['Nissan', 'Sentra', 'Small', 8.7, 11.8, 14.9, 29.0, 33.0,\n",
            "       'Driver only', 'Front', nan, 1.6, 110.0, 6000.0, 2435.0, 'Yes',\n",
            "       13.2, 5.0, 170.0, 96.0, 66.0, 33.0, 26.0, nan, nan, 'non-USA',\n",
            "       'Nissan Sentra'], dtype=object), array(['Nissan', 'Altima', 'Compact', 13.0, 15.7, 18.3, 24.0, 30.0,\n",
            "       'Driver only', 'Front', '4', 2.4, 150.0, 5600.0, 2130.0, 'Yes',\n",
            "       15.9, 5.0, 181.0, 103.0, 67.0, 40.0, 28.5, 14.0, 3050.0, 'non-USA',\n",
            "       'Nissan Altima'], dtype=object), array(['Nissan', 'Quest', 'Van', 16.7, 19.1, 21.5, 17.0, 23.0, 'None',\n",
            "       'Front', '6', 3.0, nan, 4800.0, 2065.0, 'No', 20.0, 7.0, 190.0,\n",
            "       112.0, 74.0, 41.0, 27.0, nan, 4100.0, 'non-USA', 'Nissan Quest'],\n",
            "      dtype=object), array(['Nissan', 'Maxima', 'Midsize', 21.0, 21.5, 22.0, 21.0, 26.0,\n",
            "       'Driver only', 'Front', '6', 3.0, 160.0, 5200.0, 2045.0, nan, 18.5,\n",
            "       5.0, 188.0, 104.0, 69.0, 41.0, 28.5, 14.0, 3200.0, 'non-USA',\n",
            "       'Nissan Maxima'], dtype=object), array(['Oldsmobile', 'Achieva', 'Compact', 13.0, 13.5, 14.0, 24.0, 31.0,\n",
            "       'None', 'Front', '4', 2.3, 155.0, 6000.0, 2380.0, 'No', 15.2, 5.0,\n",
            "       188.0, 103.0, 67.0, 39.0, 28.0, 14.0, 2910.0, 'USA',\n",
            "       'Oldsmobile Achieva'], dtype=object), array(['Oldsmobile', 'Cutlass_Ciera', 'Midsize', 14.2, 16.3, 18.4, 23.0,\n",
            "       31.0, 'Driver only', 'Front', '4', 2.2, 110.0, 5200.0, 2565.0,\n",
            "       'No', nan, 5.0, 190.0, 105.0, 70.0, 42.0, 28.0, 16.0, 2890.0,\n",
            "       'USA', 'Oldsmobile Cutlass_Ciera'], dtype=object), array(['Oldsmobile', 'Silhouette', 'Van', 19.5, 19.5, 19.5, 18.0, 23.0,\n",
            "       'None', 'Front', '6', 3.8, 170.0, 4800.0, 1690.0, 'No', 20.0, 7.0,\n",
            "       nan, 110.0, 74.0, 44.0, 30.5, nan, 3715.0, 'USA',\n",
            "       'Oldsmobile Silhouette'], dtype=object), array(['Oldsmobile', 'Eighty-Eight', 'Large', 19.5, 20.7, 21.9, nan, 28.0,\n",
            "       'Driver only', 'Front', '6', 3.8, 170.0, 4800.0, 1570.0, 'No',\n",
            "       18.0, 6.0, 201.0, 111.0, 74.0, 42.0, 31.5, 17.0, 3470.0, 'USA',\n",
            "       'Oldsmobile Eighty-Eight'], dtype=object), array(['Plymouth', 'Laser', 'Sporty', 11.4, 14.4, 17.4, nan, 30.0, 'None',\n",
            "       '4WD', '4', 1.8, 92.0, 5000.0, 2360.0, 'Yes', 15.9, 4.0, 173.0,\n",
            "       97.0, 67.0, 39.0, 24.5, 8.0, 2640.0, nan, 'Plymouth Laser'],\n",
            "      dtype=object), array(['Pontiac', 'LeMans', 'Small', nan, 9.0, 9.9, 31.0, 41.0, 'None',\n",
            "       'Front', '4', 1.6, 74.0, 5600.0, 3130.0, 'Yes', 13.2, 4.0, 177.0,\n",
            "       99.0, 66.0, 35.0, 25.5, 17.0, 2350.0, 'USA', 'Pontiac LeMans'],\n",
            "      dtype=object), array(['Pontiac', 'Sunbird', 'Compact', 9.4, 11.1, 12.8, nan, 31.0,\n",
            "       'None', nan, '4', 2.0, 110.0, 5200.0, 2665.0, 'Yes', 15.2, 5.0,\n",
            "       181.0, 101.0, 66.0, 39.0, 25.0, 13.0, nan, 'USA', nan],\n",
            "      dtype=object), array(['Pontiac', 'Firebird', nan, 14.0, 17.7, 21.4, 19.0, 28.0,\n",
            "       'Driver & Passenger', 'Rear', '6', nan, 160.0, 4600.0, 1805.0,\n",
            "       'Yes', 15.5, 4.0, 196.0, 101.0, 75.0, 43.0, 25.0, 13.0, 3240.0,\n",
            "       'USA', 'Pontiac Firebird'], dtype=object), array(['Pontiac', 'Grand_Prix', 'Midsize', 15.4, 18.5, 21.6, 19.0, 27.0,\n",
            "       'None', 'Front', '6', 3.4, 200.0, 5000.0, 1890.0, 'Yes', 16.5, 5.0,\n",
            "       195.0, 108.0, 72.0, 41.0, 28.5, 16.0, 3450.0, 'USA',\n",
            "       'Pontiac Grand_Prix'], dtype=object), array(['Pontiac', 'Bonneville', 'Large', 19.4, 24.4, 29.4, 19.0, 28.0,\n",
            "       'Driver & Passenger', 'Front', '6', 3.8, 170.0, 4800.0, 1565.0,\n",
            "       'No', 18.0, 6.0, 177.0, 111.0, 74.0, 43.0, 30.5, 18.0, 3495.0,\n",
            "       'USA', 'Pontiac Bonneville'], dtype=object), array(['Saab', '900', 'Compact', 20.3, 28.7, 37.1, 20.0, 26.0, nan,\n",
            "       'Front', '4', 2.1, 140.0, 6000.0, 2910.0, 'Yes', 18.0, 5.0, nan,\n",
            "       99.0, 67.0, 37.0, 26.5, 14.0, 2775.0, 'non-USA', 'Saab 900'],\n",
            "      dtype=object), array(['Saturn', 'SL', 'Small', 9.2, nan, 12.9, nan, 38.0, 'Driver only',\n",
            "       'Front', '4', 1.9, 85.0, 5000.0, 2145.0, 'Yes', 12.8, 5.0, 176.0,\n",
            "       102.0, 68.0, 40.0, 26.5, nan, 2495.0, 'USA', 'Saturn SL'],\n",
            "      dtype=object), array(['Subaru', 'Justy', 'Small', 7.3, 8.4, 9.5, 33.0, 37.0, 'None',\n",
            "       '4WD', '3', 1.2, 73.0, 5600.0, 2875.0, 'Yes', 9.2, 4.0, 146.0,\n",
            "       90.0, 60.0, 32.0, 23.5, 10.0, 2045.0, 'non-USA', 'Subaru Justy'],\n",
            "      dtype=object), array(['Subaru', 'Loyale', 'Small', 10.5, 10.9, 11.3, 25.0, 30.0, 'None',\n",
            "       '4WD', '4', 1.8, 90.0, 5200.0, 3375.0, 'Yes', 15.9, 5.0, 175.0,\n",
            "       97.0, 65.0, 35.0, 27.5, 15.0, 2490.0, 'non-USA', 'Subaru Loyale'],\n",
            "      dtype=object), array(['Subaru', 'Legacy', 'Compact', 16.3, 19.5, 22.7, 23.0, 30.0,\n",
            "       'Driver only', '4WD', '4', 2.2, 130.0, nan, 2330.0, 'Yes', 15.9,\n",
            "       5.0, 179.0, 102.0, 67.0, 37.0, 27.0, 14.0, 3085.0, 'non-USA',\n",
            "       'Subaru Legacy'], dtype=object), array(['Suzuki', 'Swift', nan, 7.3, 8.6, nan, 39.0, 43.0, 'None', 'Front',\n",
            "       '3', 1.3, 70.0, 6000.0, 3360.0, 'Yes', 10.6, 4.0, 161.0, 93.0, nan,\n",
            "       34.0, 27.5, 10.0, 1965.0, 'non-USA', 'Suzuki Swift'], dtype=object), array(['Toyota', 'Tercel', 'Small', nan, 9.8, 11.8, 32.0, 37.0,\n",
            "       'Driver only', 'Front', '4', 1.5, 82.0, 5200.0, 3505.0, 'Yes',\n",
            "       11.9, nan, 162.0, 94.0, nan, 36.0, 24.0, 11.0, 2055.0, 'non-USA',\n",
            "       'Toyota Tercel'], dtype=object), array(['Toyota', 'Celica', 'Sporty', 14.2, 18.4, 22.6, 25.0, 32.0, nan,\n",
            "       'Front', '4', 2.2, 135.0, nan, 2405.0, 'Yes', 15.9, 4.0, 174.0,\n",
            "       99.0, 69.0, nan, 23.0, 13.0, 2950.0, 'non-USA', 'Toyota Celica'],\n",
            "      dtype=object), array(['Toyota', 'Camry', 'Midsize', 15.2, nan, 21.2, 22.0, 29.0,\n",
            "       'Driver only', nan, '4', 2.2, 130.0, 5400.0, 2340.0, nan, 18.5,\n",
            "       5.0, 188.0, 103.0, 70.0, 38.0, 28.5, 15.0, 3030.0, 'non-USA',\n",
            "       'Toyota Camry'], dtype=object), array(['Toyota', 'Previa', 'Van', nan, 22.7, 26.6, 18.0, 22.0,\n",
            "       'Driver only', '4WD', '4', 2.4, 138.0, 5000.0, 2515.0, 'Yes', 19.8,\n",
            "       7.0, 187.0, 113.0, 71.0, 41.0, 35.0, nan, 3785.0, 'non-USA',\n",
            "       'Toyota Previa'], dtype=object), array(['Volkswagen', 'Fox', 'Small', 8.7, 9.1, 9.5, 25.0, 33.0, 'None',\n",
            "       'Front', '4', 1.8, 81.0, 5500.0, 2550.0, 'Yes', 12.4, 4.0, 163.0,\n",
            "       93.0, 63.0, 34.0, 26.0, 10.0, 2240.0, 'non-USA', 'Volkswagen Fox'],\n",
            "      dtype=object), array(['Volkswagen', 'Eurovan', 'Van', 16.6, 19.7, 22.7, 17.0, 21.0,\n",
            "       'None', 'Front', '5', 2.5, 109.0, 4500.0, 2915.0, 'Yes', 21.1, 7.0,\n",
            "       187.0, 115.0, 72.0, 38.0, 34.0, nan, 3960.0, nan,\n",
            "       'Volkswagen Eurovan'], dtype=object), array(['Volkswagen', 'Passat', 'Compact', 17.6, 20.0, 22.4, 21.0, 30.0,\n",
            "       'None', 'Front', '4', 2.0, 134.0, 5800.0, 2685.0, 'Yes', 18.5, 5.0,\n",
            "       180.0, 103.0, 67.0, 35.0, 31.5, 14.0, 2985.0, 'non-USA',\n",
            "       'Volkswagen Passat'], dtype=object), array(['Volkswagen', 'Corrado', 'Sporty', 22.9, 23.3, 23.7, 18.0, 25.0,\n",
            "       'None', 'Front', '6', 2.8, 178.0, 5800.0, 2385.0, 'Yes', 18.5, 4.0,\n",
            "       159.0, 97.0, 66.0, 36.0, 26.0, 15.0, 2810.0, 'non-USA',\n",
            "       'Volkswagen Corrado'], dtype=object), array(['Volvo', '240', 'Compact', 21.8, 22.7, 23.5, 21.0, 28.0,\n",
            "       'Driver only', 'Rear', nan, 2.3, 114.0, 5400.0, 2215.0, 'Yes',\n",
            "       15.8, 5.0, 190.0, 104.0, 67.0, 37.0, 29.5, 14.0, 2985.0, 'non-USA',\n",
            "       'Volvo 240'], dtype=object), array([nan, '850', 'Midsize', 24.8, 26.7, 28.5, 20.0, 28.0,\n",
            "       'Driver & Passenger', 'Front', '5', 2.4, 168.0, 6200.0, nan, 'Yes',\n",
            "       19.3, 5.0, 184.0, 105.0, 69.0, 38.0, 30.0, 15.0, 3245.0, 'non-USA',\n",
            "       'Volvo 850'], dtype=object)]\n"
          ]
        }
      ]
    },
    {
      "cell_type": "markdown",
      "source": [],
      "metadata": {
        "id": "_M-ZWYjnGyAq"
      }
    },
    {
      "cell_type": "markdown",
      "source": [
        "# 38. How to extract the row and column number of a particular cell with given criterion?\n",
        "Difficulty Level: L1\n",
        "\n",
        "Which manufacturer, model and type has the highest Price? What is the row and column number of the cell with the highest Price value?"
      ],
      "metadata": {
        "id": "APCz6E9GH3Wr"
      }
    },
    {
      "cell_type": "code",
      "source": [
        "# Input\n",
        "df = pd.read_csv('https://raw.githubusercontent.com/selva86/datasets/master/Cars93_miss.csv')\n",
        "# df"
      ],
      "metadata": {
        "id": "xCmJZ_EDH-gx"
      },
      "execution_count": 94,
      "outputs": []
    },
    {
      "cell_type": "code",
      "source": [
        "max_price = max(df['Price'])\n",
        "print(max_price)\n",
        "max_price_car = df[df['Price']==max_price]\n",
        "print(f\"{max_price_car['Manufacturer'].iloc[0]=}\")\n",
        "print(f\"{max_price_car['Model'].iloc[0]=}\")\n",
        "print(f\"{max_price_car['Type'].iloc[0]=}\")\n",
        "print(f\"row number: {max_price_car['Manufacturer'].index[0]}\")"
      ],
      "metadata": {
        "colab": {
          "base_uri": "https://localhost:8080/"
        },
        "id": "lhNPEALWIqu9",
        "outputId": "d877fa25-0537-49b3-f2e2-aa38b61f1b3d"
      },
      "execution_count": 95,
      "outputs": [
        {
          "output_type": "stream",
          "name": "stdout",
          "text": [
            "61.9\n",
            "max_price_car['Manufacturer'].iloc[0]='Mercedes-Benz'\n",
            "max_price_car['Model'].iloc[0]='300E'\n",
            "max_price_car['Type'].iloc[0]='Midsize'\n",
            "row number: 58\n"
          ]
        }
      ]
    },
    {
      "cell_type": "code",
      "source": [
        "max_price = max(df['Price'])\n",
        "print(max_price)\n",
        "max_price_car = df.loc[df.Price==max_price]\n",
        "print(f\"{max_price_car['Manufacturer'].iloc[0]=}\")\n",
        "print(f\"{max_price_car['Model'].iloc[0]=}\")\n",
        "print(f\"{max_price_car['Type'].iloc[0]=}\")"
      ],
      "metadata": {
        "colab": {
          "base_uri": "https://localhost:8080/"
        },
        "id": "zP8siIUHKkHc",
        "outputId": "1f43bace-635d-42c6-a985-8165879eb981"
      },
      "execution_count": 96,
      "outputs": [
        {
          "output_type": "stream",
          "name": "stdout",
          "text": [
            "61.9\n",
            "max_price_car['Manufacturer'].iloc[0]='Mercedes-Benz'\n",
            "max_price_car['Model'].iloc[0]='300E'\n",
            "max_price_car['Type'].iloc[0]='Midsize'\n"
          ]
        }
      ]
    },
    {
      "cell_type": "markdown",
      "source": [
        "# 39. How to rename a specific columns in a dataframe?\n",
        "Difficulty Level: L2\n",
        "\n",
        "Rename the column Type as CarType in df and replace the ‘.’ in column names with ‘_’.\n"
      ],
      "metadata": {
        "id": "ojbcH6VSLOHQ"
      }
    },
    {
      "cell_type": "code",
      "source": [
        "# Input\n",
        "df = pd.read_csv('https://raw.githubusercontent.com/selva86/datasets/master/Cars93_miss.csv')\n",
        "print(df.columns)"
      ],
      "metadata": {
        "colab": {
          "base_uri": "https://localhost:8080/"
        },
        "id": "M6kgW98eLP_H",
        "outputId": "ea4ad59f-cacd-4bc4-ec6f-351c7a2a44a7"
      },
      "execution_count": 97,
      "outputs": [
        {
          "output_type": "stream",
          "name": "stdout",
          "text": [
            "Index(['Manufacturer', 'Model', 'Type', 'Min.Price', 'Price', 'Max.Price',\n",
            "       'MPG.city', 'MPG.highway', 'AirBags', 'DriveTrain', 'Cylinders',\n",
            "       'EngineSize', 'Horsepower', 'RPM', 'Rev.per.mile', 'Man.trans.avail',\n",
            "       'Fuel.tank.capacity', 'Passengers', 'Length', 'Wheelbase', 'Width',\n",
            "       'Turn.circle', 'Rear.seat.room', 'Luggage.room', 'Weight', 'Origin',\n",
            "       'Make'],\n",
            "      dtype='object')\n"
          ]
        }
      ]
    },
    {
      "cell_type": "code",
      "source": [
        "# Step 1\n",
        "df.rename(columns={'Type': 'CarType'}, inplace=True)\n",
        "print(df.columns)\n",
        "\n",
        "# Step 2\n",
        "for i_col, _ in enumerate(df.columns):\n",
        "  df.rename(columns={df.columns[i_col]: df.columns[i_col].replace('.', '_')}, \n",
        "            inplace=True)\n",
        "\n",
        "print(df.columns)\n"
      ],
      "metadata": {
        "colab": {
          "base_uri": "https://localhost:8080/"
        },
        "id": "6-bybs8zTgXa",
        "outputId": "fc498d58-eba2-481a-edd5-fa483517a62b"
      },
      "execution_count": 98,
      "outputs": [
        {
          "output_type": "stream",
          "name": "stdout",
          "text": [
            "Index(['Manufacturer', 'Model', 'CarType', 'Min.Price', 'Price', 'Max.Price',\n",
            "       'MPG.city', 'MPG.highway', 'AirBags', 'DriveTrain', 'Cylinders',\n",
            "       'EngineSize', 'Horsepower', 'RPM', 'Rev.per.mile', 'Man.trans.avail',\n",
            "       'Fuel.tank.capacity', 'Passengers', 'Length', 'Wheelbase', 'Width',\n",
            "       'Turn.circle', 'Rear.seat.room', 'Luggage.room', 'Weight', 'Origin',\n",
            "       'Make'],\n",
            "      dtype='object')\n",
            "Index(['Manufacturer', 'Model', 'CarType', 'Min_Price', 'Price', 'Max_Price',\n",
            "       'MPG_city', 'MPG_highway', 'AirBags', 'DriveTrain', 'Cylinders',\n",
            "       'EngineSize', 'Horsepower', 'RPM', 'Rev_per_mile', 'Man_trans_avail',\n",
            "       'Fuel_tank_capacity', 'Passengers', 'Length', 'Wheelbase', 'Width',\n",
            "       'Turn_circle', 'Rear_seat_room', 'Luggage_room', 'Weight', 'Origin',\n",
            "       'Make'],\n",
            "      dtype='object')\n"
          ]
        }
      ]
    },
    {
      "cell_type": "code",
      "source": [
        "# Input\n",
        "df = pd.read_csv('https://raw.githubusercontent.com/selva86/datasets/master/Cars93_miss.csv')\n",
        "print(df.columns)\n",
        "# Step 1\n",
        "df.rename(columns={'Type': 'CarType'}, inplace=True)\n",
        "print(df.columns)\n",
        "# Step 2\n",
        "df.columns = df.columns.map(lambda x: x.replace('.', '_'))\n",
        "print(df.columns)"
      ],
      "metadata": {
        "colab": {
          "base_uri": "https://localhost:8080/"
        },
        "id": "6DP4-luhZGxf",
        "outputId": "7cecdc79-0dcb-46bf-b7df-ab2e73182df2"
      },
      "execution_count": 99,
      "outputs": [
        {
          "output_type": "stream",
          "name": "stdout",
          "text": [
            "Index(['Manufacturer', 'Model', 'Type', 'Min.Price', 'Price', 'Max.Price',\n",
            "       'MPG.city', 'MPG.highway', 'AirBags', 'DriveTrain', 'Cylinders',\n",
            "       'EngineSize', 'Horsepower', 'RPM', 'Rev.per.mile', 'Man.trans.avail',\n",
            "       'Fuel.tank.capacity', 'Passengers', 'Length', 'Wheelbase', 'Width',\n",
            "       'Turn.circle', 'Rear.seat.room', 'Luggage.room', 'Weight', 'Origin',\n",
            "       'Make'],\n",
            "      dtype='object')\n",
            "Index(['Manufacturer', 'Model', 'CarType', 'Min.Price', 'Price', 'Max.Price',\n",
            "       'MPG.city', 'MPG.highway', 'AirBags', 'DriveTrain', 'Cylinders',\n",
            "       'EngineSize', 'Horsepower', 'RPM', 'Rev.per.mile', 'Man.trans.avail',\n",
            "       'Fuel.tank.capacity', 'Passengers', 'Length', 'Wheelbase', 'Width',\n",
            "       'Turn.circle', 'Rear.seat.room', 'Luggage.room', 'Weight', 'Origin',\n",
            "       'Make'],\n",
            "      dtype='object')\n",
            "Index(['Manufacturer', 'Model', 'CarType', 'Min_Price', 'Price', 'Max_Price',\n",
            "       'MPG_city', 'MPG_highway', 'AirBags', 'DriveTrain', 'Cylinders',\n",
            "       'EngineSize', 'Horsepower', 'RPM', 'Rev_per_mile', 'Man_trans_avail',\n",
            "       'Fuel_tank_capacity', 'Passengers', 'Length', 'Wheelbase', 'Width',\n",
            "       'Turn_circle', 'Rear_seat_room', 'Luggage_room', 'Weight', 'Origin',\n",
            "       'Make'],\n",
            "      dtype='object')\n"
          ]
        }
      ]
    },
    {
      "cell_type": "markdown",
      "source": [
        "# 40. How to check if a dataframe has any missing values?\n",
        "Difficulty Level: L1\n",
        "\n",
        "Check if df has any missing values.\n",
        "\n"
      ],
      "metadata": {
        "id": "vGG8u1v3mLzD"
      }
    },
    {
      "cell_type": "code",
      "source": [
        "df = pd.read_csv('https://raw.githubusercontent.com/selva86/datasets/master/Cars93_miss.csv')\n",
        "if df.isnull().values.any():\n",
        "  print('There is at least one missing value')\n",
        "else:\n",
        "  print('There are not missing values')"
      ],
      "metadata": {
        "colab": {
          "base_uri": "https://localhost:8080/"
        },
        "id": "KYw5dvGnmXBi",
        "outputId": "d2bef0e8-3db9-400f-ca86-0f22bb753cd8"
      },
      "execution_count": 109,
      "outputs": [
        {
          "output_type": "stream",
          "name": "stdout",
          "text": [
            "There is at least one missing value\n"
          ]
        }
      ]
    },
    {
      "cell_type": "markdown",
      "source": [
        "# 41. How to count the number of missing values in each column?\n",
        "Difficulty Level: L2\n",
        "\n",
        "Count the number of missing values in each column of df. Which column has the maximum number of missing values?\n"
      ],
      "metadata": {
        "id": "JGnVYUlEnQkR"
      }
    },
    {
      "cell_type": "code",
      "source": [
        "df = pd.read_csv('https://raw.githubusercontent.com/selva86/datasets/master/Cars93_miss.csv')\n",
        "# print('Mising values in each column:')\n",
        "quantities = []\n",
        "for col in df.isnull():\n",
        "  qt = df.isnull()[col].value_counts()[True]\n",
        "  quantities.append(qt)\n",
        "  # print(col, '\\n', qt, '\\n')\n",
        "col_max_missing = np.argmax(quantities)\n",
        "print(f'The column with more missing values is: {df.columns[col_max_missing]}')"
      ],
      "metadata": {
        "colab": {
          "base_uri": "https://localhost:8080/"
        },
        "id": "M3IcAv0xnW0o",
        "outputId": "cd9c60ac-283b-4fca-fb49-f1623e2668b4"
      },
      "execution_count": 135,
      "outputs": [
        {
          "output_type": "stream",
          "name": "stdout",
          "text": [
            "The column with more missing values is: Luggage.room\n"
          ]
        }
      ]
    },
    {
      "cell_type": "markdown",
      "source": [
        "# 42. How to replace missing values of multiple numeric columns with the mean?\n",
        "Difficulty Level: L2\n",
        "\n",
        "Replace missing values in Min.Price and Max.Price columns with their respective mean."
      ],
      "metadata": {
        "id": "CnV0Se2Ftb4t"
      }
    },
    {
      "cell_type": "code",
      "source": [
        "df = pd.read_csv('https://raw.githubusercontent.com/selva86/datasets/master/Cars93_miss.csv')\n",
        "mean_max_price = df['Max.Price'].mean()\n",
        "mean_min_price = df['Min.Price'].mean()\n",
        "\n",
        "print(df.head())\n",
        "df['Max.Price'][np.isnan(df['Max.Price'])] = mean_max_price\n",
        "df['Min.Price'][np.isnan(df['Min.Price'])] = mean_min_price\n",
        "print('***********************')\n",
        "print(df.head())"
      ],
      "metadata": {
        "colab": {
          "base_uri": "https://localhost:8080/"
        },
        "id": "QJEdEjHstgde",
        "outputId": "9b2b31fb-6ca5-4e6f-c401-5d8577b3f3bc"
      },
      "execution_count": 175,
      "outputs": [
        {
          "output_type": "stream",
          "name": "stdout",
          "text": [
            "  Manufacturer    Model     Type  Min.Price  Price  Max.Price  MPG.city  \\\n",
            "0        Acura  Integra    Small       12.9   15.9       18.8      25.0   \n",
            "1          NaN   Legend  Midsize       29.2   33.9       38.7      18.0   \n",
            "2         Audi       90  Compact       25.9   29.1       32.3      20.0   \n",
            "3         Audi      100  Midsize        NaN   37.7       44.6      19.0   \n",
            "4          BMW     535i  Midsize        NaN   30.0        NaN      22.0   \n",
            "\n",
            "   MPG.highway             AirBags DriveTrain  ... Passengers  Length  \\\n",
            "0         31.0                None      Front  ...        5.0   177.0   \n",
            "1         25.0  Driver & Passenger      Front  ...        5.0   195.0   \n",
            "2         26.0         Driver only      Front  ...        5.0   180.0   \n",
            "3         26.0  Driver & Passenger        NaN  ...        6.0   193.0   \n",
            "4         30.0                 NaN       Rear  ...        4.0   186.0   \n",
            "\n",
            "   Wheelbase  Width  Turn.circle Rear.seat.room  Luggage.room  Weight  \\\n",
            "0      102.0   68.0         37.0           26.5           NaN  2705.0   \n",
            "1      115.0   71.0         38.0           30.0          15.0  3560.0   \n",
            "2      102.0   67.0         37.0           28.0          14.0  3375.0   \n",
            "3      106.0    NaN         37.0           31.0          17.0  3405.0   \n",
            "4      109.0   69.0         39.0           27.0          13.0  3640.0   \n",
            "\n",
            "    Origin           Make  \n",
            "0  non-USA  Acura Integra  \n",
            "1  non-USA   Acura Legend  \n",
            "2  non-USA        Audi 90  \n",
            "3  non-USA       Audi 100  \n",
            "4  non-USA       BMW 535i  \n",
            "\n",
            "[5 rows x 27 columns]\n",
            "***********************\n",
            "  Manufacturer    Model     Type  Min.Price  Price  Max.Price  MPG.city  \\\n",
            "0        Acura  Integra    Small  12.900000   15.9  18.800000      25.0   \n",
            "1          NaN   Legend  Midsize  29.200000   33.9  38.700000      18.0   \n",
            "2         Audi       90  Compact  25.900000   29.1  32.300000      20.0   \n",
            "3         Audi      100  Midsize  17.118605   37.7  44.600000      19.0   \n",
            "4          BMW     535i  Midsize  17.118605   30.0  21.459091      22.0   \n",
            "\n",
            "   MPG.highway             AirBags DriveTrain  ... Passengers  Length  \\\n",
            "0         31.0                None      Front  ...        5.0   177.0   \n",
            "1         25.0  Driver & Passenger      Front  ...        5.0   195.0   \n",
            "2         26.0         Driver only      Front  ...        5.0   180.0   \n",
            "3         26.0  Driver & Passenger        NaN  ...        6.0   193.0   \n",
            "4         30.0                 NaN       Rear  ...        4.0   186.0   \n",
            "\n",
            "   Wheelbase  Width  Turn.circle Rear.seat.room  Luggage.room  Weight  \\\n",
            "0      102.0   68.0         37.0           26.5           NaN  2705.0   \n",
            "1      115.0   71.0         38.0           30.0          15.0  3560.0   \n",
            "2      102.0   67.0         37.0           28.0          14.0  3375.0   \n",
            "3      106.0    NaN         37.0           31.0          17.0  3405.0   \n",
            "4      109.0   69.0         39.0           27.0          13.0  3640.0   \n",
            "\n",
            "    Origin           Make  \n",
            "0  non-USA  Acura Integra  \n",
            "1  non-USA   Acura Legend  \n",
            "2  non-USA        Audi 90  \n",
            "3  non-USA       Audi 100  \n",
            "4  non-USA       BMW 535i  \n",
            "\n",
            "[5 rows x 27 columns]\n"
          ]
        },
        {
          "output_type": "stream",
          "name": "stderr",
          "text": [
            "<ipython-input-175-a375dd1accb4>:6: SettingWithCopyWarning: \n",
            "A value is trying to be set on a copy of a slice from a DataFrame\n",
            "\n",
            "See the caveats in the documentation: https://pandas.pydata.org/pandas-docs/stable/user_guide/indexing.html#returning-a-view-versus-a-copy\n",
            "  df['Max.Price'][np.isnan(df['Max.Price'])] = mean_max_price\n",
            "<ipython-input-175-a375dd1accb4>:7: SettingWithCopyWarning: \n",
            "A value is trying to be set on a copy of a slice from a DataFrame\n",
            "\n",
            "See the caveats in the documentation: https://pandas.pydata.org/pandas-docs/stable/user_guide/indexing.html#returning-a-view-versus-a-copy\n",
            "  df['Min.Price'][np.isnan(df['Min.Price'])] = mean_min_price\n"
          ]
        }
      ]
    },
    {
      "cell_type": "code",
      "source": [
        "df = pd.read_csv('https://raw.githubusercontent.com/selva86/datasets/master/Cars93_miss.csv')\n",
        "\n",
        "print(df.head())\n",
        "df[['Min.Price', 'Max.Price']] = df[['Min.Price', 'Max.Price']].apply(lambda x: x.fillna(x.mean()))\n",
        "\n",
        "print('***********************')\n",
        "print(df.head())\n",
        "\n"
      ],
      "metadata": {
        "colab": {
          "base_uri": "https://localhost:8080/"
        },
        "id": "Y4n0BeEYv7w_",
        "outputId": "8d8d25e9-03b6-42d3-de8b-7eadd51ea88c"
      },
      "execution_count": 174,
      "outputs": [
        {
          "output_type": "stream",
          "name": "stdout",
          "text": [
            "  Manufacturer    Model     Type  Min.Price  Price  Max.Price  MPG.city  \\\n",
            "0        Acura  Integra    Small       12.9   15.9       18.8      25.0   \n",
            "1          NaN   Legend  Midsize       29.2   33.9       38.7      18.0   \n",
            "2         Audi       90  Compact       25.9   29.1       32.3      20.0   \n",
            "3         Audi      100  Midsize        NaN   37.7       44.6      19.0   \n",
            "4          BMW     535i  Midsize        NaN   30.0        NaN      22.0   \n",
            "\n",
            "   MPG.highway             AirBags DriveTrain  ... Passengers  Length  \\\n",
            "0         31.0                None      Front  ...        5.0   177.0   \n",
            "1         25.0  Driver & Passenger      Front  ...        5.0   195.0   \n",
            "2         26.0         Driver only      Front  ...        5.0   180.0   \n",
            "3         26.0  Driver & Passenger        NaN  ...        6.0   193.0   \n",
            "4         30.0                 NaN       Rear  ...        4.0   186.0   \n",
            "\n",
            "   Wheelbase  Width  Turn.circle Rear.seat.room  Luggage.room  Weight  \\\n",
            "0      102.0   68.0         37.0           26.5           NaN  2705.0   \n",
            "1      115.0   71.0         38.0           30.0          15.0  3560.0   \n",
            "2      102.0   67.0         37.0           28.0          14.0  3375.0   \n",
            "3      106.0    NaN         37.0           31.0          17.0  3405.0   \n",
            "4      109.0   69.0         39.0           27.0          13.0  3640.0   \n",
            "\n",
            "    Origin           Make  \n",
            "0  non-USA  Acura Integra  \n",
            "1  non-USA   Acura Legend  \n",
            "2  non-USA        Audi 90  \n",
            "3  non-USA       Audi 100  \n",
            "4  non-USA       BMW 535i  \n",
            "\n",
            "[5 rows x 27 columns]\n",
            "***********************\n",
            "  Manufacturer    Model     Type  Min.Price  Price  Max.Price  MPG.city  \\\n",
            "0        Acura  Integra    Small  12.900000   15.9  18.800000      25.0   \n",
            "1          NaN   Legend  Midsize  29.200000   33.9  38.700000      18.0   \n",
            "2         Audi       90  Compact  25.900000   29.1  32.300000      20.0   \n",
            "3         Audi      100  Midsize  17.118605   37.7  44.600000      19.0   \n",
            "4          BMW     535i  Midsize  17.118605   30.0  21.459091      22.0   \n",
            "\n",
            "   MPG.highway             AirBags DriveTrain  ... Passengers  Length  \\\n",
            "0         31.0                None      Front  ...        5.0   177.0   \n",
            "1         25.0  Driver & Passenger      Front  ...        5.0   195.0   \n",
            "2         26.0         Driver only      Front  ...        5.0   180.0   \n",
            "3         26.0  Driver & Passenger        NaN  ...        6.0   193.0   \n",
            "4         30.0                 NaN       Rear  ...        4.0   186.0   \n",
            "\n",
            "   Wheelbase  Width  Turn.circle Rear.seat.room  Luggage.room  Weight  \\\n",
            "0      102.0   68.0         37.0           26.5           NaN  2705.0   \n",
            "1      115.0   71.0         38.0           30.0          15.0  3560.0   \n",
            "2      102.0   67.0         37.0           28.0          14.0  3375.0   \n",
            "3      106.0    NaN         37.0           31.0          17.0  3405.0   \n",
            "4      109.0   69.0         39.0           27.0          13.0  3640.0   \n",
            "\n",
            "    Origin           Make  \n",
            "0  non-USA  Acura Integra  \n",
            "1  non-USA   Acura Legend  \n",
            "2  non-USA        Audi 90  \n",
            "3  non-USA       Audi 100  \n",
            "4  non-USA       BMW 535i  \n",
            "\n",
            "[5 rows x 27 columns]\n"
          ]
        }
      ]
    },
    {
      "cell_type": "code",
      "source": [
        "df = pd.read_csv('https://raw.githubusercontent.com/selva86/datasets/master/Cars93_miss.csv')\n",
        "\n",
        "print(df.head())\n",
        "df['Min.Price'] = df['Min.Price'].fillna(df['Min.Price'].mean())\n",
        "\n",
        "print('***********************')\n",
        "print(df.head())"
      ],
      "metadata": {
        "colab": {
          "base_uri": "https://localhost:8080/"
        },
        "id": "Kr1Z1XXDywIw",
        "outputId": "5da0c742-b798-417d-85c6-788d455da9d2"
      },
      "execution_count": 176,
      "outputs": [
        {
          "output_type": "stream",
          "name": "stdout",
          "text": [
            "  Manufacturer    Model     Type  Min.Price  Price  Max.Price  MPG.city  \\\n",
            "0        Acura  Integra    Small       12.9   15.9       18.8      25.0   \n",
            "1          NaN   Legend  Midsize       29.2   33.9       38.7      18.0   \n",
            "2         Audi       90  Compact       25.9   29.1       32.3      20.0   \n",
            "3         Audi      100  Midsize        NaN   37.7       44.6      19.0   \n",
            "4          BMW     535i  Midsize        NaN   30.0        NaN      22.0   \n",
            "\n",
            "   MPG.highway             AirBags DriveTrain  ... Passengers  Length  \\\n",
            "0         31.0                None      Front  ...        5.0   177.0   \n",
            "1         25.0  Driver & Passenger      Front  ...        5.0   195.0   \n",
            "2         26.0         Driver only      Front  ...        5.0   180.0   \n",
            "3         26.0  Driver & Passenger        NaN  ...        6.0   193.0   \n",
            "4         30.0                 NaN       Rear  ...        4.0   186.0   \n",
            "\n",
            "   Wheelbase  Width  Turn.circle Rear.seat.room  Luggage.room  Weight  \\\n",
            "0      102.0   68.0         37.0           26.5           NaN  2705.0   \n",
            "1      115.0   71.0         38.0           30.0          15.0  3560.0   \n",
            "2      102.0   67.0         37.0           28.0          14.0  3375.0   \n",
            "3      106.0    NaN         37.0           31.0          17.0  3405.0   \n",
            "4      109.0   69.0         39.0           27.0          13.0  3640.0   \n",
            "\n",
            "    Origin           Make  \n",
            "0  non-USA  Acura Integra  \n",
            "1  non-USA   Acura Legend  \n",
            "2  non-USA        Audi 90  \n",
            "3  non-USA       Audi 100  \n",
            "4  non-USA       BMW 535i  \n",
            "\n",
            "[5 rows x 27 columns]\n",
            "***********************\n",
            "  Manufacturer    Model     Type  Min.Price  Price  Max.Price  MPG.city  \\\n",
            "0        Acura  Integra    Small  12.900000   15.9       18.8      25.0   \n",
            "1          NaN   Legend  Midsize  29.200000   33.9       38.7      18.0   \n",
            "2         Audi       90  Compact  25.900000   29.1       32.3      20.0   \n",
            "3         Audi      100  Midsize  17.118605   37.7       44.6      19.0   \n",
            "4          BMW     535i  Midsize  17.118605   30.0        NaN      22.0   \n",
            "\n",
            "   MPG.highway             AirBags DriveTrain  ... Passengers  Length  \\\n",
            "0         31.0                None      Front  ...        5.0   177.0   \n",
            "1         25.0  Driver & Passenger      Front  ...        5.0   195.0   \n",
            "2         26.0         Driver only      Front  ...        5.0   180.0   \n",
            "3         26.0  Driver & Passenger        NaN  ...        6.0   193.0   \n",
            "4         30.0                 NaN       Rear  ...        4.0   186.0   \n",
            "\n",
            "   Wheelbase  Width  Turn.circle Rear.seat.room  Luggage.room  Weight  \\\n",
            "0      102.0   68.0         37.0           26.5           NaN  2705.0   \n",
            "1      115.0   71.0         38.0           30.0          15.0  3560.0   \n",
            "2      102.0   67.0         37.0           28.0          14.0  3375.0   \n",
            "3      106.0    NaN         37.0           31.0          17.0  3405.0   \n",
            "4      109.0   69.0         39.0           27.0          13.0  3640.0   \n",
            "\n",
            "    Origin           Make  \n",
            "0  non-USA  Acura Integra  \n",
            "1  non-USA   Acura Legend  \n",
            "2  non-USA        Audi 90  \n",
            "3  non-USA       Audi 100  \n",
            "4  non-USA       BMW 535i  \n",
            "\n",
            "[5 rows x 27 columns]\n"
          ]
        }
      ]
    }
  ]
}